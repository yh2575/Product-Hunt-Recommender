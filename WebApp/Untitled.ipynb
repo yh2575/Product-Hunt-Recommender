{
 "cells": [
  {
   "cell_type": "code",
   "execution_count": 5,
   "metadata": {
    "collapsed": true
   },
   "outputs": [],
   "source": [
    "import pandas as pd\n",
    "import graphlab as gl"
   ]
  },
  {
   "cell_type": "code",
   "execution_count": 2,
   "metadata": {
    "collapsed": false
   },
   "outputs": [
    {
     "name": "stderr",
     "output_type": "stream",
     "text": [
      "/home/joanna/anaconda2/lib/python2.7/site-packages/IPython/core/interactiveshell.py:2717: DtypeWarning: Columns (13,14,15,16,17,18,19,22,25,31,33,35,36,37,38,39,40,42,43,44,45,46,48,50,51,53,55,56,57,60,63,64,66,67,68,69,70,79,81,83,84,85,86,87,88,90,95,100,103,104,106,107,110,113,114,115,118,119,121,122,126,127,131,132,134,135,138,139,140,141,142,148,149,151,152,154,157,159,163,164,167,169,171,173,174,175,178,179,182,185,187,190,193,200,201,204,209,211,215,216,217,218,219,220,221,227,229,230,232,234,236,237,238,239,243,244,247,248,252,253,254,256,258,259,261,262,264,265,266,268,269,271,272,274,275,277,280,281,282,283,284,287,292,293,298,307,310,311,312) have mixed types. Specify dtype option on import or set low_memory=False.\n",
      "  interactivity=interactivity, compiler=compiler, result=result)\n"
     ]
    }
   ],
   "source": [
    "post = pd.read_csv('~/Desktop/producthunt/subsetdata/PostsForAnalysis.txt')\n",
    "columns = post.columns\n",
    "X = post[columns]\n",
    "X = X.drop_duplicates()"
   ]
  },
  {
   "cell_type": "code",
   "execution_count": 4,
   "metadata": {
    "collapsed": false
   },
   "outputs": [
    {
     "data": {
      "text/plain": [
       "id                                                                  82423\n",
       "date                                                           2016-11-16\n",
       "day                                                             Wednesday\n",
       "created_at                                            2016-11-16 00:20:00\n",
       "time_of_day                                                         Night\n",
       "name                                           A.I. Experiments by Google\n",
       "tagline                 Explore machine learning by playing w/ pics, m...\n",
       "thumbnail_type                                                      image\n",
       "product_state                                                     default\n",
       "comments_count                                                         24\n",
       "num_makers                                                              0\n",
       "num_topics                                                              5\n",
       "X3d.printing                                                          NaN\n",
       "X3ds                                                                  NaN\n",
       "a.b.testing                                                           NaN\n",
       "action.games                                                          NaN\n",
       "ad.blockers                                                           NaN\n",
       "adult.coloring.books                                                  NaN\n",
       "adventure.games                                                       NaN\n",
       "advertising                                                           NaN\n",
       "airbnb                                                                NaN\n",
       "alarm.clocks                                                          NaN\n",
       "amazon                                                                NaN\n",
       "analytics                                                             NaN\n",
       "android                                                               NaN\n",
       "anime                                                                 NaN\n",
       "anonymous                                                             NaN\n",
       "apis                                                                  NaN\n",
       "apple.tv                                                              NaN\n",
       "apple.watch                                                           NaN\n",
       "                                              ...                        \n",
       "time.tracking                                                         NaN\n",
       "to.do                                                                 NaN\n",
       "touch.bar.apps                                                        NaN\n",
       "transportation                                                        NaN\n",
       "travel                                                                NaN\n",
       "tv                                                                    NaN\n",
       "twitter                                                               NaN\n",
       "typography                                                            NaN\n",
       "uber                                                                  NaN\n",
       "usability                                                             NaN\n",
       "user.experience                                                       NaN\n",
       "venture.capital                                                       NaN\n",
       "video.streaming                                                       NaN\n",
       "vim                                                                   NaN\n",
       "virtual.assistants                                                    NaN\n",
       "virtual.reality                                                       NaN\n",
       "wearables                                                             NaN\n",
       "weather.apps                                                          NaN\n",
       "web                                                                  True\n",
       "weird                                                                 NaN\n",
       "wi.fi                                                                 NaN\n",
       "windows                                                               NaN\n",
       "wine                                                                  NaN\n",
       "wordpress                                                             NaN\n",
       "writing.tools                                                         NaN\n",
       "xbox.one                                                              NaN\n",
       "yoga.books                                                            NaN\n",
       "youtube                                                               NaN\n",
       "user_id                                                             61044\n",
       "votes_count                                                          1500\n",
       "Name: 0, dtype: object"
      ]
     },
     "execution_count": 4,
     "metadata": {},
     "output_type": "execute_result"
    }
   ],
   "source": [
    "X.ix[0]"
   ]
  },
  {
   "cell_type": "code",
   "execution_count": 6,
   "metadata": {
    "collapsed": false
   },
   "outputs": [
    {
     "name": "stdout",
     "output_type": "stream",
     "text": [
      "This non-commercial license of GraphLab Create for academic use is assigned to joanna.hou2016@gmail.com and will expire on January 06, 2018.\n"
     ]
    },
    {
     "name": "stderr",
     "output_type": "stream",
     "text": [
      "[INFO] graphlab.cython.cy_server: GraphLab Create v2.1 started. Logging: /tmp/graphlab_server_1485988317.log\n"
     ]
    }
   ],
   "source": [
    "model = gl.load_model('item_content_recommender')"
   ]
  },
  {
   "cell_type": "code",
   "execution_count": 7,
   "metadata": {
    "collapsed": true
   },
   "outputs": [],
   "source": [
    "raw_data = [42943]\n",
    "nn = model.get_similar_items(raw_data, 5)\n",
    "nn_pd = nn.to_dataframe()"
   ]
  },
  {
   "cell_type": "code",
   "execution_count": 8,
   "metadata": {
    "collapsed": false
   },
   "outputs": [
    {
     "data": {
      "text/html": [
       "<div>\n",
       "<table border=\"1\" class=\"dataframe\">\n",
       "  <thead>\n",
       "    <tr style=\"text-align: right;\">\n",
       "      <th></th>\n",
       "      <th>id</th>\n",
       "      <th>similar</th>\n",
       "      <th>score</th>\n",
       "      <th>rank</th>\n",
       "    </tr>\n",
       "  </thead>\n",
       "  <tbody>\n",
       "    <tr>\n",
       "      <th>0</th>\n",
       "      <td>42943</td>\n",
       "      <td>81115</td>\n",
       "      <td>0.992016</td>\n",
       "      <td>1</td>\n",
       "    </tr>\n",
       "    <tr>\n",
       "      <th>1</th>\n",
       "      <td>42943</td>\n",
       "      <td>34517</td>\n",
       "      <td>0.991303</td>\n",
       "      <td>2</td>\n",
       "    </tr>\n",
       "    <tr>\n",
       "      <th>2</th>\n",
       "      <td>42943</td>\n",
       "      <td>12428</td>\n",
       "      <td>0.990816</td>\n",
       "      <td>3</td>\n",
       "    </tr>\n",
       "    <tr>\n",
       "      <th>3</th>\n",
       "      <td>42943</td>\n",
       "      <td>59728</td>\n",
       "      <td>0.990745</td>\n",
       "      <td>4</td>\n",
       "    </tr>\n",
       "    <tr>\n",
       "      <th>4</th>\n",
       "      <td>42943</td>\n",
       "      <td>46044</td>\n",
       "      <td>0.990611</td>\n",
       "      <td>5</td>\n",
       "    </tr>\n",
       "  </tbody>\n",
       "</table>\n",
       "</div>"
      ],
      "text/plain": [
       "      id  similar     score  rank\n",
       "0  42943    81115  0.992016     1\n",
       "1  42943    34517  0.991303     2\n",
       "2  42943    12428  0.990816     3\n",
       "3  42943    59728  0.990745     4\n",
       "4  42943    46044  0.990611     5"
      ]
     },
     "execution_count": 8,
     "metadata": {},
     "output_type": "execute_result"
    }
   ],
   "source": [
    "nn_pd"
   ]
  },
  {
   "cell_type": "code",
   "execution_count": 10,
   "metadata": {
    "collapsed": false
   },
   "outputs": [],
   "source": [
    "rec = X[X['id'].isin(nn_pd.similar)]"
   ]
  },
  {
   "cell_type": "code",
   "execution_count": 21,
   "metadata": {
    "collapsed": false
   },
   "outputs": [
    {
     "data": {
      "text/plain": [
       "317      81115\n",
       "4843     59728\n",
       "7610     46044\n",
       "10015    34517\n",
       "17360    12428\n",
       "Name: id, dtype: int64"
      ]
     },
     "execution_count": 21,
     "metadata": {},
     "output_type": "execute_result"
    }
   ],
   "source": [
    "rec1 = rec[['id', 'name', 'tagline','date', 'votes_count']]\n",
    "rec1.id"
   ]
  },
  {
   "cell_type": "code",
   "execution_count": 41,
   "metadata": {
    "collapsed": false
   },
   "outputs": [
    {
     "name": "stderr",
     "output_type": "stream",
     "text": [
      "/home/joanna/anaconda2/lib/python2.7/site-packages/ipykernel/__main__.py:1: SettingWithCopyWarning: \n",
      "A value is trying to be set on a copy of a slice from a DataFrame.\n",
      "Try using .loc[row_indexer,col_indexer] = value instead\n",
      "\n",
      "See the caveats in the documentation: http://pandas.pydata.org/pandas-docs/stable/indexing.html#indexing-view-versus-copy\n",
      "  if __name__ == '__main__':\n"
     ]
    }
   ],
   "source": [
    "rec1['url']='https://www.producthunt.com/posts/'"
   ]
  },
  {
   "cell_type": "code",
   "execution_count": 55,
   "metadata": {
    "collapsed": false
   },
   "outputs": [],
   "source": [
    "f = [rec1.url, rec1.product_id ]"
   ]
  },
  {
   "cell_type": "code",
   "execution_count": 64,
   "metadata": {
    "collapsed": false
   },
   "outputs": [
    {
     "ename": "TypeError",
     "evalue": "first argument must be an iterable of pandas objects, you passed an object of type \"DataFrame\"",
     "output_type": "error",
     "traceback": [
      "\u001b[0;31m---------------------------------------------------------------------------\u001b[0m",
      "\u001b[0;31mTypeError\u001b[0m                                 Traceback (most recent call last)",
      "\u001b[0;32m<ipython-input-64-6e94a377031f>\u001b[0m in \u001b[0;36m<module>\u001b[0;34m()\u001b[0m\n\u001b[0;32m----> 1\u001b[0;31m \u001b[0mf\u001b[0m \u001b[0;34m=\u001b[0m \u001b[0mpd\u001b[0m\u001b[0;34m.\u001b[0m\u001b[0mconcat\u001b[0m\u001b[0;34m(\u001b[0m\u001b[0mf\u001b[0m\u001b[0;34m,\u001b[0m \u001b[0maxis\u001b[0m\u001b[0;34m=\u001b[0m\u001b[0;36m1\u001b[0m\u001b[0;34m)\u001b[0m\u001b[0;34m\u001b[0m\u001b[0m\n\u001b[0m",
      "\u001b[0;32m/home/joanna/anaconda2/lib/python2.7/site-packages/pandas/tools/merge.pyc\u001b[0m in \u001b[0;36mconcat\u001b[0;34m(objs, axis, join, join_axes, ignore_index, keys, levels, names, verify_integrity, copy)\u001b[0m\n\u001b[1;32m   1449\u001b[0m                        \u001b[0mkeys\u001b[0m\u001b[0;34m=\u001b[0m\u001b[0mkeys\u001b[0m\u001b[0;34m,\u001b[0m \u001b[0mlevels\u001b[0m\u001b[0;34m=\u001b[0m\u001b[0mlevels\u001b[0m\u001b[0;34m,\u001b[0m \u001b[0mnames\u001b[0m\u001b[0;34m=\u001b[0m\u001b[0mnames\u001b[0m\u001b[0;34m,\u001b[0m\u001b[0;34m\u001b[0m\u001b[0m\n\u001b[1;32m   1450\u001b[0m                        \u001b[0mverify_integrity\u001b[0m\u001b[0;34m=\u001b[0m\u001b[0mverify_integrity\u001b[0m\u001b[0;34m,\u001b[0m\u001b[0;34m\u001b[0m\u001b[0m\n\u001b[0;32m-> 1451\u001b[0;31m                        copy=copy)\n\u001b[0m\u001b[1;32m   1452\u001b[0m     \u001b[0;32mreturn\u001b[0m \u001b[0mop\u001b[0m\u001b[0;34m.\u001b[0m\u001b[0mget_result\u001b[0m\u001b[0;34m(\u001b[0m\u001b[0;34m)\u001b[0m\u001b[0;34m\u001b[0m\u001b[0m\n\u001b[1;32m   1453\u001b[0m \u001b[0;34m\u001b[0m\u001b[0m\n",
      "\u001b[0;32m/home/joanna/anaconda2/lib/python2.7/site-packages/pandas/tools/merge.pyc\u001b[0m in \u001b[0;36m__init__\u001b[0;34m(self, objs, axis, join, join_axes, keys, levels, names, ignore_index, verify_integrity, copy)\u001b[0m\n\u001b[1;32m   1464\u001b[0m             raise TypeError('first argument must be an iterable of pandas '\n\u001b[1;32m   1465\u001b[0m                             \u001b[0;34m'objects, you passed an object of type '\u001b[0m\u001b[0;34m\u001b[0m\u001b[0m\n\u001b[0;32m-> 1466\u001b[0;31m                             '\"{0}\"'.format(type(objs).__name__))\n\u001b[0m\u001b[1;32m   1467\u001b[0m \u001b[0;34m\u001b[0m\u001b[0m\n\u001b[1;32m   1468\u001b[0m         \u001b[0;32mif\u001b[0m \u001b[0mjoin\u001b[0m \u001b[0;34m==\u001b[0m \u001b[0;34m'outer'\u001b[0m\u001b[0;34m:\u001b[0m\u001b[0;34m\u001b[0m\u001b[0m\n",
      "\u001b[0;31mTypeError\u001b[0m: first argument must be an iterable of pandas objects, you passed an object of type \"DataFrame\""
     ]
    }
   ],
   "source": [
    "f = pd.concat(f, axis=1)"
   ]
  },
  {
   "cell_type": "code",
   "execution_count": 60,
   "metadata": {
    "collapsed": false
   },
   "outputs": [],
   "source": [
    "f['new'] = f['url'] + f['product_id'].astype('str')"
   ]
  },
  {
   "cell_type": "code",
   "execution_count": 62,
   "metadata": {
    "collapsed": false
   },
   "outputs": [
    {
     "data": {
      "text/plain": [
       "317      https://www.producthunt.com/posts/81115\n",
       "4843     https://www.producthunt.com/posts/59728\n",
       "7610     https://www.producthunt.com/posts/46044\n",
       "10015    https://www.producthunt.com/posts/34517\n",
       "17360    https://www.producthunt.com/posts/12428\n",
       "Name: new, dtype: object"
      ]
     },
     "execution_count": 62,
     "metadata": {},
     "output_type": "execute_result"
    }
   ],
   "source": [
    "f['new'].head()"
   ]
  },
  {
   "cell_type": "code",
   "execution_count": 34,
   "metadata": {
    "collapsed": false
   },
   "outputs": [
    {
     "name": "stderr",
     "output_type": "stream",
     "text": [
      "/home/joanna/anaconda2/lib/python2.7/site-packages/ipykernel/__main__.py:1: SettingWithCopyWarning: \n",
      "A value is trying to be set on a copy of a slice from a DataFrame.\n",
      "Try using .loc[row_indexer,col_indexer] = value instead\n",
      "\n",
      "See the caveats in the documentation: http://pandas.pydata.org/pandas-docs/stable/indexing.html#indexing-view-versus-copy\n",
      "  if __name__ == '__main__':\n"
     ]
    }
   ],
   "source": [
    "rec1['product_id']=rec1.id"
   ]
  },
  {
   "cell_type": "code",
   "execution_count": 50,
   "metadata": {
    "collapsed": false
   },
   "outputs": [
    {
     "name": "stderr",
     "output_type": "stream",
     "text": [
      "/home/joanna/anaconda2/lib/python2.7/site-packages/ipykernel/__main__.py:1: SettingWithCopyWarning: \n",
      "A value is trying to be set on a copy of a slice from a DataFrame.\n",
      "Try using .loc[row_indexer,col_indexer] = value instead\n",
      "\n",
      "See the caveats in the documentation: http://pandas.pydata.org/pandas-docs/stable/indexing.html#indexing-view-versus-copy\n",
      "  if __name__ == '__main__':\n"
     ]
    }
   ],
   "source": [
    "rec1['url1'] = '{}+{}'.format(rec1.url, rec1.product_id)"
   ]
  },
  {
   "cell_type": "code",
   "execution_count": 51,
   "metadata": {
    "collapsed": false
   },
   "outputs": [
    {
     "data": {
      "text/plain": [
       "317      317      https://www.producthunt.com/posts/\\n4...\n",
       "4843     317      https://www.producthunt.com/posts/\\n4...\n",
       "7610     317      https://www.producthunt.com/posts/\\n4...\n",
       "10015    317      https://www.producthunt.com/posts/\\n4...\n",
       "17360    317      https://www.producthunt.com/posts/\\n4...\n",
       "Name: url1, dtype: object"
      ]
     },
     "execution_count": 51,
     "metadata": {},
     "output_type": "execute_result"
    }
   ],
   "source": [
    "rec1.url1"
   ]
  },
  {
   "cell_type": "code",
   "execution_count": 52,
   "metadata": {
    "collapsed": false
   },
   "outputs": [
    {
     "data": {
      "text/plain": [
       "317      81115\n",
       "4843     59728\n",
       "7610     46044\n",
       "10015    34517\n",
       "17360    12428\n",
       "Name: product_id, dtype: int64"
      ]
     },
     "execution_count": 52,
     "metadata": {},
     "output_type": "execute_result"
    }
   ],
   "source": [
    "rec1.product_id"
   ]
  },
  {
   "cell_type": "code",
   "execution_count": 69,
   "metadata": {
    "collapsed": false
   },
   "outputs": [
    {
     "data": {
      "text/plain": [
       "317      81115\n",
       "4843     59728\n",
       "7610     46044\n",
       "10015    34517\n",
       "17360    12428\n",
       "Name: product_id, dtype: int64"
      ]
     },
     "execution_count": 69,
     "metadata": {},
     "output_type": "execute_result"
    }
   ],
   "source": [
    "rec1.pop('product_id')"
   ]
  },
  {
   "cell_type": "code",
   "execution_count": 71,
   "metadata": {
    "collapsed": false
   },
   "outputs": [
    {
     "data": {
      "text/plain": [
       "317      317      https://www.producthunt.com/posts/\\n4...\n",
       "4843     317      https://www.producthunt.com/posts/\\n4...\n",
       "7610     317      https://www.producthunt.com/posts/\\n4...\n",
       "10015    317      https://www.producthunt.com/posts/\\n4...\n",
       "17360    317      https://www.producthunt.com/posts/\\n4...\n",
       "Name: url1, dtype: object"
      ]
     },
     "execution_count": 71,
     "metadata": {},
     "output_type": "execute_result"
    }
   ],
   "source": [
    "rec1.pop('url1')"
   ]
  },
  {
   "cell_type": "code",
   "execution_count": 95,
   "metadata": {
    "collapsed": false
   },
   "outputs": [],
   "source": [
    "doc = X[X['id']==42943].tagline"
   ]
  },
  {
   "cell_type": "code",
   "execution_count": 132,
   "metadata": {
    "collapsed": false
   },
   "outputs": [
    {
     "data": {
      "text/plain": [
       "2459    Super fast and easy social media sharing buttons.\n",
       "Name: tagline, dtype: object"
      ]
     },
     "execution_count": 132,
     "metadata": {},
     "output_type": "execute_result"
    }
   ],
   "source": [
    "doc"
   ]
  },
  {
   "cell_type": "code",
   "execution_count": 97,
   "metadata": {
    "collapsed": true
   },
   "outputs": [],
   "source": [
    "from sklearn.feature_extraction.text import CountVectorizer, TfidfVectorizer"
   ]
  },
  {
   "cell_type": "code",
   "execution_count": 118,
   "metadata": {
    "collapsed": true
   },
   "outputs": [],
   "source": [
    "from io import StringIO"
   ]
  },
  {
   "cell_type": "code",
   "execution_count": 122,
   "metadata": {
    "collapsed": false
   },
   "outputs": [],
   "source": [
    "doc2_pd = pd.Series(doc2)"
   ]
  },
  {
   "cell_type": "code",
   "execution_count": 133,
   "metadata": {
    "collapsed": false
   },
   "outputs": [],
   "source": [
    "doc2 = rec1.iloc[0].tagline"
   ]
  },
  {
   "cell_type": "code",
   "execution_count": 134,
   "metadata": {
    "collapsed": false
   },
   "outputs": [
    {
     "data": {
      "text/plain": [
       "'Beautiful websites with a few lines of markdown'"
      ]
     },
     "execution_count": 134,
     "metadata": {},
     "output_type": "execute_result"
    }
   ],
   "source": [
    "doc2"
   ]
  },
  {
   "cell_type": "code",
   "execution_count": 101,
   "metadata": {
    "collapsed": false
   },
   "outputs": [],
   "source": [
    "tfidfvect = TfidfVectorizer(stop_words='english')\n",
    "tfidf = tfidfvect.fit(X.tagline)\n"
   ]
  },
  {
   "cell_type": "code",
   "execution_count": 114,
   "metadata": {
    "collapsed": false
   },
   "outputs": [
    {
     "data": {
      "text/plain": [
       "pandas.core.series.Series"
      ]
     },
     "execution_count": 114,
     "metadata": {},
     "output_type": "execute_result"
    }
   ],
   "source": [
    "type(doc)"
   ]
  },
  {
   "cell_type": "code",
   "execution_count": 115,
   "metadata": {
    "collapsed": false
   },
   "outputs": [
    {
     "data": {
      "text/plain": [
       "str"
      ]
     },
     "execution_count": 115,
     "metadata": {},
     "output_type": "execute_result"
    }
   ],
   "source": [
    "type(doc2)"
   ]
  },
  {
   "cell_type": "code",
   "execution_count": 102,
   "metadata": {
    "collapsed": true
   },
   "outputs": [],
   "source": [
    "tfidf_vectorized_1=tfidf.transform(doc)"
   ]
  },
  {
   "cell_type": "code",
   "execution_count": 123,
   "metadata": {
    "collapsed": false
   },
   "outputs": [],
   "source": [
    "tfidf_vectorized_2 = tfidf.transform(doc2_pd)"
   ]
  },
  {
   "cell_type": "code",
   "execution_count": 124,
   "metadata": {
    "collapsed": true
   },
   "outputs": [],
   "source": [
    "from sklearn.metrics.pairwise import linear_kernel"
   ]
  },
  {
   "cell_type": "code",
   "execution_count": 130,
   "metadata": {
    "collapsed": true
   },
   "outputs": [],
   "source": [
    "cosine_similarities = linear_kernel(tfidf_vectorized_1, tfidf_vectorized_1)"
   ]
  },
  {
   "cell_type": "code",
   "execution_count": 131,
   "metadata": {
    "collapsed": false
   },
   "outputs": [
    {
     "data": {
      "text/plain": [
       "array([[ 1.]])"
      ]
     },
     "execution_count": 131,
     "metadata": {},
     "output_type": "execute_result"
    }
   ],
   "source": [
    "for i, doc1 in enumerate(docs):\n",
    "    for j, doc2 in enumerate(docs):\n",
    "        print i, j, cosine_similarities[i, j]"
   ]
  },
  {
   "cell_type": "code",
   "execution_count": 128,
   "metadata": {
    "collapsed": false
   },
   "outputs": [
    {
     "data": {
      "text/plain": [
       "array([ 0.39843534,  0.31513659,  0.37019407,  0.3668238 ,  0.3498115 ,\n",
       "        0.32740014,  0.49068924])"
      ]
     },
     "execution_count": 128,
     "metadata": {},
     "output_type": "execute_result"
    }
   ],
   "source": [
    "tfidf_vectorized_1.data"
   ]
  },
  {
   "cell_type": "code",
   "execution_count": 129,
   "metadata": {
    "collapsed": false
   },
   "outputs": [
    {
     "data": {
      "text/plain": [
       "array([ 0.45797363,  0.54332766,  0.59925483,  0.36871242])"
      ]
     },
     "execution_count": 129,
     "metadata": {},
     "output_type": "execute_result"
    }
   ],
   "source": [
    "tfidf_vectorized_2.data"
   ]
  },
  {
   "cell_type": "code",
   "execution_count": 126,
   "metadata": {
    "collapsed": false
   },
   "outputs": [
    {
     "data": {
      "text/plain": [
       "array([[ 0.]])"
      ]
     },
     "execution_count": 126,
     "metadata": {},
     "output_type": "execute_result"
    }
   ],
   "source": [
    "cosine_similarities"
   ]
  },
  {
   "cell_type": "code",
   "execution_count": 76,
   "metadata": {
    "collapsed": true
   },
   "outputs": [],
   "source": [
    "data = pd.read_csv('data_40.csv')"
   ]
  },
  {
   "cell_type": "code",
   "execution_count": 77,
   "metadata": {
    "collapsed": false
   },
   "outputs": [
    {
     "data": {
      "text/html": [
       "<div>\n",
       "<table border=\"1\" class=\"dataframe\">\n",
       "  <thead>\n",
       "    <tr style=\"text-align: right;\">\n",
       "      <th></th>\n",
       "      <th>Unnamed: 0</th>\n",
       "      <th>product_id</th>\n",
       "      <th>user_id</th>\n",
       "      <th>votes</th>\n",
       "    </tr>\n",
       "  </thead>\n",
       "  <tbody>\n",
       "    <tr>\n",
       "      <th>0</th>\n",
       "      <td>0</td>\n",
       "      <td>7027</td>\n",
       "      <td>166151</td>\n",
       "      <td>1</td>\n",
       "    </tr>\n",
       "    <tr>\n",
       "      <th>1</th>\n",
       "      <td>1</td>\n",
       "      <td>33216</td>\n",
       "      <td>522823</td>\n",
       "      <td>1</td>\n",
       "    </tr>\n",
       "    <tr>\n",
       "      <th>2</th>\n",
       "      <td>2</td>\n",
       "      <td>73325</td>\n",
       "      <td>443377</td>\n",
       "      <td>1</td>\n",
       "    </tr>\n",
       "    <tr>\n",
       "      <th>3</th>\n",
       "      <td>3</td>\n",
       "      <td>7063</td>\n",
       "      <td>115829</td>\n",
       "      <td>1</td>\n",
       "    </tr>\n",
       "    <tr>\n",
       "      <th>4</th>\n",
       "      <td>4</td>\n",
       "      <td>35364</td>\n",
       "      <td>290678</td>\n",
       "      <td>1</td>\n",
       "    </tr>\n",
       "    <tr>\n",
       "      <th>5</th>\n",
       "      <td>5</td>\n",
       "      <td>7629</td>\n",
       "      <td>22344</td>\n",
       "      <td>1</td>\n",
       "    </tr>\n",
       "    <tr>\n",
       "      <th>6</th>\n",
       "      <td>6</td>\n",
       "      <td>74196</td>\n",
       "      <td>416278</td>\n",
       "      <td>1</td>\n",
       "    </tr>\n",
       "    <tr>\n",
       "      <th>7</th>\n",
       "      <td>7</td>\n",
       "      <td>2385</td>\n",
       "      <td>1938</td>\n",
       "      <td>1</td>\n",
       "    </tr>\n",
       "    <tr>\n",
       "      <th>8</th>\n",
       "      <td>8</td>\n",
       "      <td>10936</td>\n",
       "      <td>47518</td>\n",
       "      <td>1</td>\n",
       "    </tr>\n",
       "    <tr>\n",
       "      <th>9</th>\n",
       "      <td>9</td>\n",
       "      <td>43001</td>\n",
       "      <td>151665</td>\n",
       "      <td>1</td>\n",
       "    </tr>\n",
       "    <tr>\n",
       "      <th>10</th>\n",
       "      <td>10</td>\n",
       "      <td>47282</td>\n",
       "      <td>42628</td>\n",
       "      <td>1</td>\n",
       "    </tr>\n",
       "    <tr>\n",
       "      <th>11</th>\n",
       "      <td>11</td>\n",
       "      <td>33695</td>\n",
       "      <td>57210</td>\n",
       "      <td>1</td>\n",
       "    </tr>\n",
       "    <tr>\n",
       "      <th>12</th>\n",
       "      <td>12</td>\n",
       "      <td>13276</td>\n",
       "      <td>30869</td>\n",
       "      <td>1</td>\n",
       "    </tr>\n",
       "    <tr>\n",
       "      <th>13</th>\n",
       "      <td>13</td>\n",
       "      <td>50731</td>\n",
       "      <td>354747</td>\n",
       "      <td>1</td>\n",
       "    </tr>\n",
       "    <tr>\n",
       "      <th>14</th>\n",
       "      <td>14</td>\n",
       "      <td>11081</td>\n",
       "      <td>10873</td>\n",
       "      <td>1</td>\n",
       "    </tr>\n",
       "    <tr>\n",
       "      <th>15</th>\n",
       "      <td>15</td>\n",
       "      <td>64545</td>\n",
       "      <td>20789</td>\n",
       "      <td>1</td>\n",
       "    </tr>\n",
       "    <tr>\n",
       "      <th>16</th>\n",
       "      <td>16</td>\n",
       "      <td>23183</td>\n",
       "      <td>217079</td>\n",
       "      <td>1</td>\n",
       "    </tr>\n",
       "    <tr>\n",
       "      <th>17</th>\n",
       "      <td>17</td>\n",
       "      <td>29118</td>\n",
       "      <td>86850</td>\n",
       "      <td>1</td>\n",
       "    </tr>\n",
       "    <tr>\n",
       "      <th>18</th>\n",
       "      <td>18</td>\n",
       "      <td>15789</td>\n",
       "      <td>560347</td>\n",
       "      <td>1</td>\n",
       "    </tr>\n",
       "    <tr>\n",
       "      <th>19</th>\n",
       "      <td>19</td>\n",
       "      <td>26439</td>\n",
       "      <td>53427</td>\n",
       "      <td>1</td>\n",
       "    </tr>\n",
       "    <tr>\n",
       "      <th>20</th>\n",
       "      <td>20</td>\n",
       "      <td>52426</td>\n",
       "      <td>349614</td>\n",
       "      <td>1</td>\n",
       "    </tr>\n",
       "    <tr>\n",
       "      <th>21</th>\n",
       "      <td>21</td>\n",
       "      <td>3142</td>\n",
       "      <td>9782</td>\n",
       "      <td>1</td>\n",
       "    </tr>\n",
       "    <tr>\n",
       "      <th>22</th>\n",
       "      <td>22</td>\n",
       "      <td>83856</td>\n",
       "      <td>172665</td>\n",
       "      <td>1</td>\n",
       "    </tr>\n",
       "    <tr>\n",
       "      <th>23</th>\n",
       "      <td>23</td>\n",
       "      <td>7397</td>\n",
       "      <td>196193</td>\n",
       "      <td>1</td>\n",
       "    </tr>\n",
       "    <tr>\n",
       "      <th>24</th>\n",
       "      <td>24</td>\n",
       "      <td>72620</td>\n",
       "      <td>75951</td>\n",
       "      <td>1</td>\n",
       "    </tr>\n",
       "    <tr>\n",
       "      <th>25</th>\n",
       "      <td>25</td>\n",
       "      <td>64413</td>\n",
       "      <td>628265</td>\n",
       "      <td>1</td>\n",
       "    </tr>\n",
       "    <tr>\n",
       "      <th>26</th>\n",
       "      <td>26</td>\n",
       "      <td>68023</td>\n",
       "      <td>659144</td>\n",
       "      <td>1</td>\n",
       "    </tr>\n",
       "    <tr>\n",
       "      <th>27</th>\n",
       "      <td>27</td>\n",
       "      <td>6449</td>\n",
       "      <td>32778</td>\n",
       "      <td>1</td>\n",
       "    </tr>\n",
       "    <tr>\n",
       "      <th>28</th>\n",
       "      <td>28</td>\n",
       "      <td>83444</td>\n",
       "      <td>946</td>\n",
       "      <td>1</td>\n",
       "    </tr>\n",
       "    <tr>\n",
       "      <th>29</th>\n",
       "      <td>29</td>\n",
       "      <td>51827</td>\n",
       "      <td>64298</td>\n",
       "      <td>1</td>\n",
       "    </tr>\n",
       "    <tr>\n",
       "      <th>...</th>\n",
       "      <td>...</td>\n",
       "      <td>...</td>\n",
       "      <td>...</td>\n",
       "      <td>...</td>\n",
       "    </tr>\n",
       "    <tr>\n",
       "      <th>932152</th>\n",
       "      <td>932152</td>\n",
       "      <td>28591</td>\n",
       "      <td>17725</td>\n",
       "      <td>1</td>\n",
       "    </tr>\n",
       "    <tr>\n",
       "      <th>932153</th>\n",
       "      <td>932153</td>\n",
       "      <td>47606</td>\n",
       "      <td>115829</td>\n",
       "      <td>1</td>\n",
       "    </tr>\n",
       "    <tr>\n",
       "      <th>932154</th>\n",
       "      <td>932154</td>\n",
       "      <td>44873</td>\n",
       "      <td>49700</td>\n",
       "      <td>1</td>\n",
       "    </tr>\n",
       "    <tr>\n",
       "      <th>932155</th>\n",
       "      <td>932155</td>\n",
       "      <td>15201</td>\n",
       "      <td>37506</td>\n",
       "      <td>1</td>\n",
       "    </tr>\n",
       "    <tr>\n",
       "      <th>932156</th>\n",
       "      <td>932156</td>\n",
       "      <td>41490</td>\n",
       "      <td>39318</td>\n",
       "      <td>1</td>\n",
       "    </tr>\n",
       "    <tr>\n",
       "      <th>932157</th>\n",
       "      <td>932157</td>\n",
       "      <td>14792</td>\n",
       "      <td>568407</td>\n",
       "      <td>1</td>\n",
       "    </tr>\n",
       "    <tr>\n",
       "      <th>932158</th>\n",
       "      <td>932158</td>\n",
       "      <td>3303</td>\n",
       "      <td>485965</td>\n",
       "      <td>1</td>\n",
       "    </tr>\n",
       "    <tr>\n",
       "      <th>932159</th>\n",
       "      <td>932159</td>\n",
       "      <td>40443</td>\n",
       "      <td>123953</td>\n",
       "      <td>1</td>\n",
       "    </tr>\n",
       "    <tr>\n",
       "      <th>932160</th>\n",
       "      <td>932160</td>\n",
       "      <td>53017</td>\n",
       "      <td>272718</td>\n",
       "      <td>1</td>\n",
       "    </tr>\n",
       "    <tr>\n",
       "      <th>932161</th>\n",
       "      <td>932161</td>\n",
       "      <td>8010</td>\n",
       "      <td>15604</td>\n",
       "      <td>1</td>\n",
       "    </tr>\n",
       "    <tr>\n",
       "      <th>932162</th>\n",
       "      <td>932162</td>\n",
       "      <td>39843</td>\n",
       "      <td>459974</td>\n",
       "      <td>1</td>\n",
       "    </tr>\n",
       "    <tr>\n",
       "      <th>932163</th>\n",
       "      <td>932163</td>\n",
       "      <td>13021</td>\n",
       "      <td>17030</td>\n",
       "      <td>1</td>\n",
       "    </tr>\n",
       "    <tr>\n",
       "      <th>932164</th>\n",
       "      <td>932164</td>\n",
       "      <td>29880</td>\n",
       "      <td>37000</td>\n",
       "      <td>1</td>\n",
       "    </tr>\n",
       "    <tr>\n",
       "      <th>932165</th>\n",
       "      <td>932165</td>\n",
       "      <td>20055</td>\n",
       "      <td>81535</td>\n",
       "      <td>1</td>\n",
       "    </tr>\n",
       "    <tr>\n",
       "      <th>932166</th>\n",
       "      <td>932166</td>\n",
       "      <td>13450</td>\n",
       "      <td>39504</td>\n",
       "      <td>1</td>\n",
       "    </tr>\n",
       "    <tr>\n",
       "      <th>932167</th>\n",
       "      <td>932167</td>\n",
       "      <td>26323</td>\n",
       "      <td>250018</td>\n",
       "      <td>1</td>\n",
       "    </tr>\n",
       "    <tr>\n",
       "      <th>932168</th>\n",
       "      <td>932168</td>\n",
       "      <td>40730</td>\n",
       "      <td>384190</td>\n",
       "      <td>1</td>\n",
       "    </tr>\n",
       "    <tr>\n",
       "      <th>932169</th>\n",
       "      <td>932169</td>\n",
       "      <td>15893</td>\n",
       "      <td>181355</td>\n",
       "      <td>1</td>\n",
       "    </tr>\n",
       "    <tr>\n",
       "      <th>932170</th>\n",
       "      <td>932170</td>\n",
       "      <td>47282</td>\n",
       "      <td>417407</td>\n",
       "      <td>1</td>\n",
       "    </tr>\n",
       "    <tr>\n",
       "      <th>932171</th>\n",
       "      <td>932171</td>\n",
       "      <td>6029</td>\n",
       "      <td>99145</td>\n",
       "      <td>1</td>\n",
       "    </tr>\n",
       "    <tr>\n",
       "      <th>932172</th>\n",
       "      <td>932172</td>\n",
       "      <td>86025</td>\n",
       "      <td>13922</td>\n",
       "      <td>1</td>\n",
       "    </tr>\n",
       "    <tr>\n",
       "      <th>932173</th>\n",
       "      <td>932173</td>\n",
       "      <td>47958</td>\n",
       "      <td>33231</td>\n",
       "      <td>1</td>\n",
       "    </tr>\n",
       "    <tr>\n",
       "      <th>932174</th>\n",
       "      <td>932174</td>\n",
       "      <td>33002</td>\n",
       "      <td>23628</td>\n",
       "      <td>1</td>\n",
       "    </tr>\n",
       "    <tr>\n",
       "      <th>932175</th>\n",
       "      <td>932175</td>\n",
       "      <td>5575</td>\n",
       "      <td>144770</td>\n",
       "      <td>1</td>\n",
       "    </tr>\n",
       "    <tr>\n",
       "      <th>932176</th>\n",
       "      <td>932176</td>\n",
       "      <td>69884</td>\n",
       "      <td>347666</td>\n",
       "      <td>1</td>\n",
       "    </tr>\n",
       "    <tr>\n",
       "      <th>932177</th>\n",
       "      <td>932177</td>\n",
       "      <td>32980</td>\n",
       "      <td>51946</td>\n",
       "      <td>1</td>\n",
       "    </tr>\n",
       "    <tr>\n",
       "      <th>932178</th>\n",
       "      <td>932178</td>\n",
       "      <td>69960</td>\n",
       "      <td>479144</td>\n",
       "      <td>1</td>\n",
       "    </tr>\n",
       "    <tr>\n",
       "      <th>932179</th>\n",
       "      <td>932179</td>\n",
       "      <td>8482</td>\n",
       "      <td>50051</td>\n",
       "      <td>1</td>\n",
       "    </tr>\n",
       "    <tr>\n",
       "      <th>932180</th>\n",
       "      <td>932180</td>\n",
       "      <td>62183</td>\n",
       "      <td>404092</td>\n",
       "      <td>1</td>\n",
       "    </tr>\n",
       "    <tr>\n",
       "      <th>932181</th>\n",
       "      <td>932181</td>\n",
       "      <td>72129</td>\n",
       "      <td>436927</td>\n",
       "      <td>1</td>\n",
       "    </tr>\n",
       "  </tbody>\n",
       "</table>\n",
       "<p>932182 rows × 4 columns</p>\n",
       "</div>"
      ],
      "text/plain": [
       "        Unnamed: 0  product_id  user_id  votes\n",
       "0                0        7027   166151      1\n",
       "1                1       33216   522823      1\n",
       "2                2       73325   443377      1\n",
       "3                3        7063   115829      1\n",
       "4                4       35364   290678      1\n",
       "5                5        7629    22344      1\n",
       "6                6       74196   416278      1\n",
       "7                7        2385     1938      1\n",
       "8                8       10936    47518      1\n",
       "9                9       43001   151665      1\n",
       "10              10       47282    42628      1\n",
       "11              11       33695    57210      1\n",
       "12              12       13276    30869      1\n",
       "13              13       50731   354747      1\n",
       "14              14       11081    10873      1\n",
       "15              15       64545    20789      1\n",
       "16              16       23183   217079      1\n",
       "17              17       29118    86850      1\n",
       "18              18       15789   560347      1\n",
       "19              19       26439    53427      1\n",
       "20              20       52426   349614      1\n",
       "21              21        3142     9782      1\n",
       "22              22       83856   172665      1\n",
       "23              23        7397   196193      1\n",
       "24              24       72620    75951      1\n",
       "25              25       64413   628265      1\n",
       "26              26       68023   659144      1\n",
       "27              27        6449    32778      1\n",
       "28              28       83444      946      1\n",
       "29              29       51827    64298      1\n",
       "...            ...         ...      ...    ...\n",
       "932152      932152       28591    17725      1\n",
       "932153      932153       47606   115829      1\n",
       "932154      932154       44873    49700      1\n",
       "932155      932155       15201    37506      1\n",
       "932156      932156       41490    39318      1\n",
       "932157      932157       14792   568407      1\n",
       "932158      932158        3303   485965      1\n",
       "932159      932159       40443   123953      1\n",
       "932160      932160       53017   272718      1\n",
       "932161      932161        8010    15604      1\n",
       "932162      932162       39843   459974      1\n",
       "932163      932163       13021    17030      1\n",
       "932164      932164       29880    37000      1\n",
       "932165      932165       20055    81535      1\n",
       "932166      932166       13450    39504      1\n",
       "932167      932167       26323   250018      1\n",
       "932168      932168       40730   384190      1\n",
       "932169      932169       15893   181355      1\n",
       "932170      932170       47282   417407      1\n",
       "932171      932171        6029    99145      1\n",
       "932172      932172       86025    13922      1\n",
       "932173      932173       47958    33231      1\n",
       "932174      932174       33002    23628      1\n",
       "932175      932175        5575   144770      1\n",
       "932176      932176       69884   347666      1\n",
       "932177      932177       32980    51946      1\n",
       "932178      932178       69960   479144      1\n",
       "932179      932179        8482    50051      1\n",
       "932180      932180       62183   404092      1\n",
       "932181      932181       72129   436927      1\n",
       "\n",
       "[932182 rows x 4 columns]"
      ]
     },
     "execution_count": 77,
     "metadata": {},
     "output_type": "execute_result"
    }
   ],
   "source": [
    "data"
   ]
  },
  {
   "cell_type": "code",
   "execution_count": 78,
   "metadata": {
    "collapsed": true
   },
   "outputs": [],
   "source": [
    "rf = gl.load_model('rf_rec')"
   ]
  },
  {
   "cell_type": "code",
   "execution_count": 85,
   "metadata": {
    "collapsed": false
   },
   "outputs": [],
   "source": [
    "nn = rf.recommend(users=[1938], k=5)"
   ]
  },
  {
   "cell_type": "code",
   "execution_count": 86,
   "metadata": {
    "collapsed": true
   },
   "outputs": [],
   "source": [
    "nn_pd = nn.to_dataframe()"
   ]
  },
  {
   "cell_type": "code",
   "execution_count": 89,
   "metadata": {
    "collapsed": false
   },
   "outputs": [
    {
     "data": {
      "text/plain": [
       "0    8197\n",
       "1    3206\n",
       "2    8230\n",
       "3    1907\n",
       "4    9509\n",
       "Name: product_id, dtype: int64"
      ]
     },
     "execution_count": 89,
     "metadata": {},
     "output_type": "execute_result"
    }
   ],
   "source": [
    "nn_pd.product_id"
   ]
  },
  {
   "cell_type": "code",
   "execution_count": 90,
   "metadata": {
    "collapsed": true
   },
   "outputs": [],
   "source": [
    "from graphlab import SGraph, Vertex, Edge\n",
    "g = SGraph()"
   ]
  },
  {
   "cell_type": "code",
   "execution_count": null,
   "metadata": {
    "collapsed": true
   },
   "outputs": [],
   "source": []
  }
 ],
 "metadata": {
  "anaconda-cloud": {},
  "kernelspec": {
   "display_name": "Python [conda root]",
   "language": "python",
   "name": "conda-root-py"
  },
  "language_info": {
   "codemirror_mode": {
    "name": "ipython",
    "version": 2
   },
   "file_extension": ".py",
   "mimetype": "text/x-python",
   "name": "python",
   "nbconvert_exporter": "python",
   "pygments_lexer": "ipython2",
   "version": "2.7.13"
  }
 },
 "nbformat": 4,
 "nbformat_minor": 2
}
