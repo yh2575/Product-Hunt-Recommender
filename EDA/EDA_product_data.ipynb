{
 "cells": [
  {
   "cell_type": "markdown",
   "metadata": {},
   "source": [
    "## Data Exploriation on product_data"
   ]
  },
  {
   "cell_type": "markdown",
   "metadata": {},
   "source": [
    "### to attract side data for the recommender "
   ]
  },
  {
   "cell_type": "code",
   "execution_count": 62,
   "metadata": {
    "collapsed": true
   },
   "outputs": [],
   "source": [
    "import pandas as pd\n",
    "import matplotlib.pyplot as plt\n",
    "%matplotlib inline\n",
    "import numpy as np\n",
    "from sklearn.decomposition import PCA\n",
    "from sklearn.cluster import KMeans\n",
    "import seaborn as sns"
   ]
  },
  {
   "cell_type": "code",
   "execution_count": 6,
   "metadata": {
    "collapsed": false
   },
   "outputs": [
    {
     "name": "stderr",
     "output_type": "stream",
     "text": [
      "/home/joanna/anaconda2/lib/python2.7/site-packages/IPython/core/interactiveshell.py:2717: DtypeWarning: Columns (13,14,15,16,17,18,19,22,25,31,33,35,36,37,38,39,40,42,43,44,45,46,48,50,51,53,55,56,57,60,63,64,66,67,68,69,70,79,81,83,84,85,86,87,88,90,95,100,103,104,106,107,110,113,114,115,118,119,121,122,126,127,131,132,134,135,138,139,140,141,142,148,149,151,152,154,157,159,163,164,167,169,171,173,174,175,178,179,182,185,187,190,193,200,201,204,209,211,215,216,217,218,219,220,221,227,229,230,232,234,236,237,238,239,243,244,247,248,252,253,254,256,258,259,261,262,264,265,266,268,269,271,272,274,275,277,280,281,282,283,284,287,292,293,298,307,310,311,312) have mixed types. Specify dtype option on import or set low_memory=False.\n",
      "  interactivity=interactivity, compiler=compiler, result=result)\n"
     ]
    }
   ],
   "source": [
    "post = pd.read_csv('PostsForAnalysis.txt')"
   ]
  },
  {
   "cell_type": "code",
   "execution_count": 7,
   "metadata": {
    "collapsed": false
   },
   "outputs": [
    {
     "data": {
      "text/html": [
       "<div>\n",
       "<table border=\"1\" class=\"dataframe\">\n",
       "  <thead>\n",
       "    <tr style=\"text-align: right;\">\n",
       "      <th></th>\n",
       "      <th>id</th>\n",
       "      <th>date</th>\n",
       "      <th>day</th>\n",
       "      <th>created_at</th>\n",
       "      <th>time_of_day</th>\n",
       "      <th>name</th>\n",
       "      <th>tagline</th>\n",
       "      <th>thumbnail_type</th>\n",
       "      <th>product_state</th>\n",
       "      <th>comments_count</th>\n",
       "      <th>...</th>\n",
       "      <th>wi.fi</th>\n",
       "      <th>windows</th>\n",
       "      <th>wine</th>\n",
       "      <th>wordpress</th>\n",
       "      <th>writing.tools</th>\n",
       "      <th>xbox.one</th>\n",
       "      <th>yoga.books</th>\n",
       "      <th>youtube</th>\n",
       "      <th>user_id</th>\n",
       "      <th>votes_count</th>\n",
       "    </tr>\n",
       "  </thead>\n",
       "  <tbody>\n",
       "    <tr>\n",
       "      <th>0</th>\n",
       "      <td>82423</td>\n",
       "      <td>2016-11-16</td>\n",
       "      <td>Wednesday</td>\n",
       "      <td>2016-11-16 00:20:00</td>\n",
       "      <td>Night</td>\n",
       "      <td>A.I. Experiments by Google</td>\n",
       "      <td>Explore machine learning by playing w/ pics, m...</td>\n",
       "      <td>image</td>\n",
       "      <td>default</td>\n",
       "      <td>24</td>\n",
       "      <td>...</td>\n",
       "      <td>NaN</td>\n",
       "      <td>NaN</td>\n",
       "      <td>NaN</td>\n",
       "      <td>NaN</td>\n",
       "      <td>NaN</td>\n",
       "      <td>NaN</td>\n",
       "      <td>NaN</td>\n",
       "      <td>NaN</td>\n",
       "      <td>61044</td>\n",
       "      <td>1500</td>\n",
       "    </tr>\n",
       "    <tr>\n",
       "      <th>1</th>\n",
       "      <td>82480</td>\n",
       "      <td>2016-11-16</td>\n",
       "      <td>Wednesday</td>\n",
       "      <td>2016-11-16 05:40:53</td>\n",
       "      <td>Morning</td>\n",
       "      <td>Init.ai</td>\n",
       "      <td>Build powerful and intelligent conversational ...</td>\n",
       "      <td>image</td>\n",
       "      <td>default</td>\n",
       "      <td>43</td>\n",
       "      <td>...</td>\n",
       "      <td>NaN</td>\n",
       "      <td>NaN</td>\n",
       "      <td>NaN</td>\n",
       "      <td>NaN</td>\n",
       "      <td>NaN</td>\n",
       "      <td>NaN</td>\n",
       "      <td>NaN</td>\n",
       "      <td>NaN</td>\n",
       "      <td>1</td>\n",
       "      <td>802</td>\n",
       "    </tr>\n",
       "    <tr>\n",
       "      <th>2</th>\n",
       "      <td>82502</td>\n",
       "      <td>2016-11-16</td>\n",
       "      <td>Wednesday</td>\n",
       "      <td>2016-11-16 10:16:06</td>\n",
       "      <td>Morning</td>\n",
       "      <td>Google Earth VR</td>\n",
       "      <td>Walk the earth in VR</td>\n",
       "      <td>image</td>\n",
       "      <td>default</td>\n",
       "      <td>27</td>\n",
       "      <td>...</td>\n",
       "      <td>NaN</td>\n",
       "      <td>NaN</td>\n",
       "      <td>NaN</td>\n",
       "      <td>NaN</td>\n",
       "      <td>NaN</td>\n",
       "      <td>NaN</td>\n",
       "      <td>NaN</td>\n",
       "      <td>NaN</td>\n",
       "      <td>344208</td>\n",
       "      <td>544</td>\n",
       "    </tr>\n",
       "    <tr>\n",
       "      <th>3</th>\n",
       "      <td>82370</td>\n",
       "      <td>2016-11-16</td>\n",
       "      <td>Wednesday</td>\n",
       "      <td>2016-11-16 00:01:00</td>\n",
       "      <td>Night</td>\n",
       "      <td>Drop</td>\n",
       "      <td>Beautiful color picker with Touch Bar support</td>\n",
       "      <td>image</td>\n",
       "      <td>default</td>\n",
       "      <td>38</td>\n",
       "      <td>...</td>\n",
       "      <td>NaN</td>\n",
       "      <td>NaN</td>\n",
       "      <td>NaN</td>\n",
       "      <td>NaN</td>\n",
       "      <td>NaN</td>\n",
       "      <td>NaN</td>\n",
       "      <td>NaN</td>\n",
       "      <td>NaN</td>\n",
       "      <td>28756</td>\n",
       "      <td>446</td>\n",
       "    </tr>\n",
       "    <tr>\n",
       "      <th>4</th>\n",
       "      <td>82460</td>\n",
       "      <td>2016-11-16</td>\n",
       "      <td>Wednesday</td>\n",
       "      <td>2016-11-16 01:13:32</td>\n",
       "      <td>Night</td>\n",
       "      <td>Lookback Live</td>\n",
       "      <td>Real-time user research on mobile and desktop ...</td>\n",
       "      <td>image</td>\n",
       "      <td>default</td>\n",
       "      <td>25</td>\n",
       "      <td>...</td>\n",
       "      <td>NaN</td>\n",
       "      <td>NaN</td>\n",
       "      <td>NaN</td>\n",
       "      <td>NaN</td>\n",
       "      <td>NaN</td>\n",
       "      <td>NaN</td>\n",
       "      <td>NaN</td>\n",
       "      <td>NaN</td>\n",
       "      <td>591</td>\n",
       "      <td>416</td>\n",
       "    </tr>\n",
       "  </tbody>\n",
       "</table>\n",
       "<p>5 rows × 315 columns</p>\n",
       "</div>"
      ],
      "text/plain": [
       "      id        date        day           created_at time_of_day  \\\n",
       "0  82423  2016-11-16  Wednesday  2016-11-16 00:20:00       Night   \n",
       "1  82480  2016-11-16  Wednesday  2016-11-16 05:40:53     Morning   \n",
       "2  82502  2016-11-16  Wednesday  2016-11-16 10:16:06     Morning   \n",
       "3  82370  2016-11-16  Wednesday  2016-11-16 00:01:00       Night   \n",
       "4  82460  2016-11-16  Wednesday  2016-11-16 01:13:32       Night   \n",
       "\n",
       "                         name  \\\n",
       "0  A.I. Experiments by Google   \n",
       "1                     Init.ai   \n",
       "2             Google Earth VR   \n",
       "3                        Drop   \n",
       "4               Lookback Live   \n",
       "\n",
       "                                             tagline thumbnail_type  \\\n",
       "0  Explore machine learning by playing w/ pics, m...          image   \n",
       "1  Build powerful and intelligent conversational ...          image   \n",
       "2                               Walk the earth in VR          image   \n",
       "3      Beautiful color picker with Touch Bar support          image   \n",
       "4  Real-time user research on mobile and desktop ...          image   \n",
       "\n",
       "  product_state  comments_count     ...      wi.fi  windows wine wordpress  \\\n",
       "0       default              24     ...        NaN      NaN  NaN       NaN   \n",
       "1       default              43     ...        NaN      NaN  NaN       NaN   \n",
       "2       default              27     ...        NaN      NaN  NaN       NaN   \n",
       "3       default              38     ...        NaN      NaN  NaN       NaN   \n",
       "4       default              25     ...        NaN      NaN  NaN       NaN   \n",
       "\n",
       "  writing.tools xbox.one yoga.books youtube user_id votes_count  \n",
       "0           NaN      NaN        NaN     NaN   61044        1500  \n",
       "1           NaN      NaN        NaN     NaN       1         802  \n",
       "2           NaN      NaN        NaN     NaN  344208         544  \n",
       "3           NaN      NaN        NaN     NaN   28756         446  \n",
       "4           NaN      NaN        NaN     NaN     591         416  \n",
       "\n",
       "[5 rows x 315 columns]"
      ]
     },
     "execution_count": 7,
     "metadata": {},
     "output_type": "execute_result"
    }
   ],
   "source": [
    "post.head()"
   ]
  },
  {
   "cell_type": "code",
   "execution_count": 8,
   "metadata": {
    "collapsed": false
   },
   "outputs": [
    {
     "data": {
      "text/plain": [
       "Index([u'id', u'date', u'day', u'created_at', u'time_of_day', u'name',\n",
       "       u'tagline', u'thumbnail_type', u'product_state', u'comments_count',\n",
       "       ...\n",
       "       u'wi.fi', u'windows', u'wine', u'wordpress', u'writing.tools',\n",
       "       u'xbox.one', u'yoga.books', u'youtube', u'user_id', u'votes_count'],\n",
       "      dtype='object', length=315)"
      ]
     },
     "execution_count": 8,
     "metadata": {},
     "output_type": "execute_result"
    }
   ],
   "source": [
    "post.columns"
   ]
  },
  {
   "cell_type": "code",
   "execution_count": 252,
   "metadata": {
    "collapsed": true
   },
   "outputs": [],
   "source": [
    "columns = ['id', 'date', 'day', 'created_at', 'time_of_day', 'name','tagline', 'thumbnail_type', 'product_state', 'comments_count',\n",
    " 'user_id', 'votes_count', 'num_makers', 'num_topics',\n",
    " 'productivity',\n",
    " 'lifehacks',\n",
    " 'marketing',\n",
    " 'analytics',\n",
    " 'wearables',\n",
    " 'mac',\n",
    " 'bots',\n",
    " 'slack',\n",
    " 'apis',\n",
    " 'iphone',\n",
    " 'web']"
   ]
  },
  {
   "cell_type": "code",
   "execution_count": 260,
   "metadata": {
    "collapsed": false
   },
   "outputs": [],
   "source": [
    "X = post[columns]"
   ]
  },
  {
   "cell_type": "code",
   "execution_count": 262,
   "metadata": {
    "collapsed": false
   },
   "outputs": [],
   "source": [
    "X= X.fillna(False)\n",
    "X = X.drop_duplicates()"
   ]
  },
  {
   "cell_type": "markdown",
   "metadata": {},
   "source": [
    "### dummify columns "
   ]
  },
  {
   "cell_type": "code",
   "execution_count": 263,
   "metadata": {
    "collapsed": false
   },
   "outputs": [],
   "source": [
    "for elem in X['time_of_day'].unique():\n",
    "    X[str(elem)] = X['time_of_day'] == elem"
   ]
  },
  {
   "cell_type": "code",
   "execution_count": 264,
   "metadata": {
    "collapsed": true
   },
   "outputs": [],
   "source": [
    "for elem in X['day'].unique():\n",
    "    X[str(elem)] = X['day'] == elem"
   ]
  },
  {
   "cell_type": "code",
   "execution_count": 265,
   "metadata": {
    "collapsed": true
   },
   "outputs": [],
   "source": [
    "for elem in X['thumbnail_type'].unique():\n",
    "    X[str(elem)] = X['thumbnail_type'] == elem"
   ]
  },
  {
   "cell_type": "code",
   "execution_count": 266,
   "metadata": {
    "collapsed": false
   },
   "outputs": [
    {
     "data": {
      "text/html": [
       "<div>\n",
       "<table border=\"1\" class=\"dataframe\">\n",
       "  <thead>\n",
       "    <tr style=\"text-align: right;\">\n",
       "      <th></th>\n",
       "      <th>id</th>\n",
       "      <th>date</th>\n",
       "      <th>day</th>\n",
       "      <th>created_at</th>\n",
       "      <th>time_of_day</th>\n",
       "      <th>name</th>\n",
       "      <th>tagline</th>\n",
       "      <th>thumbnail_type</th>\n",
       "      <th>product_state</th>\n",
       "      <th>comments_count</th>\n",
       "      <th>...</th>\n",
       "      <th>Tuesday</th>\n",
       "      <th>Monday</th>\n",
       "      <th>Sunday</th>\n",
       "      <th>Saturday</th>\n",
       "      <th>Friday</th>\n",
       "      <th>Thursday</th>\n",
       "      <th>image</th>\n",
       "      <th>audio</th>\n",
       "      <th>video</th>\n",
       "      <th>book_preview</th>\n",
       "    </tr>\n",
       "  </thead>\n",
       "  <tbody>\n",
       "    <tr>\n",
       "      <th>0</th>\n",
       "      <td>82423</td>\n",
       "      <td>2016-11-16</td>\n",
       "      <td>Wednesday</td>\n",
       "      <td>2016-11-16 00:20:00</td>\n",
       "      <td>Night</td>\n",
       "      <td>A.I. Experiments by Google</td>\n",
       "      <td>Explore machine learning by playing w/ pics, m...</td>\n",
       "      <td>image</td>\n",
       "      <td>default</td>\n",
       "      <td>24</td>\n",
       "      <td>...</td>\n",
       "      <td>False</td>\n",
       "      <td>False</td>\n",
       "      <td>False</td>\n",
       "      <td>False</td>\n",
       "      <td>False</td>\n",
       "      <td>False</td>\n",
       "      <td>True</td>\n",
       "      <td>False</td>\n",
       "      <td>False</td>\n",
       "      <td>False</td>\n",
       "    </tr>\n",
       "    <tr>\n",
       "      <th>1</th>\n",
       "      <td>82480</td>\n",
       "      <td>2016-11-16</td>\n",
       "      <td>Wednesday</td>\n",
       "      <td>2016-11-16 05:40:53</td>\n",
       "      <td>Morning</td>\n",
       "      <td>Init.ai</td>\n",
       "      <td>Build powerful and intelligent conversational ...</td>\n",
       "      <td>image</td>\n",
       "      <td>default</td>\n",
       "      <td>43</td>\n",
       "      <td>...</td>\n",
       "      <td>False</td>\n",
       "      <td>False</td>\n",
       "      <td>False</td>\n",
       "      <td>False</td>\n",
       "      <td>False</td>\n",
       "      <td>False</td>\n",
       "      <td>True</td>\n",
       "      <td>False</td>\n",
       "      <td>False</td>\n",
       "      <td>False</td>\n",
       "    </tr>\n",
       "    <tr>\n",
       "      <th>2</th>\n",
       "      <td>82502</td>\n",
       "      <td>2016-11-16</td>\n",
       "      <td>Wednesday</td>\n",
       "      <td>2016-11-16 10:16:06</td>\n",
       "      <td>Morning</td>\n",
       "      <td>Google Earth VR</td>\n",
       "      <td>Walk the earth in VR</td>\n",
       "      <td>image</td>\n",
       "      <td>default</td>\n",
       "      <td>27</td>\n",
       "      <td>...</td>\n",
       "      <td>False</td>\n",
       "      <td>False</td>\n",
       "      <td>False</td>\n",
       "      <td>False</td>\n",
       "      <td>False</td>\n",
       "      <td>False</td>\n",
       "      <td>True</td>\n",
       "      <td>False</td>\n",
       "      <td>False</td>\n",
       "      <td>False</td>\n",
       "    </tr>\n",
       "    <tr>\n",
       "      <th>3</th>\n",
       "      <td>82370</td>\n",
       "      <td>2016-11-16</td>\n",
       "      <td>Wednesday</td>\n",
       "      <td>2016-11-16 00:01:00</td>\n",
       "      <td>Night</td>\n",
       "      <td>Drop</td>\n",
       "      <td>Beautiful color picker with Touch Bar support</td>\n",
       "      <td>image</td>\n",
       "      <td>default</td>\n",
       "      <td>38</td>\n",
       "      <td>...</td>\n",
       "      <td>False</td>\n",
       "      <td>False</td>\n",
       "      <td>False</td>\n",
       "      <td>False</td>\n",
       "      <td>False</td>\n",
       "      <td>False</td>\n",
       "      <td>True</td>\n",
       "      <td>False</td>\n",
       "      <td>False</td>\n",
       "      <td>False</td>\n",
       "    </tr>\n",
       "    <tr>\n",
       "      <th>4</th>\n",
       "      <td>82460</td>\n",
       "      <td>2016-11-16</td>\n",
       "      <td>Wednesday</td>\n",
       "      <td>2016-11-16 01:13:32</td>\n",
       "      <td>Night</td>\n",
       "      <td>Lookback Live</td>\n",
       "      <td>Real-time user research on mobile and desktop ...</td>\n",
       "      <td>image</td>\n",
       "      <td>default</td>\n",
       "      <td>25</td>\n",
       "      <td>...</td>\n",
       "      <td>False</td>\n",
       "      <td>False</td>\n",
       "      <td>False</td>\n",
       "      <td>False</td>\n",
       "      <td>False</td>\n",
       "      <td>False</td>\n",
       "      <td>True</td>\n",
       "      <td>False</td>\n",
       "      <td>False</td>\n",
       "      <td>False</td>\n",
       "    </tr>\n",
       "  </tbody>\n",
       "</table>\n",
       "<p>5 rows × 40 columns</p>\n",
       "</div>"
      ],
      "text/plain": [
       "      id        date        day           created_at time_of_day  \\\n",
       "0  82423  2016-11-16  Wednesday  2016-11-16 00:20:00       Night   \n",
       "1  82480  2016-11-16  Wednesday  2016-11-16 05:40:53     Morning   \n",
       "2  82502  2016-11-16  Wednesday  2016-11-16 10:16:06     Morning   \n",
       "3  82370  2016-11-16  Wednesday  2016-11-16 00:01:00       Night   \n",
       "4  82460  2016-11-16  Wednesday  2016-11-16 01:13:32       Night   \n",
       "\n",
       "                         name  \\\n",
       "0  A.I. Experiments by Google   \n",
       "1                     Init.ai   \n",
       "2             Google Earth VR   \n",
       "3                        Drop   \n",
       "4               Lookback Live   \n",
       "\n",
       "                                             tagline thumbnail_type  \\\n",
       "0  Explore machine learning by playing w/ pics, m...          image   \n",
       "1  Build powerful and intelligent conversational ...          image   \n",
       "2                               Walk the earth in VR          image   \n",
       "3      Beautiful color picker with Touch Bar support          image   \n",
       "4  Real-time user research on mobile and desktop ...          image   \n",
       "\n",
       "  product_state  comments_count     ...       Tuesday  Monday  Sunday  \\\n",
       "0       default              24     ...         False   False   False   \n",
       "1       default              43     ...         False   False   False   \n",
       "2       default              27     ...         False   False   False   \n",
       "3       default              38     ...         False   False   False   \n",
       "4       default              25     ...         False   False   False   \n",
       "\n",
       "   Saturday Friday Thursday image  audio  video book_preview  \n",
       "0     False  False    False  True  False  False        False  \n",
       "1     False  False    False  True  False  False        False  \n",
       "2     False  False    False  True  False  False        False  \n",
       "3     False  False    False  True  False  False        False  \n",
       "4     False  False    False  True  False  False        False  \n",
       "\n",
       "[5 rows x 40 columns]"
      ]
     },
     "execution_count": 266,
     "metadata": {},
     "output_type": "execute_result"
    }
   ],
   "source": [
    "X.head()"
   ]
  },
  {
   "cell_type": "code",
   "execution_count": 267,
   "metadata": {
    "collapsed": false
   },
   "outputs": [],
   "source": [
    "X_new = X.drop(['date', 'day', 'created_at', 'time_of_day', 'name', 'tagline', 'thumbnail_type', 'product_state'], axis=1)"
   ]
  },
  {
   "cell_type": "code",
   "execution_count": 268,
   "metadata": {
    "collapsed": false
   },
   "outputs": [
    {
     "data": {
      "text/plain": [
       "Index([u'id', u'comments_count', u'user_id', u'votes_count', u'num_makers',\n",
       "       u'num_topics', u'productivity', u'lifehacks', u'marketing',\n",
       "       u'analytics', u'wearables', u'mac', u'bots', u'slack', u'apis',\n",
       "       u'iphone', u'web', u'Night', u'Morning', u'Afternoon', u'Evening',\n",
       "       u'Wednesday', u'Tuesday', u'Monday', u'Sunday', u'Saturday', u'Friday',\n",
       "       u'Thursday', u'image', u'audio', u'video', u'book_preview'],\n",
       "      dtype='object')"
      ]
     },
     "execution_count": 268,
     "metadata": {},
     "output_type": "execute_result"
    }
   ],
   "source": [
    "X_new.columns"
   ]
  },
  {
   "cell_type": "code",
   "execution_count": 269,
   "metadata": {
    "collapsed": false
   },
   "outputs": [],
   "source": [
    "X_new = X_new[[u'id', u'comments_count', u'user_id', u'votes_count', u'num_makers',\n",
    "       u'num_topics', u'Night', u'Morning', u'Afternoon', u'Evening',\n",
    "       u'Wednesday', u'Tuesday', u'Monday', u'Sunday', u'Saturday', u'Friday',\n",
    "       u'Thursday', u'image', u'audio', u'video', u'book_preview']].astype(int)"
   ]
  },
  {
   "cell_type": "code",
   "execution_count": 270,
   "metadata": {
    "collapsed": false
   },
   "outputs": [
    {
     "data": {
      "text/html": [
       "<div>\n",
       "<table border=\"1\" class=\"dataframe\">\n",
       "  <thead>\n",
       "    <tr style=\"text-align: right;\">\n",
       "      <th></th>\n",
       "      <th>id</th>\n",
       "      <th>comments_count</th>\n",
       "      <th>user_id</th>\n",
       "      <th>votes_count</th>\n",
       "      <th>num_makers</th>\n",
       "      <th>num_topics</th>\n",
       "      <th>Night</th>\n",
       "      <th>Morning</th>\n",
       "      <th>Afternoon</th>\n",
       "      <th>Evening</th>\n",
       "      <th>...</th>\n",
       "      <th>Tuesday</th>\n",
       "      <th>Monday</th>\n",
       "      <th>Sunday</th>\n",
       "      <th>Saturday</th>\n",
       "      <th>Friday</th>\n",
       "      <th>Thursday</th>\n",
       "      <th>image</th>\n",
       "      <th>audio</th>\n",
       "      <th>video</th>\n",
       "      <th>book_preview</th>\n",
       "    </tr>\n",
       "  </thead>\n",
       "  <tbody>\n",
       "    <tr>\n",
       "      <th>0</th>\n",
       "      <td>82423</td>\n",
       "      <td>24</td>\n",
       "      <td>61044</td>\n",
       "      <td>1500</td>\n",
       "      <td>0</td>\n",
       "      <td>5</td>\n",
       "      <td>1</td>\n",
       "      <td>0</td>\n",
       "      <td>0</td>\n",
       "      <td>0</td>\n",
       "      <td>...</td>\n",
       "      <td>0</td>\n",
       "      <td>0</td>\n",
       "      <td>0</td>\n",
       "      <td>0</td>\n",
       "      <td>0</td>\n",
       "      <td>0</td>\n",
       "      <td>1</td>\n",
       "      <td>0</td>\n",
       "      <td>0</td>\n",
       "      <td>0</td>\n",
       "    </tr>\n",
       "    <tr>\n",
       "      <th>1</th>\n",
       "      <td>82480</td>\n",
       "      <td>43</td>\n",
       "      <td>1</td>\n",
       "      <td>802</td>\n",
       "      <td>4</td>\n",
       "      <td>4</td>\n",
       "      <td>0</td>\n",
       "      <td>1</td>\n",
       "      <td>0</td>\n",
       "      <td>0</td>\n",
       "      <td>...</td>\n",
       "      <td>0</td>\n",
       "      <td>0</td>\n",
       "      <td>0</td>\n",
       "      <td>0</td>\n",
       "      <td>0</td>\n",
       "      <td>0</td>\n",
       "      <td>1</td>\n",
       "      <td>0</td>\n",
       "      <td>0</td>\n",
       "      <td>0</td>\n",
       "    </tr>\n",
       "    <tr>\n",
       "      <th>2</th>\n",
       "      <td>82502</td>\n",
       "      <td>27</td>\n",
       "      <td>344208</td>\n",
       "      <td>544</td>\n",
       "      <td>1</td>\n",
       "      <td>2</td>\n",
       "      <td>0</td>\n",
       "      <td>1</td>\n",
       "      <td>0</td>\n",
       "      <td>0</td>\n",
       "      <td>...</td>\n",
       "      <td>0</td>\n",
       "      <td>0</td>\n",
       "      <td>0</td>\n",
       "      <td>0</td>\n",
       "      <td>0</td>\n",
       "      <td>0</td>\n",
       "      <td>1</td>\n",
       "      <td>0</td>\n",
       "      <td>0</td>\n",
       "      <td>0</td>\n",
       "    </tr>\n",
       "    <tr>\n",
       "      <th>3</th>\n",
       "      <td>82370</td>\n",
       "      <td>38</td>\n",
       "      <td>28756</td>\n",
       "      <td>446</td>\n",
       "      <td>2</td>\n",
       "      <td>6</td>\n",
       "      <td>1</td>\n",
       "      <td>0</td>\n",
       "      <td>0</td>\n",
       "      <td>0</td>\n",
       "      <td>...</td>\n",
       "      <td>0</td>\n",
       "      <td>0</td>\n",
       "      <td>0</td>\n",
       "      <td>0</td>\n",
       "      <td>0</td>\n",
       "      <td>0</td>\n",
       "      <td>1</td>\n",
       "      <td>0</td>\n",
       "      <td>0</td>\n",
       "      <td>0</td>\n",
       "    </tr>\n",
       "    <tr>\n",
       "      <th>4</th>\n",
       "      <td>82460</td>\n",
       "      <td>25</td>\n",
       "      <td>591</td>\n",
       "      <td>416</td>\n",
       "      <td>11</td>\n",
       "      <td>6</td>\n",
       "      <td>1</td>\n",
       "      <td>0</td>\n",
       "      <td>0</td>\n",
       "      <td>0</td>\n",
       "      <td>...</td>\n",
       "      <td>0</td>\n",
       "      <td>0</td>\n",
       "      <td>0</td>\n",
       "      <td>0</td>\n",
       "      <td>0</td>\n",
       "      <td>0</td>\n",
       "      <td>1</td>\n",
       "      <td>0</td>\n",
       "      <td>0</td>\n",
       "      <td>0</td>\n",
       "    </tr>\n",
       "  </tbody>\n",
       "</table>\n",
       "<p>5 rows × 21 columns</p>\n",
       "</div>"
      ],
      "text/plain": [
       "      id  comments_count  user_id  votes_count  num_makers  num_topics  Night  \\\n",
       "0  82423              24    61044         1500           0           5      1   \n",
       "1  82480              43        1          802           4           4      0   \n",
       "2  82502              27   344208          544           1           2      0   \n",
       "3  82370              38    28756          446           2           6      1   \n",
       "4  82460              25      591          416          11           6      1   \n",
       "\n",
       "   Morning  Afternoon  Evening      ...       Tuesday  Monday  Sunday  \\\n",
       "0        0          0        0      ...             0       0       0   \n",
       "1        1          0        0      ...             0       0       0   \n",
       "2        1          0        0      ...             0       0       0   \n",
       "3        0          0        0      ...             0       0       0   \n",
       "4        0          0        0      ...             0       0       0   \n",
       "\n",
       "   Saturday  Friday  Thursday  image  audio  video  book_preview  \n",
       "0         0       0         0      1      0      0             0  \n",
       "1         0       0         0      1      0      0             0  \n",
       "2         0       0         0      1      0      0             0  \n",
       "3         0       0         0      1      0      0             0  \n",
       "4         0       0         0      1      0      0             0  \n",
       "\n",
       "[5 rows x 21 columns]"
      ]
     },
     "execution_count": 270,
     "metadata": {},
     "output_type": "execute_result"
    }
   ],
   "source": [
    "X_new.head()\n"
   ]
  },
  {
   "cell_type": "markdown",
   "metadata": {},
   "source": [
    "### plotting "
   ]
  },
  {
   "cell_type": "code",
   "execution_count": 271,
   "metadata": {
    "collapsed": false
   },
   "outputs": [
    {
     "data": {
      "text/plain": [
       "<matplotlib.text.Text at 0x7ff950468210>"
      ]
     },
     "execution_count": 271,
     "metadata": {},
     "output_type": "execute_result"
    },
    {
     "data": {
      "image/png": "[encoded data removed]",
      "text/plain": [
       "<matplotlib.figure.Figure at 0x7ff9502c6c50>"
      ]
     },
     "metadata": {},
     "output_type": "display_data"
    }
   ],
   "source": [
    "plt.plot(X.votes_count.value_counts())\n",
    "plt.xlabel('number of products')\n",
    "plt.ylabel('votes_count')\n",
    "plt.title('products vs votes')"
   ]
  },
  {
   "cell_type": "code",
   "execution_count": 272,
   "metadata": {
    "collapsed": false
   },
   "outputs": [],
   "source": [
    "pca = PCA(n_components=10).fit_transform(X_new)"
   ]
  },
  {
   "cell_type": "code",
   "execution_count": 273,
   "metadata": {
    "collapsed": true
   },
   "outputs": [],
   "source": [
    "kmeans = KMeans(n_clusters=5).fit(X_new)"
   ]
  },
  {
   "cell_type": "code",
   "execution_count": 274,
   "metadata": {
    "collapsed": true
   },
   "outputs": [],
   "source": [
    "X_new['kmeans_label'] = kmeans.labels_"
   ]
  },
  {
   "cell_type": "code",
   "execution_count": 275,
   "metadata": {
    "collapsed": true
   },
   "outputs": [],
   "source": [
    "color_map = {0: 'green', 1: 'red', 2: 'yellow', 3: 'blue', 4: 'purple'}"
   ]
  },
  {
   "cell_type": "code",
   "execution_count": 276,
   "metadata": {
    "collapsed": false
   },
   "outputs": [
    {
     "data": {
      "text/plain": [
       "<matplotlib.text.Text at 0x7ff9503e7310>"
      ]
     },
     "execution_count": 276,
     "metadata": {},
     "output_type": "execute_result"
    },
    {
     "data": {
      "image/png": "[encoded data removed]",
      "text/plain": [
       "<matplotlib.figure.Figure at 0x7ff9503da0d0>"
      ]
     },
     "metadata": {},
     "output_type": "display_data"
    }
   ],
   "source": [
    "plt.figure(figsize=(8,6))\n",
    "plt.scatter(X_new['votes_count'],X_new['num_topics'], c=X_new['kmeans_label'].map(color_map))\n",
    "plt.xlabel('votes_count')\n",
    "plt.ylabel('num_topics')\n",
    "plt.title('votes_count vs num_topics')"
   ]
  },
  {
   "cell_type": "code",
   "execution_count": 277,
   "metadata": {
    "collapsed": false
   },
   "outputs": [
    {
     "data": {
      "text/plain": [
       "<matplotlib.text.Text at 0x7ff95047f610>"
      ]
     },
     "execution_count": 277,
     "metadata": {},
     "output_type": "execute_result"
    },
    {
     "data": {
      "image/png": "[encoded data removed]",
      "text/plain": [
       "<matplotlib.figure.Figure at 0x7ff950b6b7d0>"
      ]
     },
     "metadata": {},
     "output_type": "display_data"
    }
   ],
   "source": [
    "plt.figure(figsize=(8,6))\n",
    "plt.scatter(X_new['votes_count'],X_new['comments_count'], c=X_new['kmeans_label'].map(color_map))\n",
    "plt.xlabel('votes_count')\n",
    "plt.ylabel('comments_count')\n",
    "plt.title('votes_count vs comments_count')\n",
    "# user_id small tend to vote more "
   ]
  },
  {
   "cell_type": "code",
   "execution_count": 278,
   "metadata": {
    "collapsed": false
   },
   "outputs": [
    {
     "data": {
      "text/plain": [
       "<matplotlib.text.Text at 0x7ff937facc90>"
      ]
     },
     "execution_count": 278,
     "metadata": {},
     "output_type": "execute_result"
    },
    {
     "data": {
      "image/png": "[encoded data removed]",
      "text/plain": [
       "<matplotlib.figure.Figure at 0x7ff950061250>"
      ]
     },
     "metadata": {},
     "output_type": "display_data"
    }
   ],
   "source": [
    "plt.figure(figsize=(8,6))\n",
    "plt.scatter(X_new['votes_count'],X_new['user_id'], c=X_new['kmeans_label'].map(color_map))\n",
    "plt.xlabel('votes_count')\n",
    "plt.ylabel('user_id')\n",
    "plt.title('votes_count vs user_id')\n",
    "# user_id small tend to vote more \n"
   ]
  },
  {
   "cell_type": "code",
   "execution_count": 279,
   "metadata": {
    "collapsed": false
   },
   "outputs": [
    {
     "data": {
      "text/plain": [
       "<matplotlib.text.Text at 0x7ff937eff250>"
      ]
     },
     "execution_count": 279,
     "metadata": {},
     "output_type": "execute_result"
    },
    {
     "data": {
      "image/png": "[encoded data removed]",
      "text/plain": [
       "<matplotlib.figure.Figure at 0x7ff937f07a10>"
      ]
     },
     "metadata": {},
     "output_type": "display_data"
    }
   ],
   "source": [
    "plt.figure(figsize=(8,6))\n",
    "plt.scatter(X_new['votes_count'],X_new['id'], c=X_new['kmeans_label'].map(color_map))\n",
    "plt.xlabel('votes_count')\n",
    "plt.ylabel('id')\n",
    "plt.title('votes_count vs id')\n",
    "# vote count has nothing to do with post recency  "
   ]
  },
  {
   "cell_type": "code",
   "execution_count": 280,
   "metadata": {
    "collapsed": false
   },
   "outputs": [
    {
     "data": {
      "text/plain": [
       "<matplotlib.text.Text at 0x7ff937e79ad0>"
      ]
     },
     "execution_count": 280,
     "metadata": {},
     "output_type": "execute_result"
    },
    {
     "data": {
      "image/png": "[encoded data removed]",
      "text/plain": [
       "<matplotlib.figure.Figure at 0x7ff937d67750>"
      ]
     },
     "metadata": {},
     "output_type": "display_data"
    }
   ],
   "source": [
    "plt.figure(figsize=(8,6))\n",
    "plt.scatter(X_new['votes_count'],X_new['num_makers'], c=X_new['kmeans_label'].map(color_map))\n",
    "plt.xlabel('votes_count')\n",
    "plt.ylabel('num_makers')\n",
    "plt.title('votes_count vs num_makers')"
   ]
  },
  {
   "cell_type": "code",
   "execution_count": 282,
   "metadata": {
    "collapsed": false
   },
   "outputs": [
    {
     "name": "stdout",
     "output_type": "stream",
     "text": [
      "<class 'pandas.core.frame.DataFrame'>\n",
      "RangeIndex: 18129 entries, 0 to 18128\n",
      "Columns: 315 entries, id to votes_count\n",
      "dtypes: bool(1), int64(6), object(308)\n",
      "memory usage: 43.4+ MB\n"
     ]
    }
   ],
   "source": [
    "post.info()"
   ]
  },
  {
   "cell_type": "code",
   "execution_count": 283,
   "metadata": {
    "collapsed": false
   },
   "outputs": [
    {
     "data": {
      "text/plain": [
       "id                      338\n",
       "date                    338\n",
       "day                     338\n",
       "created_at              338\n",
       "time_of_day             338\n",
       "name                    338\n",
       "tagline                 338\n",
       "thumbnail_type          338\n",
       "product_state           338\n",
       "comments_count          338\n",
       "num_makers              338\n",
       "num_topics              338\n",
       "X3d.printing              0\n",
       "X3ds                      0\n",
       "a.b.testing               0\n",
       "action.games              0\n",
       "ad.blockers               1\n",
       "adult.coloring.books      1\n",
       "adventure.games           0\n",
       "advertising               0\n",
       "airbnb                    3\n",
       "alarm.clocks              0\n",
       "amazon                    1\n",
       "analytics                 4\n",
       "android                  16\n",
       "anime                     0\n",
       "anonymous                 1\n",
       "apis                      2\n",
       "apple.tv                  0\n",
       "apple.watch               1\n",
       "                       ... \n",
       "time.tracking             0\n",
       "to.do                     4\n",
       "touch.bar.apps            0\n",
       "transportation            2\n",
       "travel                    3\n",
       "tv                        2\n",
       "twitter                  11\n",
       "typography                0\n",
       "uber                      0\n",
       "usability                 1\n",
       "user.experience           2\n",
       "venture.capital           1\n",
       "video.streaming          11\n",
       "vim                       0\n",
       "virtual.assistants        0\n",
       "virtual.reality           0\n",
       "wearables                 1\n",
       "weather.apps              0\n",
       "web                      89\n",
       "weird                     1\n",
       "wi.fi                     1\n",
       "windows                   1\n",
       "wine                      0\n",
       "wordpress                 1\n",
       "writing.tools             2\n",
       "xbox.one                  0\n",
       "yoga.books                1\n",
       "youtube                   0\n",
       "user_id                 338\n",
       "votes_count             338\n",
       "dtype: int64"
      ]
     },
     "execution_count": 283,
     "metadata": {},
     "output_type": "execute_result"
    }
   ],
   "source": [
    "post[post.product_state == 'no_longer_online'].count()"
   ]
  },
  {
   "cell_type": "markdown",
   "metadata": {},
   "source": [
    "### topic modeling on tagline and name"
   ]
  },
  {
   "cell_type": "code",
   "execution_count": 284,
   "metadata": {
    "collapsed": false
   },
   "outputs": [
    {
     "data": {
      "text/html": [
       "<div>\n",
       "<table border=\"1\" class=\"dataframe\">\n",
       "  <thead>\n",
       "    <tr style=\"text-align: right;\">\n",
       "      <th></th>\n",
       "      <th>id</th>\n",
       "      <th>date</th>\n",
       "      <th>day</th>\n",
       "      <th>created_at</th>\n",
       "      <th>time_of_day</th>\n",
       "      <th>name</th>\n",
       "      <th>tagline</th>\n",
       "      <th>thumbnail_type</th>\n",
       "      <th>product_state</th>\n",
       "      <th>comments_count</th>\n",
       "      <th>...</th>\n",
       "      <th>Tuesday</th>\n",
       "      <th>Monday</th>\n",
       "      <th>Sunday</th>\n",
       "      <th>Saturday</th>\n",
       "      <th>Friday</th>\n",
       "      <th>Thursday</th>\n",
       "      <th>image</th>\n",
       "      <th>audio</th>\n",
       "      <th>video</th>\n",
       "      <th>book_preview</th>\n",
       "    </tr>\n",
       "  </thead>\n",
       "  <tbody>\n",
       "    <tr>\n",
       "      <th>0</th>\n",
       "      <td>82423</td>\n",
       "      <td>2016-11-16</td>\n",
       "      <td>Wednesday</td>\n",
       "      <td>2016-11-16 00:20:00</td>\n",
       "      <td>Night</td>\n",
       "      <td>A.I. Experiments by Google</td>\n",
       "      <td>Explore machine learning by playing w/ pics, m...</td>\n",
       "      <td>image</td>\n",
       "      <td>default</td>\n",
       "      <td>24</td>\n",
       "      <td>...</td>\n",
       "      <td>False</td>\n",
       "      <td>False</td>\n",
       "      <td>False</td>\n",
       "      <td>False</td>\n",
       "      <td>False</td>\n",
       "      <td>False</td>\n",
       "      <td>True</td>\n",
       "      <td>False</td>\n",
       "      <td>False</td>\n",
       "      <td>False</td>\n",
       "    </tr>\n",
       "    <tr>\n",
       "      <th>1</th>\n",
       "      <td>82480</td>\n",
       "      <td>2016-11-16</td>\n",
       "      <td>Wednesday</td>\n",
       "      <td>2016-11-16 05:40:53</td>\n",
       "      <td>Morning</td>\n",
       "      <td>Init.ai</td>\n",
       "      <td>Build powerful and intelligent conversational ...</td>\n",
       "      <td>image</td>\n",
       "      <td>default</td>\n",
       "      <td>43</td>\n",
       "      <td>...</td>\n",
       "      <td>False</td>\n",
       "      <td>False</td>\n",
       "      <td>False</td>\n",
       "      <td>False</td>\n",
       "      <td>False</td>\n",
       "      <td>False</td>\n",
       "      <td>True</td>\n",
       "      <td>False</td>\n",
       "      <td>False</td>\n",
       "      <td>False</td>\n",
       "    </tr>\n",
       "    <tr>\n",
       "      <th>2</th>\n",
       "      <td>82502</td>\n",
       "      <td>2016-11-16</td>\n",
       "      <td>Wednesday</td>\n",
       "      <td>2016-11-16 10:16:06</td>\n",
       "      <td>Morning</td>\n",
       "      <td>Google Earth VR</td>\n",
       "      <td>Walk the earth in VR</td>\n",
       "      <td>image</td>\n",
       "      <td>default</td>\n",
       "      <td>27</td>\n",
       "      <td>...</td>\n",
       "      <td>False</td>\n",
       "      <td>False</td>\n",
       "      <td>False</td>\n",
       "      <td>False</td>\n",
       "      <td>False</td>\n",
       "      <td>False</td>\n",
       "      <td>True</td>\n",
       "      <td>False</td>\n",
       "      <td>False</td>\n",
       "      <td>False</td>\n",
       "    </tr>\n",
       "    <tr>\n",
       "      <th>3</th>\n",
       "      <td>82370</td>\n",
       "      <td>2016-11-16</td>\n",
       "      <td>Wednesday</td>\n",
       "      <td>2016-11-16 00:01:00</td>\n",
       "      <td>Night</td>\n",
       "      <td>Drop</td>\n",
       "      <td>Beautiful color picker with Touch Bar support</td>\n",
       "      <td>image</td>\n",
       "      <td>default</td>\n",
       "      <td>38</td>\n",
       "      <td>...</td>\n",
       "      <td>False</td>\n",
       "      <td>False</td>\n",
       "      <td>False</td>\n",
       "      <td>False</td>\n",
       "      <td>False</td>\n",
       "      <td>False</td>\n",
       "      <td>True</td>\n",
       "      <td>False</td>\n",
       "      <td>False</td>\n",
       "      <td>False</td>\n",
       "    </tr>\n",
       "    <tr>\n",
       "      <th>4</th>\n",
       "      <td>82460</td>\n",
       "      <td>2016-11-16</td>\n",
       "      <td>Wednesday</td>\n",
       "      <td>2016-11-16 01:13:32</td>\n",
       "      <td>Night</td>\n",
       "      <td>Lookback Live</td>\n",
       "      <td>Real-time user research on mobile and desktop ...</td>\n",
       "      <td>image</td>\n",
       "      <td>default</td>\n",
       "      <td>25</td>\n",
       "      <td>...</td>\n",
       "      <td>False</td>\n",
       "      <td>False</td>\n",
       "      <td>False</td>\n",
       "      <td>False</td>\n",
       "      <td>False</td>\n",
       "      <td>False</td>\n",
       "      <td>True</td>\n",
       "      <td>False</td>\n",
       "      <td>False</td>\n",
       "      <td>False</td>\n",
       "    </tr>\n",
       "  </tbody>\n",
       "</table>\n",
       "<p>5 rows × 40 columns</p>\n",
       "</div>"
      ],
      "text/plain": [
       "      id        date        day           created_at time_of_day  \\\n",
       "0  82423  2016-11-16  Wednesday  2016-11-16 00:20:00       Night   \n",
       "1  82480  2016-11-16  Wednesday  2016-11-16 05:40:53     Morning   \n",
       "2  82502  2016-11-16  Wednesday  2016-11-16 10:16:06     Morning   \n",
       "3  82370  2016-11-16  Wednesday  2016-11-16 00:01:00       Night   \n",
       "4  82460  2016-11-16  Wednesday  2016-11-16 01:13:32       Night   \n",
       "\n",
       "                         name  \\\n",
       "0  A.I. Experiments by Google   \n",
       "1                     Init.ai   \n",
       "2             Google Earth VR   \n",
       "3                        Drop   \n",
       "4               Lookback Live   \n",
       "\n",
       "                                             tagline thumbnail_type  \\\n",
       "0  Explore machine learning by playing w/ pics, m...          image   \n",
       "1  Build powerful and intelligent conversational ...          image   \n",
       "2                               Walk the earth in VR          image   \n",
       "3      Beautiful color picker with Touch Bar support          image   \n",
       "4  Real-time user research on mobile and desktop ...          image   \n",
       "\n",
       "  product_state  comments_count     ...       Tuesday  Monday  Sunday  \\\n",
       "0       default              24     ...         False   False   False   \n",
       "1       default              43     ...         False   False   False   \n",
       "2       default              27     ...         False   False   False   \n",
       "3       default              38     ...         False   False   False   \n",
       "4       default              25     ...         False   False   False   \n",
       "\n",
       "   Saturday Friday Thursday image  audio  video book_preview  \n",
       "0     False  False    False  True  False  False        False  \n",
       "1     False  False    False  True  False  False        False  \n",
       "2     False  False    False  True  False  False        False  \n",
       "3     False  False    False  True  False  False        False  \n",
       "4     False  False    False  True  False  False        False  \n",
       "\n",
       "[5 rows x 40 columns]"
      ]
     },
     "execution_count": 284,
     "metadata": {},
     "output_type": "execute_result"
    }
   ],
   "source": [
    "X.head()"
   ]
  },
  {
   "cell_type": "code",
   "execution_count": 285,
   "metadata": {
    "collapsed": true
   },
   "outputs": [],
   "source": [
    "import graphlab as gl"
   ]
  },
  {
   "cell_type": "code",
   "execution_count": 286,
   "metadata": {
    "collapsed": false
   },
   "outputs": [],
   "source": [
    "sf = gl.SFrame(X_new)"
   ]
  },
  {
   "cell_type": "code",
   "execution_count": 287,
   "metadata": {
    "collapsed": false
   },
   "outputs": [
    {
     "name": "stdout",
     "output_type": "stream",
     "text": [
      "WARNING: The ItemContentRecommender model is still in beta.\n",
      "WARNING: This feature transformer is still in beta, and some interpretation rules may change in the future.\n",
      "('Applying transform:\\n', Class             : AutoVectorizer\n",
      "\n",
      "Model Fields\n",
      "------------\n",
      "Features          : ['comments_count', 'user_id', 'votes_count', 'num_makers', 'num_topics', 'Night', 'Morning', 'Afternoon', 'Evening', 'Wednesday', 'Tuesday', 'Monday', 'Sunday', 'Saturday', 'Friday', 'Thursday', 'image', 'audio', 'video', 'book_preview', 'kmeans_label']\n",
      "Excluded Features : ['id']\n",
      "\n",
      "Column          Type  Interpretation  Transforms   Output Type\n",
      "--------------  ----  --------------  -----------  -----------\n",
      "comments_count  int   numerical       None         int        \n",
      "user_id         int   numerical       None         int        \n",
      "votes_count     int   numerical       None         int        \n",
      "num_makers      int   numerical       None         int        \n",
      "num_topics      int   numerical       None         int        \n",
      "Night           int   categorical     astype(str)  str        \n",
      "Morning         int   categorical     astype(str)  str        \n",
      "Afternoon       int   categorical     astype(str)  str        \n",
      "Evening         int   categorical     astype(str)  str        \n",
      "Wednesday       int   categorical     astype(str)  str        \n",
      "Tuesday         int   categorical     astype(str)  str        \n",
      "Monday          int   categorical     astype(str)  str        \n",
      "Sunday          int   categorical     astype(str)  str        \n",
      "Saturday        int   categorical     astype(str)  str        \n",
      "Friday          int   categorical     astype(str)  str        \n",
      "Thursday        int   categorical     astype(str)  str        \n",
      "image           int   categorical     astype(str)  str        \n",
      "audio           int   categorical     astype(str)  str        \n",
      "video           int   categorical     astype(str)  str        \n",
      "book_preview    int   categorical     astype(str)  str        \n",
      "kmeans_label    int   numerical       None         int        \n",
      "\n",
      ")\n"
     ]
    },
    {
     "data": {
      "text/html": [
       "<pre>Recsys training: model = item_content_recommender</pre>"
      ],
      "text/plain": [
       "Recsys training: model = item_content_recommender"
      ]
     },
     "metadata": {},
     "output_type": "display_data"
    },
    {
     "name": "stdout",
     "output_type": "stream",
     "text": [
      "Defaulting to brute force instead of ball tree because there are multiple distance components.\n"
     ]
    },
    {
     "data": {
      "text/html": [
       "<pre>Starting brute force nearest neighbors model training.</pre>"
      ],
      "text/plain": [
       "Starting brute force nearest neighbors model training."
      ]
     },
     "metadata": {},
     "output_type": "display_data"
    },
    {
     "data": {
      "text/html": [
       "<pre>Starting pairwise querying.</pre>"
      ],
      "text/plain": [
       "Starting pairwise querying."
      ]
     },
     "metadata": {},
     "output_type": "display_data"
    },
    {
     "data": {
      "text/html": [
       "<pre>+--------------+---------+-------------+--------------+</pre>"
      ],
      "text/plain": [
       "+--------------+---------+-------------+--------------+"
      ]
     },
     "metadata": {},
     "output_type": "display_data"
    },
    {
     "data": {
      "text/html": [
       "<pre>| Query points | # Pairs | % Complete. | Elapsed Time |</pre>"
      ],
      "text/plain": [
       "| Query points | # Pairs | % Complete. | Elapsed Time |"
      ]
     },
     "metadata": {},
     "output_type": "display_data"
    },
    {
     "data": {
      "text/html": [
       "<pre>+--------------+---------+-------------+--------------+</pre>"
      ],
      "text/plain": [
       "+--------------+---------+-------------+--------------+"
      ]
     },
     "metadata": {},
     "output_type": "display_data"
    },
    {
     "data": {
      "text/html": [
       "<pre>| 1            | 18129   | 0.00551602  | 80.061ms     |</pre>"
      ],
      "text/plain": [
       "| 1            | 18129   | 0.00551602  | 80.061ms     |"
      ]
     },
     "metadata": {},
     "output_type": "display_data"
    },
    {
     "data": {
      "text/html": [
       "<pre>| 89           | 1613481 | 0.490926    | 1.08s        |</pre>"
      ],
      "text/plain": [
       "| 89           | 1613481 | 0.490926    | 1.08s        |"
      ]
     },
     "metadata": {},
     "output_type": "display_data"
    },
    {
     "data": {
      "text/html": [
       "<pre>| 186          | 3371994 | 1.02598     | 2.09s        |</pre>"
      ],
      "text/plain": [
       "| 186          | 3371994 | 1.02598     | 2.09s        |"
      ]
     },
     "metadata": {},
     "output_type": "display_data"
    },
    {
     "data": {
      "text/html": [
       "<pre>| 330          | 5982570 | 1.82029     | 3.08s        |</pre>"
      ],
      "text/plain": [
       "| 330          | 5982570 | 1.82029     | 3.08s        |"
      ]
     },
     "metadata": {},
     "output_type": "display_data"
    },
    {
     "data": {
      "text/html": [
       "<pre>| 417          | 7559793 | 2.30018     | 4.08s        |</pre>"
      ],
      "text/plain": [
       "| 417          | 7559793 | 2.30018     | 4.08s        |"
      ]
     },
     "metadata": {},
     "output_type": "display_data"
    },
    {
     "data": {
      "text/html": [
       "<pre>| 576          | 1e+07   | 3.17723     | 5.08s        |</pre>"
      ],
      "text/plain": [
       "| 576          | 1e+07   | 3.17723     | 5.08s        |"
      ]
     },
     "metadata": {},
     "output_type": "display_data"
    },
    {
     "data": {
      "text/html": [
       "<pre>| 717          |         | 3.95499     | 6.08s        |</pre>"
      ],
      "text/plain": [
       "| 717          |         | 3.95499     | 6.08s        |"
      ]
     },
     "metadata": {},
     "output_type": "display_data"
    },
    {
     "data": {
      "text/html": [
       "<pre>| 860          | 1.6e+07 | 4.74378     | 7.08s        |</pre>"
      ],
      "text/plain": [
       "| 860          | 1.6e+07 | 4.74378     | 7.08s        |"
      ]
     },
     "metadata": {},
     "output_type": "display_data"
    },
    {
     "data": {
      "text/html": [
       "<pre>| 1013         | 1.8e+07 | 5.58773     | 8.08s        |</pre>"
      ],
      "text/plain": [
       "| 1013         | 1.8e+07 | 5.58773     | 8.08s        |"
      ]
     },
     "metadata": {},
     "output_type": "display_data"
    },
    {
     "data": {
      "text/html": [
       "<pre>| 1171         | 2.1e+07 | 6.45926     | 9.08s        |</pre>"
      ],
      "text/plain": [
       "| 1171         | 2.1e+07 | 6.45926     | 9.08s        |"
      ]
     },
     "metadata": {},
     "output_type": "display_data"
    },
    {
     "data": {
      "text/html": [
       "<pre>| 1328         | 2.4e+07 | 7.32528     | 10.08s       |</pre>"
      ],
      "text/plain": [
       "| 1328         | 2.4e+07 | 7.32528     | 10.08s       |"
      ]
     },
     "metadata": {},
     "output_type": "display_data"
    },
    {
     "data": {
      "text/html": [
       "<pre>| 1484         | 2.7e+07 | 8.18578     | 11.08s       |</pre>"
      ],
      "text/plain": [
       "| 1484         | 2.7e+07 | 8.18578     | 11.08s       |"
      ]
     },
     "metadata": {},
     "output_type": "display_data"
    },
    {
     "data": {
      "text/html": [
       "<pre>| 1605         | 2.9e+07 | 8.85322     | 12.09s       |</pre>"
      ],
      "text/plain": [
       "| 1605         | 2.9e+07 | 8.85322     | 12.09s       |"
      ]
     },
     "metadata": {},
     "output_type": "display_data"
    },
    {
     "data": {
      "text/html": [
       "<pre>| 1747         | 3.2e+07 | 9.63649     | 13.08s       |</pre>"
      ],
      "text/plain": [
       "| 1747         | 3.2e+07 | 9.63649     | 13.08s       |"
      ]
     },
     "metadata": {},
     "output_type": "display_data"
    },
    {
     "data": {
      "text/html": [
       "<pre>| 1895         | 3.4e+07 | 10.4529     | 14.08s       |</pre>"
      ],
      "text/plain": [
       "| 1895         | 3.4e+07 | 10.4529     | 14.08s       |"
      ]
     },
     "metadata": {},
     "output_type": "display_data"
    },
    {
     "data": {
      "text/html": [
       "<pre>| 2035         | 3.7e+07 | 11.2251     | 15.08s       |</pre>"
      ],
      "text/plain": [
       "| 2035         | 3.7e+07 | 11.2251     | 15.08s       |"
      ]
     },
     "metadata": {},
     "output_type": "display_data"
    },
    {
     "data": {
      "text/html": [
       "<pre>| 2185         | 4e+07   | 12.0525     | 16.09s       |</pre>"
      ],
      "text/plain": [
       "| 2185         | 4e+07   | 12.0525     | 16.09s       |"
      ]
     },
     "metadata": {},
     "output_type": "display_data"
    },
    {
     "data": {
      "text/html": [
       "<pre>| 2332         | 4.2e+07 | 12.8634     | 17.09s       |</pre>"
      ],
      "text/plain": [
       "| 2332         | 4.2e+07 | 12.8634     | 17.09s       |"
      ]
     },
     "metadata": {},
     "output_type": "display_data"
    },
    {
     "data": {
      "text/html": [
       "<pre>| 2490         | 4.5e+07 | 13.7349     | 18.09s       |</pre>"
      ],
      "text/plain": [
       "| 2490         | 4.5e+07 | 13.7349     | 18.09s       |"
      ]
     },
     "metadata": {},
     "output_type": "display_data"
    },
    {
     "data": {
      "text/html": [
       "<pre>| 2641         | 4.8e+07 | 14.5678     | 19.09s       |</pre>"
      ],
      "text/plain": [
       "| 2641         | 4.8e+07 | 14.5678     | 19.09s       |"
      ]
     },
     "metadata": {},
     "output_type": "display_data"
    },
    {
     "data": {
      "text/html": [
       "<pre>| 2808         | 5.1e+07 | 15.489      | 20.09s       |</pre>"
      ],
      "text/plain": [
       "| 2808         | 5.1e+07 | 15.489      | 20.09s       |"
      ]
     },
     "metadata": {},
     "output_type": "display_data"
    },
    {
     "data": {
      "text/html": [
       "<pre>| 2958         | 5.4e+07 | 16.3164     | 21.10s       |</pre>"
      ],
      "text/plain": [
       "| 2958         | 5.4e+07 | 16.3164     | 21.10s       |"
      ]
     },
     "metadata": {},
     "output_type": "display_data"
    },
    {
     "data": {
      "text/html": [
       "<pre>| 3055         | 5.5e+07 | 16.8515     | 22.09s       |</pre>"
      ],
      "text/plain": [
       "| 3055         | 5.5e+07 | 16.8515     | 22.09s       |"
      ]
     },
     "metadata": {},
     "output_type": "display_data"
    },
    {
     "data": {
      "text/html": [
       "<pre>| 3205         | 5.8e+07 | 17.6789     | 23.09s       |</pre>"
      ],
      "text/plain": [
       "| 3205         | 5.8e+07 | 17.6789     | 23.09s       |"
      ]
     },
     "metadata": {},
     "output_type": "display_data"
    },
    {
     "data": {
      "text/html": [
       "<pre>| 3356         | 6.1e+07 | 18.5118     | 24.08s       |</pre>"
      ],
      "text/plain": [
       "| 3356         | 6.1e+07 | 18.5118     | 24.08s       |"
      ]
     },
     "metadata": {},
     "output_type": "display_data"
    },
    {
     "data": {
      "text/html": [
       "<pre>| 3463         | 6.3e+07 | 19.102      | 25.08s       |</pre>"
      ],
      "text/plain": [
       "| 3463         | 6.3e+07 | 19.102      | 25.08s       |"
      ]
     },
     "metadata": {},
     "output_type": "display_data"
    },
    {
     "data": {
      "text/html": [
       "<pre>| 3610         | 6.5e+07 | 19.9128     | 26.08s       |</pre>"
      ],
      "text/plain": [
       "| 3610         | 6.5e+07 | 19.9128     | 26.08s       |"
      ]
     },
     "metadata": {},
     "output_type": "display_data"
    },
    {
     "data": {
      "text/html": [
       "<pre>| 3766         | 6.8e+07 | 20.7733     | 27.10s       |</pre>"
      ],
      "text/plain": [
       "| 3766         | 6.8e+07 | 20.7733     | 27.10s       |"
      ]
     },
     "metadata": {},
     "output_type": "display_data"
    },
    {
     "data": {
      "text/html": [
       "<pre>| 3919         | 7.1e+07 | 21.6173     | 28.08s       |</pre>"
      ],
      "text/plain": [
       "| 3919         | 7.1e+07 | 21.6173     | 28.08s       |"
      ]
     },
     "metadata": {},
     "output_type": "display_data"
    },
    {
     "data": {
      "text/html": [
       "<pre>| 4074         | 7.4e+07 | 22.4723     | 29.08s       |</pre>"
      ],
      "text/plain": [
       "| 4074         | 7.4e+07 | 22.4723     | 29.08s       |"
      ]
     },
     "metadata": {},
     "output_type": "display_data"
    },
    {
     "data": {
      "text/html": [
       "<pre>| 4222         | 7.7e+07 | 23.2887     | 30.08s       |</pre>"
      ],
      "text/plain": [
       "| 4222         | 7.7e+07 | 23.2887     | 30.08s       |"
      ]
     },
     "metadata": {},
     "output_type": "display_data"
    },
    {
     "data": {
      "text/html": [
       "<pre>| 4371         | 7.9e+07 | 24.1105     | 31.08s       |</pre>"
      ],
      "text/plain": [
       "| 4371         | 7.9e+07 | 24.1105     | 31.08s       |"
      ]
     },
     "metadata": {},
     "output_type": "display_data"
    },
    {
     "data": {
      "text/html": [
       "<pre>| 4486         | 8.1e+07 | 24.7449     | 32.08s       |</pre>"
      ],
      "text/plain": [
       "| 4486         | 8.1e+07 | 24.7449     | 32.08s       |"
      ]
     },
     "metadata": {},
     "output_type": "display_data"
    },
    {
     "data": {
      "text/html": [
       "<pre>| 4575         | 8.3e+07 | 25.2358     | 33.08s       |</pre>"
      ],
      "text/plain": [
       "| 4575         | 8.3e+07 | 25.2358     | 33.08s       |"
      ]
     },
     "metadata": {},
     "output_type": "display_data"
    },
    {
     "data": {
      "text/html": [
       "<pre>| 4694         | 8.5e+07 | 25.8922     | 34.10s       |</pre>"
      ],
      "text/plain": [
       "| 4694         | 8.5e+07 | 25.8922     | 34.10s       |"
      ]
     },
     "metadata": {},
     "output_type": "display_data"
    },
    {
     "data": {
      "text/html": [
       "<pre>| 4818         | 8.7e+07 | 26.5762     | 35.08s       |</pre>"
      ],
      "text/plain": [
       "| 4818         | 8.7e+07 | 26.5762     | 35.08s       |"
      ]
     },
     "metadata": {},
     "output_type": "display_data"
    },
    {
     "data": {
      "text/html": [
       "<pre>| 4915         | 8.9e+07 | 27.1113     | 36.09s       |</pre>"
      ],
      "text/plain": [
       "| 4915         | 8.9e+07 | 27.1113     | 36.09s       |"
      ]
     },
     "metadata": {},
     "output_type": "display_data"
    },
    {
     "data": {
      "text/html": [
       "<pre>| 5005         | 9.1e+07 | 27.6077     | 37.10s       |</pre>"
      ],
      "text/plain": [
       "| 5005         | 9.1e+07 | 27.6077     | 37.10s       |"
      ]
     },
     "metadata": {},
     "output_type": "display_data"
    },
    {
     "data": {
      "text/html": [
       "<pre>| 5091         | 9.2e+07 | 28.0821     | 38.09s       |</pre>"
      ],
      "text/plain": [
       "| 5091         | 9.2e+07 | 28.0821     | 38.09s       |"
      ]
     },
     "metadata": {},
     "output_type": "display_data"
    },
    {
     "data": {
      "text/html": [
       "<pre>| 5183         | 9.4e+07 | 28.5896     | 39.08s       |</pre>"
      ],
      "text/plain": [
       "| 5183         | 9.4e+07 | 28.5896     | 39.08s       |"
      ]
     },
     "metadata": {},
     "output_type": "display_data"
    },
    {
     "data": {
      "text/html": [
       "<pre>| 5285         | 9.6e+07 | 29.1522     | 40.09s       |</pre>"
      ],
      "text/plain": [
       "| 5285         | 9.6e+07 | 29.1522     | 40.09s       |"
      ]
     },
     "metadata": {},
     "output_type": "display_data"
    },
    {
     "data": {
      "text/html": [
       "<pre>| 5395         | 9.8e+07 | 29.7589     | 41.11s       |</pre>"
      ],
      "text/plain": [
       "| 5395         | 9.8e+07 | 29.7589     | 41.11s       |"
      ]
     },
     "metadata": {},
     "output_type": "display_data"
    },
    {
     "data": {
      "text/html": [
       "<pre>| 5519         | 1e+08   | 30.4429     | 42.09s       |</pre>"
      ],
      "text/plain": [
       "| 5519         | 1e+08   | 30.4429     | 42.09s       |"
      ]
     },
     "metadata": {},
     "output_type": "display_data"
    },
    {
     "data": {
      "text/html": [
       "<pre>| 5668         | 1e+08   | 31.2648     | 43.09s       |</pre>"
      ],
      "text/plain": [
       "| 5668         | 1e+08   | 31.2648     | 43.09s       |"
      ]
     },
     "metadata": {},
     "output_type": "display_data"
    },
    {
     "data": {
      "text/html": [
       "<pre>| 5781         | 1e+08   | 31.8881     | 44.08s       |</pre>"
      ],
      "text/plain": [
       "| 5781         | 1e+08   | 31.8881     | 44.08s       |"
      ]
     },
     "metadata": {},
     "output_type": "display_data"
    },
    {
     "data": {
      "text/html": [
       "<pre>| 5892         | 1.1e+08 | 32.5004     | 45.08s       |</pre>"
      ],
      "text/plain": [
       "| 5892         | 1.1e+08 | 32.5004     | 45.08s       |"
      ]
     },
     "metadata": {},
     "output_type": "display_data"
    },
    {
     "data": {
      "text/html": [
       "<pre>| 6002         | 1.1e+08 | 33.1072     | 46.08s       |</pre>"
      ],
      "text/plain": [
       "| 6002         | 1.1e+08 | 33.1072     | 46.08s       |"
      ]
     },
     "metadata": {},
     "output_type": "display_data"
    },
    {
     "data": {
      "text/html": [
       "<pre>| 6130         | 1.1e+08 | 33.8132     | 47.09s       |</pre>"
      ],
      "text/plain": [
       "| 6130         | 1.1e+08 | 33.8132     | 47.09s       |"
      ]
     },
     "metadata": {},
     "output_type": "display_data"
    },
    {
     "data": {
      "text/html": [
       "<pre>| 6267         | 1.1e+08 | 34.5689     | 48.09s       |</pre>"
      ],
      "text/plain": [
       "| 6267         | 1.1e+08 | 34.5689     | 48.09s       |"
      ]
     },
     "metadata": {},
     "output_type": "display_data"
    },
    {
     "data": {
      "text/html": [
       "<pre>| 6384         | 1.2e+08 | 35.2143     | 49.10s       |</pre>"
      ],
      "text/plain": [
       "| 6384         | 1.2e+08 | 35.2143     | 49.10s       |"
      ]
     },
     "metadata": {},
     "output_type": "display_data"
    },
    {
     "data": {
      "text/html": [
       "<pre>| 6511         | 1.2e+08 | 35.9148     | 50.08s       |</pre>"
      ],
      "text/plain": [
       "| 6511         | 1.2e+08 | 35.9148     | 50.08s       |"
      ]
     },
     "metadata": {},
     "output_type": "display_data"
    },
    {
     "data": {
      "text/html": [
       "<pre>| 6615         | 1.2e+08 | 36.4885     | 51.08s       |</pre>"
      ],
      "text/plain": [
       "| 6615         | 1.2e+08 | 36.4885     | 51.08s       |"
      ]
     },
     "metadata": {},
     "output_type": "display_data"
    },
    {
     "data": {
      "text/html": [
       "<pre>| 6713         | 1.2e+08 | 37.0291     | 52.08s       |</pre>"
      ],
      "text/plain": [
       "| 6713         | 1.2e+08 | 37.0291     | 52.08s       |"
      ]
     },
     "metadata": {},
     "output_type": "display_data"
    },
    {
     "data": {
      "text/html": [
       "<pre>| 6804         | 1.2e+08 | 37.531      | 53.09s       |</pre>"
      ],
      "text/plain": [
       "| 6804         | 1.2e+08 | 37.531      | 53.09s       |"
      ]
     },
     "metadata": {},
     "output_type": "display_data"
    },
    {
     "data": {
      "text/html": [
       "<pre>| 6903         | 1.3e+08 | 38.0771     | 54.08s       |</pre>"
      ],
      "text/plain": [
       "| 6903         | 1.3e+08 | 38.0771     | 54.08s       |"
      ]
     },
     "metadata": {},
     "output_type": "display_data"
    },
    {
     "data": {
      "text/html": [
       "<pre>| 7013         | 1.3e+08 | 38.6839     | 55.09s       |</pre>"
      ],
      "text/plain": [
       "| 7013         | 1.3e+08 | 38.6839     | 55.09s       |"
      ]
     },
     "metadata": {},
     "output_type": "display_data"
    },
    {
     "data": {
      "text/html": [
       "<pre>| 7098         | 1.3e+08 | 39.1527     | 56.09s       |</pre>"
      ],
      "text/plain": [
       "| 7098         | 1.3e+08 | 39.1527     | 56.09s       |"
      ]
     },
     "metadata": {},
     "output_type": "display_data"
    },
    {
     "data": {
      "text/html": [
       "<pre>| 7193         | 1.3e+08 | 39.6768     | 57.09s       |</pre>"
      ],
      "text/plain": [
       "| 7193         | 1.3e+08 | 39.6768     | 57.09s       |"
      ]
     },
     "metadata": {},
     "output_type": "display_data"
    },
    {
     "data": {
      "text/html": [
       "<pre>| 7276         | 1.3e+08 | 40.1346     | 58.08s       |</pre>"
      ],
      "text/plain": [
       "| 7276         | 1.3e+08 | 40.1346     | 58.08s       |"
      ]
     },
     "metadata": {},
     "output_type": "display_data"
    },
    {
     "data": {
      "text/html": [
       "<pre>| 7403         | 1.3e+08 | 40.8351     | 59.08s       |</pre>"
      ],
      "text/plain": [
       "| 7403         | 1.3e+08 | 40.8351     | 59.08s       |"
      ]
     },
     "metadata": {},
     "output_type": "display_data"
    },
    {
     "data": {
      "text/html": [
       "<pre>| 7494         | 1.4e+08 | 41.3371     | 1m 0s        |</pre>"
      ],
      "text/plain": [
       "| 7494         | 1.4e+08 | 41.3371     | 1m 0s        |"
      ]
     },
     "metadata": {},
     "output_type": "display_data"
    },
    {
     "data": {
      "text/html": [
       "<pre>| 7601         | 1.4e+08 | 41.9273     | 1m 1s        |</pre>"
      ],
      "text/plain": [
       "| 7601         | 1.4e+08 | 41.9273     | 1m 1s        |"
      ]
     },
     "metadata": {},
     "output_type": "display_data"
    },
    {
     "data": {
      "text/html": [
       "<pre>| 7691         | 1.4e+08 | 42.4237     | 1m 2s        |</pre>"
      ],
      "text/plain": [
       "| 7691         | 1.4e+08 | 42.4237     | 1m 2s        |"
      ]
     },
     "metadata": {},
     "output_type": "display_data"
    },
    {
     "data": {
      "text/html": [
       "<pre>| 7783         | 1.4e+08 | 42.9312     | 1m 3s        |</pre>"
      ],
      "text/plain": [
       "| 7783         | 1.4e+08 | 42.9312     | 1m 3s        |"
      ]
     },
     "metadata": {},
     "output_type": "display_data"
    },
    {
     "data": {
      "text/html": [
       "<pre>| 7868         | 1.4e+08 | 43.4001     | 1m 4s        |</pre>"
      ],
      "text/plain": [
       "| 7868         | 1.4e+08 | 43.4001     | 1m 4s        |"
      ]
     },
     "metadata": {},
     "output_type": "display_data"
    },
    {
     "data": {
      "text/html": [
       "<pre>| 7960         | 1.4e+08 | 43.9076     | 1m 5s        |</pre>"
      ],
      "text/plain": [
       "| 7960         | 1.4e+08 | 43.9076     | 1m 5s        |"
      ]
     },
     "metadata": {},
     "output_type": "display_data"
    },
    {
     "data": {
      "text/html": [
       "<pre>| 8054         | 1.5e+08 | 44.4261     | 1m 6s        |</pre>"
      ],
      "text/plain": [
       "| 8054         | 1.5e+08 | 44.4261     | 1m 6s        |"
      ]
     },
     "metadata": {},
     "output_type": "display_data"
    },
    {
     "data": {
      "text/html": [
       "<pre>| 8205         | 1.5e+08 | 45.259      | 1m 7s        |</pre>"
      ],
      "text/plain": [
       "| 8205         | 1.5e+08 | 45.259      | 1m 7s        |"
      ]
     },
     "metadata": {},
     "output_type": "display_data"
    },
    {
     "data": {
      "text/html": [
       "<pre>| 8325         | 1.5e+08 | 45.9209     | 1m 8s        |</pre>"
      ],
      "text/plain": [
       "| 8325         | 1.5e+08 | 45.9209     | 1m 8s        |"
      ]
     },
     "metadata": {},
     "output_type": "display_data"
    },
    {
     "data": {
      "text/html": [
       "<pre>| 8442         | 1.5e+08 | 46.5663     | 1m 9s        |</pre>"
      ],
      "text/plain": [
       "| 8442         | 1.5e+08 | 46.5663     | 1m 9s        |"
      ]
     },
     "metadata": {},
     "output_type": "display_data"
    },
    {
     "data": {
      "text/html": [
       "<pre>| 8541         | 1.5e+08 | 47.1124     | 1m 10s       |</pre>"
      ],
      "text/plain": [
       "| 8541         | 1.5e+08 | 47.1124     | 1m 10s       |"
      ]
     },
     "metadata": {},
     "output_type": "display_data"
    },
    {
     "data": {
      "text/html": [
       "<pre>| 8655         | 1.6e+08 | 47.7412     | 1m 11s       |</pre>"
      ],
      "text/plain": [
       "| 8655         | 1.6e+08 | 47.7412     | 1m 11s       |"
      ]
     },
     "metadata": {},
     "output_type": "display_data"
    },
    {
     "data": {
      "text/html": [
       "<pre>| 8750         | 1.6e+08 | 48.2652     | 1m 12s       |</pre>"
      ],
      "text/plain": [
       "| 8750         | 1.6e+08 | 48.2652     | 1m 12s       |"
      ]
     },
     "metadata": {},
     "output_type": "display_data"
    },
    {
     "data": {
      "text/html": [
       "<pre>| 8857         | 1.6e+08 | 48.8554     | 1m 13s       |</pre>"
      ],
      "text/plain": [
       "| 8857         | 1.6e+08 | 48.8554     | 1m 13s       |"
      ]
     },
     "metadata": {},
     "output_type": "display_data"
    },
    {
     "data": {
      "text/html": [
       "<pre>| 8964         | 1.6e+08 | 49.4456     | 1m 14s       |</pre>"
      ],
      "text/plain": [
       "| 8964         | 1.6e+08 | 49.4456     | 1m 14s       |"
      ]
     },
     "metadata": {},
     "output_type": "display_data"
    },
    {
     "data": {
      "text/html": [
       "<pre>| 9052         | 1.6e+08 | 49.931      | 1m 15s       |</pre>"
      ],
      "text/plain": [
       "| 9052         | 1.6e+08 | 49.931      | 1m 15s       |"
      ]
     },
     "metadata": {},
     "output_type": "display_data"
    },
    {
     "data": {
      "text/html": [
       "<pre>| 9157         | 1.7e+08 | 50.5102     | 1m 16s       |</pre>"
      ],
      "text/plain": [
       "| 9157         | 1.7e+08 | 50.5102     | 1m 16s       |"
      ]
     },
     "metadata": {},
     "output_type": "display_data"
    },
    {
     "data": {
      "text/html": [
       "<pre>| 9317         | 1.7e+08 | 51.3928     | 1m 17s       |</pre>"
      ],
      "text/plain": [
       "| 9317         | 1.7e+08 | 51.3928     | 1m 17s       |"
      ]
     },
     "metadata": {},
     "output_type": "display_data"
    },
    {
     "data": {
      "text/html": [
       "<pre>| 9472         | 1.7e+08 | 52.2478     | 1m 18s       |</pre>"
      ],
      "text/plain": [
       "| 9472         | 1.7e+08 | 52.2478     | 1m 18s       |"
      ]
     },
     "metadata": {},
     "output_type": "display_data"
    },
    {
     "data": {
      "text/html": [
       "<pre>| 9625         | 1.7e+08 | 53.0917     | 1m 19s       |</pre>"
      ],
      "text/plain": [
       "| 9625         | 1.7e+08 | 53.0917     | 1m 19s       |"
      ]
     },
     "metadata": {},
     "output_type": "display_data"
    },
    {
     "data": {
      "text/html": [
       "<pre>| 9778         | 1.8e+08 | 53.9357     | 1m 20s       |</pre>"
      ],
      "text/plain": [
       "| 9778         | 1.8e+08 | 53.9357     | 1m 20s       |"
      ]
     },
     "metadata": {},
     "output_type": "display_data"
    },
    {
     "data": {
      "text/html": [
       "<pre>| 9928         |         | 54.7631     | 1m 21s       |</pre>"
      ],
      "text/plain": [
       "| 9928         |         | 54.7631     | 1m 21s       |"
      ]
     },
     "metadata": {},
     "output_type": "display_data"
    },
    {
     "data": {
      "text/html": [
       "<pre>| 10077        | 1.8e+08 | 55.585      | 1m 22s       |</pre>"
      ],
      "text/plain": [
       "| 10077        | 1.8e+08 | 55.585      | 1m 22s       |"
      ]
     },
     "metadata": {},
     "output_type": "display_data"
    },
    {
     "data": {
      "text/html": [
       "<pre>| 10227        | 1.9e+08 | 56.4124     | 1m 23s       |</pre>"
      ],
      "text/plain": [
       "| 10227        | 1.9e+08 | 56.4124     | 1m 23s       |"
      ]
     },
     "metadata": {},
     "output_type": "display_data"
    },
    {
     "data": {
      "text/html": [
       "<pre>| 10378        | 1.9e+08 | 57.2453     | 1m 24s       |</pre>"
      ],
      "text/plain": [
       "| 10378        | 1.9e+08 | 57.2453     | 1m 24s       |"
      ]
     },
     "metadata": {},
     "output_type": "display_data"
    },
    {
     "data": {
      "text/html": [
       "<pre>| 10534        | 1.9e+08 | 58.1058     | 1m 25s       |</pre>"
      ],
      "text/plain": [
       "| 10534        | 1.9e+08 | 58.1058     | 1m 25s       |"
      ]
     },
     "metadata": {},
     "output_type": "display_data"
    },
    {
     "data": {
      "text/html": [
       "<pre>| 10693        | 1.9e+08 | 58.9828     | 1m 26s       |</pre>"
      ],
      "text/plain": [
       "| 10693        | 1.9e+08 | 58.9828     | 1m 26s       |"
      ]
     },
     "metadata": {},
     "output_type": "display_data"
    },
    {
     "data": {
      "text/html": [
       "<pre>| 10841        | 2e+08   | 59.7992     | 1m 27s       |</pre>"
      ],
      "text/plain": [
       "| 10841        | 2e+08   | 59.7992     | 1m 27s       |"
      ]
     },
     "metadata": {},
     "output_type": "display_data"
    },
    {
     "data": {
      "text/html": [
       "<pre>| 11002        | 2e+08   | 60.6873     | 1m 28s       |</pre>"
      ],
      "text/plain": [
       "| 11002        | 2e+08   | 60.6873     | 1m 28s       |"
      ]
     },
     "metadata": {},
     "output_type": "display_data"
    },
    {
     "data": {
      "text/html": [
       "<pre>| 11159        | 2e+08   | 61.5533     | 1m 29s       |</pre>"
      ],
      "text/plain": [
       "| 11159        | 2e+08   | 61.5533     | 1m 29s       |"
      ]
     },
     "metadata": {},
     "output_type": "display_data"
    },
    {
     "data": {
      "text/html": [
       "<pre>| 11314        | 2.1e+08 | 62.4083     | 1m 30s       |</pre>"
      ],
      "text/plain": [
       "| 11314        | 2.1e+08 | 62.4083     | 1m 30s       |"
      ]
     },
     "metadata": {},
     "output_type": "display_data"
    },
    {
     "data": {
      "text/html": [
       "<pre>| 11472        | 2.1e+08 | 63.2798     | 1m 31s       |</pre>"
      ],
      "text/plain": [
       "| 11472        | 2.1e+08 | 63.2798     | 1m 31s       |"
      ]
     },
     "metadata": {},
     "output_type": "display_data"
    },
    {
     "data": {
      "text/html": [
       "<pre>| 11638        | 2.1e+08 | 64.1955     | 1m 32s       |</pre>"
      ],
      "text/plain": [
       "| 11638        | 2.1e+08 | 64.1955     | 1m 32s       |"
      ]
     },
     "metadata": {},
     "output_type": "display_data"
    },
    {
     "data": {
      "text/html": [
       "<pre>| 11799        | 2.1e+08 | 65.0836     | 1m 33s       |</pre>"
      ],
      "text/plain": [
       "| 11799        | 2.1e+08 | 65.0836     | 1m 33s       |"
      ]
     },
     "metadata": {},
     "output_type": "display_data"
    },
    {
     "data": {
      "text/html": [
       "<pre>| 11937        | 2.2e+08 | 65.8448     | 1m 34s       |</pre>"
      ],
      "text/plain": [
       "| 11937        | 2.2e+08 | 65.8448     | 1m 34s       |"
      ]
     },
     "metadata": {},
     "output_type": "display_data"
    },
    {
     "data": {
      "text/html": [
       "<pre>| 12040        | 2.2e+08 | 66.4129     | 1m 35s       |</pre>"
      ],
      "text/plain": [
       "| 12040        | 2.2e+08 | 66.4129     | 1m 35s       |"
      ]
     },
     "metadata": {},
     "output_type": "display_data"
    },
    {
     "data": {
      "text/html": [
       "<pre>| 12131        | 2.2e+08 | 66.9149     | 1m 36s       |</pre>"
      ],
      "text/plain": [
       "| 12131        | 2.2e+08 | 66.9149     | 1m 36s       |"
      ]
     },
     "metadata": {},
     "output_type": "display_data"
    },
    {
     "data": {
      "text/html": [
       "<pre>| 12217        | 2.2e+08 | 67.3893     | 1m 37s       |</pre>"
      ],
      "text/plain": [
       "| 12217        | 2.2e+08 | 67.3893     | 1m 37s       |"
      ]
     },
     "metadata": {},
     "output_type": "display_data"
    },
    {
     "data": {
      "text/html": [
       "<pre>| 12309        | 2.2e+08 | 67.8967     | 1m 38s       |</pre>"
      ],
      "text/plain": [
       "| 12309        | 2.2e+08 | 67.8967     | 1m 38s       |"
      ]
     },
     "metadata": {},
     "output_type": "display_data"
    },
    {
     "data": {
      "text/html": [
       "<pre>| 12398        | 2.2e+08 | 68.3877     | 1m 39s       |</pre>"
      ],
      "text/plain": [
       "| 12398        | 2.2e+08 | 68.3877     | 1m 39s       |"
      ]
     },
     "metadata": {},
     "output_type": "display_data"
    },
    {
     "data": {
      "text/html": [
       "<pre>| 12509        | 2.3e+08 | 68.9999     | 1m 40s       |</pre>"
      ],
      "text/plain": [
       "| 12509        | 2.3e+08 | 68.9999     | 1m 40s       |"
      ]
     },
     "metadata": {},
     "output_type": "display_data"
    },
    {
     "data": {
      "text/html": [
       "<pre>| 12601        | 2.3e+08 | 69.5074     | 1m 41s       |</pre>"
      ],
      "text/plain": [
       "| 12601        | 2.3e+08 | 69.5074     | 1m 41s       |"
      ]
     },
     "metadata": {},
     "output_type": "display_data"
    },
    {
     "data": {
      "text/html": [
       "<pre>| 12721        | 2.3e+08 | 70.1693     | 1m 42s       |</pre>"
      ],
      "text/plain": [
       "| 12721        | 2.3e+08 | 70.1693     | 1m 42s       |"
      ]
     },
     "metadata": {},
     "output_type": "display_data"
    },
    {
     "data": {
      "text/html": [
       "<pre>| 12853        | 2.3e+08 | 70.8975     | 1m 43s       |</pre>"
      ],
      "text/plain": [
       "| 12853        | 2.3e+08 | 70.8975     | 1m 43s       |"
      ]
     },
     "metadata": {},
     "output_type": "display_data"
    },
    {
     "data": {
      "text/html": [
       "<pre>| 13014        | 2.4e+08 | 71.7855     | 1m 44s       |</pre>"
      ],
      "text/plain": [
       "| 13014        | 2.4e+08 | 71.7855     | 1m 44s       |"
      ]
     },
     "metadata": {},
     "output_type": "display_data"
    },
    {
     "data": {
      "text/html": [
       "<pre>| 13160        | 2.4e+08 | 72.5909     | 1m 45s       |</pre>"
      ],
      "text/plain": [
       "| 13160        | 2.4e+08 | 72.5909     | 1m 45s       |"
      ]
     },
     "metadata": {},
     "output_type": "display_data"
    },
    {
     "data": {
      "text/html": [
       "<pre>| 13259        | 2.4e+08 | 73.137      | 1m 46s       |</pre>"
      ],
      "text/plain": [
       "| 13259        | 2.4e+08 | 73.137      | 1m 46s       |"
      ]
     },
     "metadata": {},
     "output_type": "display_data"
    },
    {
     "data": {
      "text/html": [
       "<pre>| 13370        | 2.4e+08 | 73.7492     | 1m 47s       |</pre>"
      ],
      "text/plain": [
       "| 13370        | 2.4e+08 | 73.7492     | 1m 47s       |"
      ]
     },
     "metadata": {},
     "output_type": "display_data"
    },
    {
     "data": {
      "text/html": [
       "<pre>| 13495        | 2.4e+08 | 74.4387     | 1m 48s       |</pre>"
      ],
      "text/plain": [
       "| 13495        | 2.4e+08 | 74.4387     | 1m 48s       |"
      ]
     },
     "metadata": {},
     "output_type": "display_data"
    },
    {
     "data": {
      "text/html": [
       "<pre>| 13648        | 2.5e+08 | 75.2827     | 1m 49s       |</pre>"
      ],
      "text/plain": [
       "| 13648        | 2.5e+08 | 75.2827     | 1m 49s       |"
      ]
     },
     "metadata": {},
     "output_type": "display_data"
    },
    {
     "data": {
      "text/html": [
       "<pre>| 13797        | 2.5e+08 | 76.1046     | 1m 50s       |</pre>"
      ],
      "text/plain": [
       "| 13797        | 2.5e+08 | 76.1046     | 1m 50s       |"
      ]
     },
     "metadata": {},
     "output_type": "display_data"
    },
    {
     "data": {
      "text/html": [
       "<pre>| 13956        | 2.5e+08 | 76.9816     | 1m 51s       |</pre>"
      ],
      "text/plain": [
       "| 13956        | 2.5e+08 | 76.9816     | 1m 51s       |"
      ]
     },
     "metadata": {},
     "output_type": "display_data"
    },
    {
     "data": {
      "text/html": [
       "<pre>| 14079        | 2.6e+08 | 77.6601     | 1m 52s       |</pre>"
      ],
      "text/plain": [
       "| 14079        | 2.6e+08 | 77.6601     | 1m 52s       |"
      ]
     },
     "metadata": {},
     "output_type": "display_data"
    },
    {
     "data": {
      "text/html": [
       "<pre>| 14201        | 2.6e+08 | 78.3331     | 1m 53s       |</pre>"
      ],
      "text/plain": [
       "| 14201        | 2.6e+08 | 78.3331     | 1m 53s       |"
      ]
     },
     "metadata": {},
     "output_type": "display_data"
    },
    {
     "data": {
      "text/html": [
       "<pre>| 14359        | 2.6e+08 | 79.2046     | 1m 54s       |</pre>"
      ],
      "text/plain": [
       "| 14359        | 2.6e+08 | 79.2046     | 1m 54s       |"
      ]
     },
     "metadata": {},
     "output_type": "display_data"
    },
    {
     "data": {
      "text/html": [
       "<pre>| 14483        | 2.6e+08 | 79.8886     | 1m 55s       |</pre>"
      ],
      "text/plain": [
       "| 14483        | 2.6e+08 | 79.8886     | 1m 55s       |"
      ]
     },
     "metadata": {},
     "output_type": "display_data"
    },
    {
     "data": {
      "text/html": [
       "<pre>| 14628        | 2.7e+08 | 80.6884     | 1m 56s       |</pre>"
      ],
      "text/plain": [
       "| 14628        | 2.7e+08 | 80.6884     | 1m 56s       |"
      ]
     },
     "metadata": {},
     "output_type": "display_data"
    },
    {
     "data": {
      "text/html": [
       "<pre>| 14745        | 2.7e+08 | 81.3338     | 1m 57s       |</pre>"
      ],
      "text/plain": [
       "| 14745        | 2.7e+08 | 81.3338     | 1m 57s       |"
      ]
     },
     "metadata": {},
     "output_type": "display_data"
    },
    {
     "data": {
      "text/html": [
       "<pre>| 14874        | 2.7e+08 | 82.0453     | 1m 58s       |</pre>"
      ],
      "text/plain": [
       "| 14874        | 2.7e+08 | 82.0453     | 1m 58s       |"
      ]
     },
     "metadata": {},
     "output_type": "display_data"
    },
    {
     "data": {
      "text/html": [
       "<pre>| 15022        | 2.7e+08 | 82.8617     | 1m 59s       |</pre>"
      ],
      "text/plain": [
       "| 15022        | 2.7e+08 | 82.8617     | 1m 59s       |"
      ]
     },
     "metadata": {},
     "output_type": "display_data"
    },
    {
     "data": {
      "text/html": [
       "<pre>| 15129        | 2.7e+08 | 83.4519     | 2m 0s        |</pre>"
      ],
      "text/plain": [
       "| 15129        | 2.7e+08 | 83.4519     | 2m 0s        |"
      ]
     },
     "metadata": {},
     "output_type": "display_data"
    },
    {
     "data": {
      "text/html": [
       "<pre>| 15252        | 2.8e+08 | 84.1304     | 2m 1s        |</pre>"
      ],
      "text/plain": [
       "| 15252        | 2.8e+08 | 84.1304     | 2m 1s        |"
      ]
     },
     "metadata": {},
     "output_type": "display_data"
    },
    {
     "data": {
      "text/html": [
       "<pre>| 15373        | 2.8e+08 | 84.7978     | 2m 2s        |</pre>"
      ],
      "text/plain": [
       "| 15373        | 2.8e+08 | 84.7978     | 2m 2s        |"
      ]
     },
     "metadata": {},
     "output_type": "display_data"
    },
    {
     "data": {
      "text/html": [
       "<pre>| 15498        | 2.8e+08 | 85.4873     | 2m 3s        |</pre>"
      ],
      "text/plain": [
       "| 15498        | 2.8e+08 | 85.4873     | 2m 3s        |"
      ]
     },
     "metadata": {},
     "output_type": "display_data"
    },
    {
     "data": {
      "text/html": [
       "<pre>| 15612        | 2.8e+08 | 86.1162     | 2m 4s        |</pre>"
      ],
      "text/plain": [
       "| 15612        | 2.8e+08 | 86.1162     | 2m 4s        |"
      ]
     },
     "metadata": {},
     "output_type": "display_data"
    },
    {
     "data": {
      "text/html": [
       "<pre>| 15712        | 2.8e+08 | 86.6678     | 2m 5s        |</pre>"
      ],
      "text/plain": [
       "| 15712        | 2.8e+08 | 86.6678     | 2m 5s        |"
      ]
     },
     "metadata": {},
     "output_type": "display_data"
    },
    {
     "data": {
      "text/html": [
       "<pre>| 15843        | 2.9e+08 | 87.3904     | 2m 6s        |</pre>"
      ],
      "text/plain": [
       "| 15843        | 2.9e+08 | 87.3904     | 2m 6s        |"
      ]
     },
     "metadata": {},
     "output_type": "display_data"
    },
    {
     "data": {
      "text/html": [
       "<pre>| 15971        | 2.9e+08 | 88.0964     | 2m 7s        |</pre>"
      ],
      "text/plain": [
       "| 15971        | 2.9e+08 | 88.0964     | 2m 7s        |"
      ]
     },
     "metadata": {},
     "output_type": "display_data"
    },
    {
     "data": {
      "text/html": [
       "<pre>| 16094        | 2.9e+08 | 88.7749     | 2m 8s        |</pre>"
      ],
      "text/plain": [
       "| 16094        | 2.9e+08 | 88.7749     | 2m 8s        |"
      ]
     },
     "metadata": {},
     "output_type": "display_data"
    },
    {
     "data": {
      "text/html": [
       "<pre>| 16220        | 2.9e+08 | 89.4699     | 2m 9s        |</pre>"
      ],
      "text/plain": [
       "| 16220        | 2.9e+08 | 89.4699     | 2m 9s        |"
      ]
     },
     "metadata": {},
     "output_type": "display_data"
    },
    {
     "data": {
      "text/html": [
       "<pre>| 16336        | 3e+08   | 90.1098     | 2m 10s       |</pre>"
      ],
      "text/plain": [
       "| 16336        | 3e+08   | 90.1098     | 2m 10s       |"
      ]
     },
     "metadata": {},
     "output_type": "display_data"
    },
    {
     "data": {
      "text/html": [
       "<pre>| 16437        | 3e+08   | 90.6669     | 2m 11s       |</pre>"
      ],
      "text/plain": [
       "| 16437        | 3e+08   | 90.6669     | 2m 11s       |"
      ]
     },
     "metadata": {},
     "output_type": "display_data"
    },
    {
     "data": {
      "text/html": [
       "<pre>| 16561        | 3e+08   | 91.3509     | 2m 12s       |</pre>"
      ],
      "text/plain": [
       "| 16561        | 3e+08   | 91.3509     | 2m 12s       |"
      ]
     },
     "metadata": {},
     "output_type": "display_data"
    },
    {
     "data": {
      "text/html": [
       "<pre>| 16714        | 3e+08   | 92.1948     | 2m 13s       |</pre>"
      ],
      "text/plain": [
       "| 16714        | 3e+08   | 92.1948     | 2m 13s       |"
      ]
     },
     "metadata": {},
     "output_type": "display_data"
    },
    {
     "data": {
      "text/html": [
       "<pre>| 16869        | 3.1e+08 | 93.0498     | 2m 14s       |</pre>"
      ],
      "text/plain": [
       "| 16869        | 3.1e+08 | 93.0498     | 2m 14s       |"
      ]
     },
     "metadata": {},
     "output_type": "display_data"
    },
    {
     "data": {
      "text/html": [
       "<pre>| 17024        | 3.1e+08 | 93.9048     | 2m 15s       |</pre>"
      ],
      "text/plain": [
       "| 17024        | 3.1e+08 | 93.9048     | 2m 15s       |"
      ]
     },
     "metadata": {},
     "output_type": "display_data"
    },
    {
     "data": {
      "text/html": [
       "<pre>| 17182        | 3.1e+08 | 94.7763     | 2m 16s       |</pre>"
      ],
      "text/plain": [
       "| 17182        | 3.1e+08 | 94.7763     | 2m 16s       |"
      ]
     },
     "metadata": {},
     "output_type": "display_data"
    },
    {
     "data": {
      "text/html": [
       "<pre>| 17327        | 3.1e+08 | 95.5761     | 2m 17s       |</pre>"
      ],
      "text/plain": [
       "| 17327        | 3.1e+08 | 95.5761     | 2m 17s       |"
      ]
     },
     "metadata": {},
     "output_type": "display_data"
    },
    {
     "data": {
      "text/html": [
       "<pre>| 17454        | 3.2e+08 | 96.2767     | 2m 18s       |</pre>"
      ],
      "text/plain": [
       "| 17454        | 3.2e+08 | 96.2767     | 2m 18s       |"
      ]
     },
     "metadata": {},
     "output_type": "display_data"
    },
    {
     "data": {
      "text/html": [
       "<pre>| 17603        | 3.2e+08 | 97.0986     | 2m 19s       |</pre>"
      ],
      "text/plain": [
       "| 17603        | 3.2e+08 | 97.0986     | 2m 19s       |"
      ]
     },
     "metadata": {},
     "output_type": "display_data"
    },
    {
     "data": {
      "text/html": [
       "<pre>| 17759        | 3.2e+08 | 97.9591     | 2m 20s       |</pre>"
      ],
      "text/plain": [
       "| 17759        | 3.2e+08 | 97.9591     | 2m 20s       |"
      ]
     },
     "metadata": {},
     "output_type": "display_data"
    },
    {
     "data": {
      "text/html": [
       "<pre>| 17913        | 3.2e+08 | 98.8085     | 2m 21s       |</pre>"
      ],
      "text/plain": [
       "| 17913        | 3.2e+08 | 98.8085     | 2m 21s       |"
      ]
     },
     "metadata": {},
     "output_type": "display_data"
    },
    {
     "data": {
      "text/html": [
       "<pre>| 18072        | 3.3e+08 | 99.6856     | 2m 22s       |</pre>"
      ],
      "text/plain": [
       "| 18072        | 3.3e+08 | 99.6856     | 2m 22s       |"
      ]
     },
     "metadata": {},
     "output_type": "display_data"
    },
    {
     "data": {
      "text/html": [
       "<pre>| Done         |         | 100         | 2m 22s       |</pre>"
      ],
      "text/plain": [
       "| Done         |         | 100         | 2m 22s       |"
      ]
     },
     "metadata": {},
     "output_type": "display_data"
    },
    {
     "data": {
      "text/html": [
       "<pre>+--------------+---------+-------------+--------------+</pre>"
      ],
      "text/plain": [
       "+--------------+---------+-------------+--------------+"
      ]
     },
     "metadata": {},
     "output_type": "display_data"
    },
    {
     "data": {
      "text/html": [
       "<pre>Preparing data set.</pre>"
      ],
      "text/plain": [
       "Preparing data set."
      ]
     },
     "metadata": {},
     "output_type": "display_data"
    },
    {
     "data": {
      "text/html": [
       "<pre>    Data has 0 observations with 0 users and 18129 items.</pre>"
      ],
      "text/plain": [
       "    Data has 0 observations with 0 users and 18129 items."
      ]
     },
     "metadata": {},
     "output_type": "display_data"
    },
    {
     "data": {
      "text/html": [
       "<pre>    Data prepared in: 0.820488s</pre>"
      ],
      "text/plain": [
       "    Data prepared in: 0.820488s"
      ]
     },
     "metadata": {},
     "output_type": "display_data"
    },
    {
     "data": {
      "text/html": [
       "<pre>Loading user-provided nearest items.</pre>"
      ],
      "text/plain": [
       "Loading user-provided nearest items."
      ]
     },
     "metadata": {},
     "output_type": "display_data"
    },
    {
     "data": {
      "text/html": [
       "<pre>Generating candidate set for working with new users.</pre>"
      ],
      "text/plain": [
       "Generating candidate set for working with new users."
      ]
     },
     "metadata": {},
     "output_type": "display_data"
    },
    {
     "data": {
      "text/html": [
       "<pre>Finished training in 0.122519s</pre>"
      ],
      "text/plain": [
       "Finished training in 0.122519s"
      ]
     },
     "metadata": {},
     "output_type": "display_data"
    }
   ],
   "source": [
    "model = gl.recommender.item_content_recommender.create(sf, item_id='id')"
   ]
  },
  {
   "cell_type": "code",
   "execution_count": 288,
   "metadata": {
    "collapsed": false
   },
   "outputs": [
    {
     "data": {
      "text/plain": [
       "0              A.I. Experiments by Google\n",
       "1                                 Init.ai\n",
       "2                         Google Earth VR\n",
       "3                                    Drop\n",
       "4                           Lookback Live\n",
       "5              Virtual Terminal by Square\n",
       "6                  Todoist Smart Schedule\n",
       "7                    Quick Draw by Google\n",
       "8                       Visual Studio Mac\n",
       "9                          Drift Profiles\n",
       "10                            TwitterTats\n",
       "11                                  Flock\n",
       "12                             Fondoodler\n",
       "13                      Drafted for Teams\n",
       "14                           SlackCatchup\n",
       "15                              Driftless\n",
       "16            Microsoft Azure Bot Service\n",
       "17                                 CINEVR\n",
       "18                               Fabulist\n",
       "19                         Otto Radio 2.0\n",
       "20         Clearbit Salesforce Prospector\n",
       "21                                 Rye 51\n",
       "22                             Nightwatch\n",
       "23                        Cliffs & Coasts\n",
       "24       Almond 3 Smart Home Wi-Fi System\n",
       "25                                  Block\n",
       "26           Android Secrets Leak Scanner\n",
       "27                           Where's Weed\n",
       "28                              Overlapse\n",
       "29                    PhotoScan by Google\n",
       "                       ...               \n",
       "18099                        EmailBreaker\n",
       "18100                               Flock\n",
       "18101                               Pushh\n",
       "18102                            Emojiary\n",
       "18103                    Crimson Keyboard\n",
       "18104              Female Founder Stories\n",
       "18105                         Vim Awesome\n",
       "18106                                Flow\n",
       "18107                                Krak\n",
       "18108                        Workshape.io\n",
       "18109                         Kitchenbowl\n",
       "18110                        Boost (Book)\n",
       "18111                       Learn.Onevest\n",
       "18112                 Code with Anna+Elsa\n",
       "18113                             Pinć VR\n",
       "18114                        Take My Cash\n",
       "18115                        Declare Task\n",
       "18116                              KeyBox\n",
       "18117                         Juice Video\n",
       "18118                  Dasher for Android\n",
       "18119                       The Idea Swap\n",
       "18120                             Snapjet\n",
       "18121                             Datomic\n",
       "18122                             HashKey\n",
       "18123                 The Offerman Rocket\n",
       "18124                              Atomus\n",
       "18125                        Funtionalize\n",
       "18126                              ReapSo\n",
       "18127                   Staggering Beauty\n",
       "18128              Woojer Wearable Woofer\n",
       "Name: name, dtype: object"
      ]
     },
     "execution_count": 288,
     "metadata": {},
     "output_type": "execute_result"
    }
   ],
   "source": [
    "X.name"
   ]
  },
  {
   "cell_type": "code",
   "execution_count": null,
   "metadata": {
    "collapsed": true
   },
   "outputs": [],
   "source": [
    "### recommend products similar to ex"
   ]
  },
  {
   "cell_type": "code",
   "execution_count": 142,
   "metadata": {
    "collapsed": true
   },
   "outputs": [],
   "source": [
    "recs = model.recommend_from_interactions([24])"
   ]
  },
  {
   "cell_type": "code",
   "execution_count": 141,
   "metadata": {
    "collapsed": false
   },
   "outputs": [
    {
     "data": {
      "text/html": [
       "<div>\n",
       "<table border=\"1\" class=\"dataframe\">\n",
       "  <thead>\n",
       "    <tr style=\"text-align: right;\">\n",
       "      <th></th>\n",
       "      <th>name</th>\n",
       "      <th>tagline</th>\n",
       "      <th>votes_count</th>\n",
       "      <th>day</th>\n",
       "      <th>time_of_day</th>\n",
       "      <th>date</th>\n",
       "    </tr>\n",
       "  </thead>\n",
       "  <tbody>\n",
       "    <tr>\n",
       "      <th>24</th>\n",
       "      <td>Almond 3 Smart Home Wi-Fi System</td>\n",
       "      <td>Mesh WiFi router with smarthome hub and Alexa ...</td>\n",
       "      <td>42</td>\n",
       "      <td>Wednesday</td>\n",
       "      <td>Morning</td>\n",
       "      <td>2016-11-16</td>\n",
       "    </tr>\n",
       "  </tbody>\n",
       "</table>\n",
       "</div>"
      ],
      "text/plain": [
       "                                name  \\\n",
       "24  Almond 3 Smart Home Wi-Fi System   \n",
       "\n",
       "                                              tagline  votes_count        day  \\\n",
       "24  Mesh WiFi router with smarthome hub and Alexa ...           42  Wednesday   \n",
       "\n",
       "   time_of_day        date  \n",
       "24     Morning  2016-11-16  "
      ]
     },
     "execution_count": 141,
     "metadata": {},
     "output_type": "execute_result"
    }
   ],
   "source": [
    "X[X.name == 'Almond 3 Smart Home Wi-Fi System'][['name', 'tagline', 'votes_count', 'day', 'time_of_day', 'date']]"
   ]
  },
  {
   "cell_type": "code",
   "execution_count": 119,
   "metadata": {
    "collapsed": false
   },
   "outputs": [
    {
     "data": {
      "text/plain": [
       "Index([u'id', u'date', u'day', u'created_at', u'time_of_day', u'name',\n",
       "       u'tagline', u'thumbnail_type', u'product_state', u'comments_count',\n",
       "       u'user_id', u'votes_count', u'num_makers', u'num_topics', u'Night',\n",
       "       u'Morning', u'Afternoon', u'Evening', u'Wednesday', u'Tuesday',\n",
       "       u'Monday', u'Sunday', u'Saturday', u'Friday', u'Thursday', u'image',\n",
       "       u'audio', u'video', u'book_preview'],\n",
       "      dtype='object')"
      ]
     },
     "execution_count": 119,
     "metadata": {},
     "output_type": "execute_result"
    }
   ],
   "source": [
    "X.columns"
   ]
  },
  {
   "cell_type": "code",
   "execution_count": 143,
   "metadata": {
    "collapsed": false
   },
   "outputs": [
    {
     "data": {
      "text/plain": [
       "dtype: int\n",
       "Rows: 10\n",
       "[61641, 61661, 61596, 61654, 61680, 61670, 61669, 61700, 61617, 61685]"
      ]
     },
     "execution_count": 143,
     "metadata": {},
     "output_type": "execute_result"
    }
   ],
   "source": [
    "rec = recs['id']\n",
    "rec"
   ]
  },
  {
   "cell_type": "code",
   "execution_count": 144,
   "metadata": {
    "collapsed": false
   },
   "outputs": [
    {
     "data": {
      "text/html": [
       "<div>\n",
       "<table border=\"1\" class=\"dataframe\">\n",
       "  <thead>\n",
       "    <tr style=\"text-align: right;\">\n",
       "      <th></th>\n",
       "      <th>name</th>\n",
       "      <th>tagline</th>\n",
       "      <th>votes_count</th>\n",
       "      <th>day</th>\n",
       "      <th>time_of_day</th>\n",
       "      <th>date</th>\n",
       "    </tr>\n",
       "  </thead>\n",
       "  <tbody>\n",
       "    <tr>\n",
       "      <th>4532</th>\n",
       "      <td>Receptiviti</td>\n",
       "      <td>Enabling AI platforms with emotional intelligence</td>\n",
       "      <td>139</td>\n",
       "      <td>Thursday</td>\n",
       "      <td>Morning</td>\n",
       "      <td>2016-05-05</td>\n",
       "    </tr>\n",
       "    <tr>\n",
       "      <th>4533</th>\n",
       "      <td>Curabase</td>\n",
       "      <td>Curate links for yourself, your team, and your...</td>\n",
       "      <td>105</td>\n",
       "      <td>Thursday</td>\n",
       "      <td>Night</td>\n",
       "      <td>2016-05-05</td>\n",
       "    </tr>\n",
       "    <tr>\n",
       "      <th>4534</th>\n",
       "      <td>The Loot Network</td>\n",
       "      <td>Your geeky product hub</td>\n",
       "      <td>104</td>\n",
       "      <td>Thursday</td>\n",
       "      <td>Morning</td>\n",
       "      <td>2016-05-05</td>\n",
       "    </tr>\n",
       "    <tr>\n",
       "      <th>4535</th>\n",
       "      <td>Sensay for Kik Messenger</td>\n",
       "      <td>The most helpful human you've never met, now i...</td>\n",
       "      <td>84</td>\n",
       "      <td>Thursday</td>\n",
       "      <td>Morning</td>\n",
       "      <td>2016-05-05</td>\n",
       "    </tr>\n",
       "    <tr>\n",
       "      <th>4536</th>\n",
       "      <td>IMDb Bot</td>\n",
       "      <td>Easily get movie information in your Slack tea...</td>\n",
       "      <td>60</td>\n",
       "      <td>Thursday</td>\n",
       "      <td>Morning</td>\n",
       "      <td>2016-05-05</td>\n",
       "    </tr>\n",
       "    <tr>\n",
       "      <th>4537</th>\n",
       "      <td>Lumy 2.0</td>\n",
       "      <td>Helps you track photographic times</td>\n",
       "      <td>53</td>\n",
       "      <td>Thursday</td>\n",
       "      <td>Morning</td>\n",
       "      <td>2016-05-05</td>\n",
       "    </tr>\n",
       "    <tr>\n",
       "      <th>4538</th>\n",
       "      <td>Star Wars Model Pack</td>\n",
       "      <td>Free 3D models from one of the Force Awakens V...</td>\n",
       "      <td>50</td>\n",
       "      <td>Thursday</td>\n",
       "      <td>Night</td>\n",
       "      <td>2016-05-05</td>\n",
       "    </tr>\n",
       "    <tr>\n",
       "      <th>4539</th>\n",
       "      <td>Anchovy</td>\n",
       "      <td>Turn your words into color and send as a postcard</td>\n",
       "      <td>51</td>\n",
       "      <td>Thursday</td>\n",
       "      <td>Night</td>\n",
       "      <td>2016-05-05</td>\n",
       "    </tr>\n",
       "    <tr>\n",
       "      <th>4540</th>\n",
       "      <td>Smoovie</td>\n",
       "      <td>Pocket sized gimbal for your iPhone or GoPro</td>\n",
       "      <td>47</td>\n",
       "      <td>Thursday</td>\n",
       "      <td>Night</td>\n",
       "      <td>2016-05-05</td>\n",
       "    </tr>\n",
       "    <tr>\n",
       "      <th>4541</th>\n",
       "      <td>Sqgl</td>\n",
       "      <td>An app that lets you send physical postcards t...</td>\n",
       "      <td>46</td>\n",
       "      <td>Thursday</td>\n",
       "      <td>Night</td>\n",
       "      <td>2016-05-05</td>\n",
       "    </tr>\n",
       "  </tbody>\n",
       "</table>\n",
       "</div>"
      ],
      "text/plain": [
       "                          name  \\\n",
       "4532               Receptiviti   \n",
       "4533                  Curabase   \n",
       "4534          The Loot Network   \n",
       "4535  Sensay for Kik Messenger   \n",
       "4536                  IMDb Bot   \n",
       "4537                  Lumy 2.0   \n",
       "4538      Star Wars Model Pack   \n",
       "4539                   Anchovy   \n",
       "4540                   Smoovie   \n",
       "4541                      Sqgl   \n",
       "\n",
       "                                                tagline  votes_count  \\\n",
       "4532  Enabling AI platforms with emotional intelligence          139   \n",
       "4533  Curate links for yourself, your team, and your...          105   \n",
       "4534                             Your geeky product hub          104   \n",
       "4535  The most helpful human you've never met, now i...           84   \n",
       "4536  Easily get movie information in your Slack tea...           60   \n",
       "4537                 Helps you track photographic times           53   \n",
       "4538  Free 3D models from one of the Force Awakens V...           50   \n",
       "4539  Turn your words into color and send as a postcard           51   \n",
       "4540       Pocket sized gimbal for your iPhone or GoPro           47   \n",
       "4541  An app that lets you send physical postcards t...           46   \n",
       "\n",
       "           day time_of_day        date  \n",
       "4532  Thursday     Morning  2016-05-05  \n",
       "4533  Thursday       Night  2016-05-05  \n",
       "4534  Thursday     Morning  2016-05-05  \n",
       "4535  Thursday     Morning  2016-05-05  \n",
       "4536  Thursday     Morning  2016-05-05  \n",
       "4537  Thursday     Morning  2016-05-05  \n",
       "4538  Thursday       Night  2016-05-05  \n",
       "4539  Thursday       Night  2016-05-05  \n",
       "4540  Thursday       Night  2016-05-05  \n",
       "4541  Thursday       Night  2016-05-05  "
      ]
     },
     "execution_count": 144,
     "metadata": {},
     "output_type": "execute_result"
    }
   ],
   "source": [
    "X.loc[X['id'].isin(rec)][['name', 'tagline', 'votes_count','day', 'time_of_day', 'date']]"
   ]
  },
  {
   "cell_type": "code",
   "execution_count": 149,
   "metadata": {
    "collapsed": false
   },
   "outputs": [],
   "source": [
    "rating = pd.read_csv('/home/joanna/Desktop/producthunt/data.csv')"
   ]
  },
  {
   "cell_type": "code",
   "execution_count": 150,
   "metadata": {
    "collapsed": false
   },
   "outputs": [
    {
     "data": {
      "text/html": [
       "<div>\n",
       "<table border=\"1\" class=\"dataframe\">\n",
       "  <thead>\n",
       "    <tr style=\"text-align: right;\">\n",
       "      <th></th>\n",
       "      <th>Unnamed: 0</th>\n",
       "      <th>product_id</th>\n",
       "      <th>user_id</th>\n",
       "      <th>votes</th>\n",
       "    </tr>\n",
       "  </thead>\n",
       "  <tbody>\n",
       "    <tr>\n",
       "      <th>0</th>\n",
       "      <td>0</td>\n",
       "      <td>36138</td>\n",
       "      <td>50171</td>\n",
       "      <td>1</td>\n",
       "    </tr>\n",
       "    <tr>\n",
       "      <th>1</th>\n",
       "      <td>1</td>\n",
       "      <td>9294</td>\n",
       "      <td>37112</td>\n",
       "      <td>1</td>\n",
       "    </tr>\n",
       "    <tr>\n",
       "      <th>2</th>\n",
       "      <td>2</td>\n",
       "      <td>7063</td>\n",
       "      <td>115829</td>\n",
       "      <td>1</td>\n",
       "    </tr>\n",
       "    <tr>\n",
       "      <th>3</th>\n",
       "      <td>3</td>\n",
       "      <td>6316</td>\n",
       "      <td>25707</td>\n",
       "      <td>1</td>\n",
       "    </tr>\n",
       "    <tr>\n",
       "      <th>4</th>\n",
       "      <td>4</td>\n",
       "      <td>14139</td>\n",
       "      <td>762755</td>\n",
       "      <td>1</td>\n",
       "    </tr>\n",
       "  </tbody>\n",
       "</table>\n",
       "</div>"
      ],
      "text/plain": [
       "   Unnamed: 0  product_id  user_id  votes\n",
       "0           0       36138    50171      1\n",
       "1           1        9294    37112      1\n",
       "2           2        7063   115829      1\n",
       "3           3        6316    25707      1\n",
       "4           4       14139   762755      1"
      ]
     },
     "execution_count": 150,
     "metadata": {},
     "output_type": "execute_result"
    }
   ],
   "source": [
    "rating.head()"
   ]
  },
  {
   "cell_type": "code",
   "execution_count": 152,
   "metadata": {
    "collapsed": false
   },
   "outputs": [],
   "source": [
    "rp = rating.product_id"
   ]
  },
  {
   "cell_type": "code",
   "execution_count": 159,
   "metadata": {
    "collapsed": false
   },
   "outputs": [
    {
     "data": {
      "text/plain": [
       "18129"
      ]
     },
     "execution_count": 159,
     "metadata": {},
     "output_type": "execute_result"
    }
   ],
   "source": [
    "X.id.value_counts().sum()"
   ]
  },
  {
   "cell_type": "code",
   "execution_count": 163,
   "metadata": {
    "collapsed": false
   },
   "outputs": [],
   "source": [
    "X_item = X.loc[X['id'].isin(rp)][[u'id', u'date', u'day', u'created_at', u'time_of_day', u'name',\n",
    "       u'tagline', u'thumbnail_type', u'product_state', u'comments_count',\n",
    "       u'user_id', u'votes_count', u'num_makers', u'num_topics', u'Night',\n",
    "       u'Morning', u'Afternoon', u'Evening', u'Wednesday', u'Tuesday',\n",
    "       u'Monday', u'Sunday', u'Saturday', u'Friday', u'Thursday', u'image',\n",
    "       u'audio', u'video', u'book_preview']]"
   ]
  },
  {
   "cell_type": "code",
   "execution_count": 164,
   "metadata": {
    "collapsed": false
   },
   "outputs": [
    {
     "data": {
      "text/html": [
       "<div>\n",
       "<table border=\"1\" class=\"dataframe\">\n",
       "  <thead>\n",
       "    <tr style=\"text-align: right;\">\n",
       "      <th></th>\n",
       "      <th>id</th>\n",
       "      <th>date</th>\n",
       "      <th>day</th>\n",
       "      <th>created_at</th>\n",
       "      <th>time_of_day</th>\n",
       "      <th>name</th>\n",
       "      <th>tagline</th>\n",
       "      <th>thumbnail_type</th>\n",
       "      <th>product_state</th>\n",
       "      <th>comments_count</th>\n",
       "      <th>...</th>\n",
       "      <th>Tuesday</th>\n",
       "      <th>Monday</th>\n",
       "      <th>Sunday</th>\n",
       "      <th>Saturday</th>\n",
       "      <th>Friday</th>\n",
       "      <th>Thursday</th>\n",
       "      <th>image</th>\n",
       "      <th>audio</th>\n",
       "      <th>video</th>\n",
       "      <th>book_preview</th>\n",
       "    </tr>\n",
       "  </thead>\n",
       "  <tbody>\n",
       "    <tr>\n",
       "      <th>169</th>\n",
       "      <td>7195</td>\n",
       "      <td>2016-11-09</td>\n",
       "      <td>Wednesday</td>\n",
       "      <td>2016-11-09 05:57:39</td>\n",
       "      <td>Morning</td>\n",
       "      <td>Pics.io</td>\n",
       "      <td>Turning Google Drive into a tool for creatives</td>\n",
       "      <td>image</td>\n",
       "      <td>default</td>\n",
       "      <td>5</td>\n",
       "      <td>...</td>\n",
       "      <td>False</td>\n",
       "      <td>False</td>\n",
       "      <td>False</td>\n",
       "      <td>False</td>\n",
       "      <td>False</td>\n",
       "      <td>False</td>\n",
       "      <td>True</td>\n",
       "      <td>False</td>\n",
       "      <td>False</td>\n",
       "      <td>False</td>\n",
       "    </tr>\n",
       "    <tr>\n",
       "      <th>657</th>\n",
       "      <td>43459</td>\n",
       "      <td>2016-10-20</td>\n",
       "      <td>Thursday</td>\n",
       "      <td>2016-10-20 00:01:00</td>\n",
       "      <td>Night</td>\n",
       "      <td>Notion</td>\n",
       "      <td>Artificial intelligence-powered email.</td>\n",
       "      <td>image</td>\n",
       "      <td>default</td>\n",
       "      <td>122</td>\n",
       "      <td>...</td>\n",
       "      <td>False</td>\n",
       "      <td>False</td>\n",
       "      <td>False</td>\n",
       "      <td>False</td>\n",
       "      <td>False</td>\n",
       "      <td>True</td>\n",
       "      <td>True</td>\n",
       "      <td>False</td>\n",
       "      <td>False</td>\n",
       "      <td>False</td>\n",
       "    </tr>\n",
       "    <tr>\n",
       "      <th>1173</th>\n",
       "      <td>43446</td>\n",
       "      <td>2016-09-28</td>\n",
       "      <td>Wednesday</td>\n",
       "      <td>2016-09-28 01:47:00</td>\n",
       "      <td>Night</td>\n",
       "      <td>OLIO - The Food Sharing Revolution</td>\n",
       "      <td>Peer-to-peer food sharing</td>\n",
       "      <td>image</td>\n",
       "      <td>default</td>\n",
       "      <td>16</td>\n",
       "      <td>...</td>\n",
       "      <td>False</td>\n",
       "      <td>False</td>\n",
       "      <td>False</td>\n",
       "      <td>False</td>\n",
       "      <td>False</td>\n",
       "      <td>False</td>\n",
       "      <td>True</td>\n",
       "      <td>False</td>\n",
       "      <td>False</td>\n",
       "      <td>False</td>\n",
       "    </tr>\n",
       "    <tr>\n",
       "      <th>2014</th>\n",
       "      <td>36504</td>\n",
       "      <td>2016-08-23</td>\n",
       "      <td>Tuesday</td>\n",
       "      <td>2016-08-23 01:26:55</td>\n",
       "      <td>Night</td>\n",
       "      <td>Pepipost</td>\n",
       "      <td>Email delivery platform. Pay for unopened emai...</td>\n",
       "      <td>image</td>\n",
       "      <td>default</td>\n",
       "      <td>10</td>\n",
       "      <td>...</td>\n",
       "      <td>True</td>\n",
       "      <td>False</td>\n",
       "      <td>False</td>\n",
       "      <td>False</td>\n",
       "      <td>False</td>\n",
       "      <td>False</td>\n",
       "      <td>True</td>\n",
       "      <td>False</td>\n",
       "      <td>False</td>\n",
       "      <td>False</td>\n",
       "    </tr>\n",
       "    <tr>\n",
       "      <th>2117</th>\n",
       "      <td>17077</td>\n",
       "      <td>2016-08-17</td>\n",
       "      <td>Wednesday</td>\n",
       "      <td>2016-08-17 00:05:00</td>\n",
       "      <td>Night</td>\n",
       "      <td>Zwift</td>\n",
       "      <td>Turn indoor cycling workouts into fun, social ...</td>\n",
       "      <td>image</td>\n",
       "      <td>default</td>\n",
       "      <td>14</td>\n",
       "      <td>...</td>\n",
       "      <td>False</td>\n",
       "      <td>False</td>\n",
       "      <td>False</td>\n",
       "      <td>False</td>\n",
       "      <td>False</td>\n",
       "      <td>False</td>\n",
       "      <td>True</td>\n",
       "      <td>False</td>\n",
       "      <td>False</td>\n",
       "      <td>False</td>\n",
       "    </tr>\n",
       "    <tr>\n",
       "      <th>2459</th>\n",
       "      <td>42943</td>\n",
       "      <td>2016-08-03</td>\n",
       "      <td>Wednesday</td>\n",
       "      <td>2016-08-03 00:01:00</td>\n",
       "      <td>Night</td>\n",
       "      <td>Sharingbuttons.io 2.0</td>\n",
       "      <td>Super fast and easy social media sharing buttons.</td>\n",
       "      <td>image</td>\n",
       "      <td>default</td>\n",
       "      <td>47</td>\n",
       "      <td>...</td>\n",
       "      <td>False</td>\n",
       "      <td>False</td>\n",
       "      <td>False</td>\n",
       "      <td>False</td>\n",
       "      <td>False</td>\n",
       "      <td>False</td>\n",
       "      <td>True</td>\n",
       "      <td>False</td>\n",
       "      <td>False</td>\n",
       "      <td>False</td>\n",
       "    </tr>\n",
       "    <tr>\n",
       "      <th>2945</th>\n",
       "      <td>29819</td>\n",
       "      <td>2016-07-16</td>\n",
       "      <td>Saturday</td>\n",
       "      <td>2016-07-16 07:22:53</td>\n",
       "      <td>Morning</td>\n",
       "      <td>OverType</td>\n",
       "      <td>A (frustrating) typewriter simulator in your b...</td>\n",
       "      <td>image</td>\n",
       "      <td>default</td>\n",
       "      <td>5</td>\n",
       "      <td>...</td>\n",
       "      <td>False</td>\n",
       "      <td>False</td>\n",
       "      <td>False</td>\n",
       "      <td>True</td>\n",
       "      <td>False</td>\n",
       "      <td>False</td>\n",
       "      <td>True</td>\n",
       "      <td>False</td>\n",
       "      <td>False</td>\n",
       "      <td>False</td>\n",
       "    </tr>\n",
       "    <tr>\n",
       "      <th>3259</th>\n",
       "      <td>37730</td>\n",
       "      <td>2016-07-04</td>\n",
       "      <td>Monday</td>\n",
       "      <td>2016-07-04 04:27:20</td>\n",
       "      <td>Night</td>\n",
       "      <td>ORA-X</td>\n",
       "      <td>World's first augmented reality headphones</td>\n",
       "      <td>image</td>\n",
       "      <td>pre_launch</td>\n",
       "      <td>3</td>\n",
       "      <td>...</td>\n",
       "      <td>False</td>\n",
       "      <td>True</td>\n",
       "      <td>False</td>\n",
       "      <td>False</td>\n",
       "      <td>False</td>\n",
       "      <td>False</td>\n",
       "      <td>True</td>\n",
       "      <td>False</td>\n",
       "      <td>False</td>\n",
       "      <td>False</td>\n",
       "    </tr>\n",
       "    <tr>\n",
       "      <th>3483</th>\n",
       "      <td>45060</td>\n",
       "      <td>2016-06-23</td>\n",
       "      <td>Thursday</td>\n",
       "      <td>2016-06-23 02:00:00</td>\n",
       "      <td>Night</td>\n",
       "      <td>Doozyrama - Walking app</td>\n",
       "      <td>Walk &amp; Discover</td>\n",
       "      <td>image</td>\n",
       "      <td>default</td>\n",
       "      <td>4</td>\n",
       "      <td>...</td>\n",
       "      <td>False</td>\n",
       "      <td>False</td>\n",
       "      <td>False</td>\n",
       "      <td>False</td>\n",
       "      <td>False</td>\n",
       "      <td>True</td>\n",
       "      <td>True</td>\n",
       "      <td>False</td>\n",
       "      <td>False</td>\n",
       "      <td>False</td>\n",
       "    </tr>\n",
       "    <tr>\n",
       "      <th>3647</th>\n",
       "      <td>41051</td>\n",
       "      <td>2016-06-15</td>\n",
       "      <td>Wednesday</td>\n",
       "      <td>2016-06-15 07:30:00</td>\n",
       "      <td>Morning</td>\n",
       "      <td>Braid</td>\n",
       "      <td>Free, simple project management inside Gmail a...</td>\n",
       "      <td>image</td>\n",
       "      <td>default</td>\n",
       "      <td>9</td>\n",
       "      <td>...</td>\n",
       "      <td>False</td>\n",
       "      <td>False</td>\n",
       "      <td>False</td>\n",
       "      <td>False</td>\n",
       "      <td>False</td>\n",
       "      <td>False</td>\n",
       "      <td>True</td>\n",
       "      <td>False</td>\n",
       "      <td>False</td>\n",
       "      <td>False</td>\n",
       "    </tr>\n",
       "    <tr>\n",
       "      <th>3847</th>\n",
       "      <td>41374</td>\n",
       "      <td>2016-06-06</td>\n",
       "      <td>Monday</td>\n",
       "      <td>2016-06-06 13:08:18</td>\n",
       "      <td>Afternoon</td>\n",
       "      <td>FoxType Thesaurus</td>\n",
       "      <td>Visualize similar words for _____</td>\n",
       "      <td>image</td>\n",
       "      <td>default</td>\n",
       "      <td>3</td>\n",
       "      <td>...</td>\n",
       "      <td>False</td>\n",
       "      <td>True</td>\n",
       "      <td>False</td>\n",
       "      <td>False</td>\n",
       "      <td>False</td>\n",
       "      <td>False</td>\n",
       "      <td>True</td>\n",
       "      <td>False</td>\n",
       "      <td>False</td>\n",
       "      <td>False</td>\n",
       "    </tr>\n",
       "    <tr>\n",
       "      <th>5494</th>\n",
       "      <td>36974</td>\n",
       "      <td>2016-03-24</td>\n",
       "      <td>Thursday</td>\n",
       "      <td>2016-03-24 05:00:00</td>\n",
       "      <td>Morning</td>\n",
       "      <td>Music For Makers</td>\n",
       "      <td>Royalty-free songs to your inbox</td>\n",
       "      <td>image</td>\n",
       "      <td>default</td>\n",
       "      <td>30</td>\n",
       "      <td>...</td>\n",
       "      <td>False</td>\n",
       "      <td>False</td>\n",
       "      <td>False</td>\n",
       "      <td>False</td>\n",
       "      <td>False</td>\n",
       "      <td>True</td>\n",
       "      <td>True</td>\n",
       "      <td>False</td>\n",
       "      <td>False</td>\n",
       "      <td>False</td>\n",
       "    </tr>\n",
       "    <tr>\n",
       "      <th>5627</th>\n",
       "      <td>35553</td>\n",
       "      <td>2016-03-18</td>\n",
       "      <td>Friday</td>\n",
       "      <td>2016-03-18 00:31:47</td>\n",
       "      <td>Night</td>\n",
       "      <td>Bartender 2</td>\n",
       "      <td>Organize and hide menu bar items on your Mac</td>\n",
       "      <td>image</td>\n",
       "      <td>default</td>\n",
       "      <td>23</td>\n",
       "      <td>...</td>\n",
       "      <td>False</td>\n",
       "      <td>False</td>\n",
       "      <td>False</td>\n",
       "      <td>False</td>\n",
       "      <td>True</td>\n",
       "      <td>False</td>\n",
       "      <td>True</td>\n",
       "      <td>False</td>\n",
       "      <td>False</td>\n",
       "      <td>False</td>\n",
       "    </tr>\n",
       "    <tr>\n",
       "      <th>5752</th>\n",
       "      <td>25554</td>\n",
       "      <td>2016-03-14</td>\n",
       "      <td>Monday</td>\n",
       "      <td>2016-03-14 05:00:00</td>\n",
       "      <td>Morning</td>\n",
       "      <td>Magpie</td>\n",
       "      <td>Female travelers club - meet women like you wh...</td>\n",
       "      <td>image</td>\n",
       "      <td>default</td>\n",
       "      <td>63</td>\n",
       "      <td>...</td>\n",
       "      <td>False</td>\n",
       "      <td>True</td>\n",
       "      <td>False</td>\n",
       "      <td>False</td>\n",
       "      <td>False</td>\n",
       "      <td>False</td>\n",
       "      <td>True</td>\n",
       "      <td>False</td>\n",
       "      <td>False</td>\n",
       "      <td>False</td>\n",
       "    </tr>\n",
       "    <tr>\n",
       "      <th>5911</th>\n",
       "      <td>34925</td>\n",
       "      <td>2016-03-08</td>\n",
       "      <td>Tuesday</td>\n",
       "      <td>2016-03-08 04:14:11</td>\n",
       "      <td>Night</td>\n",
       "      <td>Rebrandly</td>\n",
       "      <td>Create and share links with your custom domain...</td>\n",
       "      <td>image</td>\n",
       "      <td>default</td>\n",
       "      <td>67</td>\n",
       "      <td>...</td>\n",
       "      <td>True</td>\n",
       "      <td>False</td>\n",
       "      <td>False</td>\n",
       "      <td>False</td>\n",
       "      <td>False</td>\n",
       "      <td>False</td>\n",
       "      <td>True</td>\n",
       "      <td>False</td>\n",
       "      <td>False</td>\n",
       "      <td>False</td>\n",
       "    </tr>\n",
       "    <tr>\n",
       "      <th>5928</th>\n",
       "      <td>45105</td>\n",
       "      <td>2016-03-08</td>\n",
       "      <td>Tuesday</td>\n",
       "      <td>2016-03-08 07:03:26</td>\n",
       "      <td>Morning</td>\n",
       "      <td>Pair3d</td>\n",
       "      <td>Bring the showroom to your living room</td>\n",
       "      <td>image</td>\n",
       "      <td>default</td>\n",
       "      <td>7</td>\n",
       "      <td>...</td>\n",
       "      <td>True</td>\n",
       "      <td>False</td>\n",
       "      <td>False</td>\n",
       "      <td>False</td>\n",
       "      <td>False</td>\n",
       "      <td>False</td>\n",
       "      <td>True</td>\n",
       "      <td>False</td>\n",
       "      <td>False</td>\n",
       "      <td>False</td>\n",
       "    </tr>\n",
       "    <tr>\n",
       "      <th>6034</th>\n",
       "      <td>11588</td>\n",
       "      <td>2016-03-03</td>\n",
       "      <td>Thursday</td>\n",
       "      <td>2016-03-03 01:06:46</td>\n",
       "      <td>Night</td>\n",
       "      <td>Tilt Brush by Google</td>\n",
       "      <td>Paint in spaces around you with Virtual Reality</td>\n",
       "      <td>image</td>\n",
       "      <td>pre_launch</td>\n",
       "      <td>13</td>\n",
       "      <td>...</td>\n",
       "      <td>False</td>\n",
       "      <td>False</td>\n",
       "      <td>False</td>\n",
       "      <td>False</td>\n",
       "      <td>False</td>\n",
       "      <td>True</td>\n",
       "      <td>True</td>\n",
       "      <td>False</td>\n",
       "      <td>False</td>\n",
       "      <td>False</td>\n",
       "    </tr>\n",
       "    <tr>\n",
       "      <th>6041</th>\n",
       "      <td>23989</td>\n",
       "      <td>2016-03-03</td>\n",
       "      <td>Thursday</td>\n",
       "      <td>2016-03-03 00:08:00</td>\n",
       "      <td>Night</td>\n",
       "      <td>ZeroNet</td>\n",
       "      <td>Decentralized websites using Bitcoin cryptography</td>\n",
       "      <td>image</td>\n",
       "      <td>default</td>\n",
       "      <td>4</td>\n",
       "      <td>...</td>\n",
       "      <td>False</td>\n",
       "      <td>False</td>\n",
       "      <td>False</td>\n",
       "      <td>False</td>\n",
       "      <td>False</td>\n",
       "      <td>True</td>\n",
       "      <td>True</td>\n",
       "      <td>False</td>\n",
       "      <td>False</td>\n",
       "      <td>False</td>\n",
       "    </tr>\n",
       "    <tr>\n",
       "      <th>6238</th>\n",
       "      <td>32407</td>\n",
       "      <td>2016-02-25</td>\n",
       "      <td>Thursday</td>\n",
       "      <td>2016-02-25 00:01:00</td>\n",
       "      <td>Night</td>\n",
       "      <td>Wub Machine</td>\n",
       "      <td>Turn any song into dubstep version</td>\n",
       "      <td>image</td>\n",
       "      <td>default</td>\n",
       "      <td>5</td>\n",
       "      <td>...</td>\n",
       "      <td>False</td>\n",
       "      <td>False</td>\n",
       "      <td>False</td>\n",
       "      <td>False</td>\n",
       "      <td>False</td>\n",
       "      <td>True</td>\n",
       "      <td>True</td>\n",
       "      <td>False</td>\n",
       "      <td>False</td>\n",
       "      <td>False</td>\n",
       "    </tr>\n",
       "    <tr>\n",
       "      <th>6303</th>\n",
       "      <td>33594</td>\n",
       "      <td>2016-02-23</td>\n",
       "      <td>Tuesday</td>\n",
       "      <td>2016-02-23 02:00:00</td>\n",
       "      <td>Night</td>\n",
       "      <td>Homer Keyboard</td>\n",
       "      <td>Share more, Switch less.</td>\n",
       "      <td>image</td>\n",
       "      <td>default</td>\n",
       "      <td>10</td>\n",
       "      <td>...</td>\n",
       "      <td>True</td>\n",
       "      <td>False</td>\n",
       "      <td>False</td>\n",
       "      <td>False</td>\n",
       "      <td>False</td>\n",
       "      <td>False</td>\n",
       "      <td>True</td>\n",
       "      <td>False</td>\n",
       "      <td>False</td>\n",
       "      <td>False</td>\n",
       "    </tr>\n",
       "    <tr>\n",
       "      <th>6429</th>\n",
       "      <td>23203</td>\n",
       "      <td>2016-02-17</td>\n",
       "      <td>Wednesday</td>\n",
       "      <td>2016-02-17 05:47:06</td>\n",
       "      <td>Morning</td>\n",
       "      <td>Netatmo Welcome</td>\n",
       "      <td>Home security camera with facial recognition</td>\n",
       "      <td>image</td>\n",
       "      <td>default</td>\n",
       "      <td>5</td>\n",
       "      <td>...</td>\n",
       "      <td>False</td>\n",
       "      <td>False</td>\n",
       "      <td>False</td>\n",
       "      <td>False</td>\n",
       "      <td>False</td>\n",
       "      <td>False</td>\n",
       "      <td>True</td>\n",
       "      <td>False</td>\n",
       "      <td>False</td>\n",
       "      <td>False</td>\n",
       "    </tr>\n",
       "    <tr>\n",
       "      <th>6559</th>\n",
       "      <td>41014</td>\n",
       "      <td>2016-02-12</td>\n",
       "      <td>Friday</td>\n",
       "      <td>2016-02-12 00:10:00</td>\n",
       "      <td>Night</td>\n",
       "      <td>Ameego</td>\n",
       "      <td>Airbnb for people. Rent friends by the hour.</td>\n",
       "      <td>image</td>\n",
       "      <td>default</td>\n",
       "      <td>25</td>\n",
       "      <td>...</td>\n",
       "      <td>False</td>\n",
       "      <td>False</td>\n",
       "      <td>False</td>\n",
       "      <td>False</td>\n",
       "      <td>True</td>\n",
       "      <td>False</td>\n",
       "      <td>True</td>\n",
       "      <td>False</td>\n",
       "      <td>False</td>\n",
       "      <td>False</td>\n",
       "    </tr>\n",
       "    <tr>\n",
       "      <th>6624</th>\n",
       "      <td>24095</td>\n",
       "      <td>2016-02-10</td>\n",
       "      <td>Wednesday</td>\n",
       "      <td>2016-02-10 03:24:33</td>\n",
       "      <td>Night</td>\n",
       "      <td>Deepstream.io</td>\n",
       "      <td>A scalable server for realtime web apps</td>\n",
       "      <td>image</td>\n",
       "      <td>default</td>\n",
       "      <td>8</td>\n",
       "      <td>...</td>\n",
       "      <td>False</td>\n",
       "      <td>False</td>\n",
       "      <td>False</td>\n",
       "      <td>False</td>\n",
       "      <td>False</td>\n",
       "      <td>False</td>\n",
       "      <td>True</td>\n",
       "      <td>False</td>\n",
       "      <td>False</td>\n",
       "      <td>False</td>\n",
       "    </tr>\n",
       "    <tr>\n",
       "      <th>6672</th>\n",
       "      <td>26383</td>\n",
       "      <td>2016-02-08</td>\n",
       "      <td>Monday</td>\n",
       "      <td>2016-02-08 07:45:46</td>\n",
       "      <td>Morning</td>\n",
       "      <td>musicForProgramming();</td>\n",
       "      <td>Mixes intended for listening while programming</td>\n",
       "      <td>image</td>\n",
       "      <td>default</td>\n",
       "      <td>32</td>\n",
       "      <td>...</td>\n",
       "      <td>False</td>\n",
       "      <td>True</td>\n",
       "      <td>False</td>\n",
       "      <td>False</td>\n",
       "      <td>False</td>\n",
       "      <td>False</td>\n",
       "      <td>True</td>\n",
       "      <td>False</td>\n",
       "      <td>False</td>\n",
       "      <td>False</td>\n",
       "    </tr>\n",
       "    <tr>\n",
       "      <th>6707</th>\n",
       "      <td>42656</td>\n",
       "      <td>2016-02-07</td>\n",
       "      <td>Sunday</td>\n",
       "      <td>2016-02-07 03:51:54</td>\n",
       "      <td>Night</td>\n",
       "      <td>Foodswiper</td>\n",
       "      <td>Browse real pictures of food and get it delive...</td>\n",
       "      <td>image</td>\n",
       "      <td>default</td>\n",
       "      <td>8</td>\n",
       "      <td>...</td>\n",
       "      <td>False</td>\n",
       "      <td>False</td>\n",
       "      <td>True</td>\n",
       "      <td>False</td>\n",
       "      <td>False</td>\n",
       "      <td>False</td>\n",
       "      <td>True</td>\n",
       "      <td>False</td>\n",
       "      <td>False</td>\n",
       "      <td>False</td>\n",
       "    </tr>\n",
       "    <tr>\n",
       "      <th>6742</th>\n",
       "      <td>22029</td>\n",
       "      <td>2016-02-05</td>\n",
       "      <td>Friday</td>\n",
       "      <td>2016-02-05 08:29:03</td>\n",
       "      <td>Morning</td>\n",
       "      <td>Onlypult</td>\n",
       "      <td>Instagram post scheduling</td>\n",
       "      <td>image</td>\n",
       "      <td>default</td>\n",
       "      <td>12</td>\n",
       "      <td>...</td>\n",
       "      <td>False</td>\n",
       "      <td>False</td>\n",
       "      <td>False</td>\n",
       "      <td>False</td>\n",
       "      <td>True</td>\n",
       "      <td>False</td>\n",
       "      <td>True</td>\n",
       "      <td>False</td>\n",
       "      <td>False</td>\n",
       "      <td>False</td>\n",
       "    </tr>\n",
       "    <tr>\n",
       "      <th>6804</th>\n",
       "      <td>42888</td>\n",
       "      <td>2016-02-03</td>\n",
       "      <td>Wednesday</td>\n",
       "      <td>2016-02-03 02:00:00</td>\n",
       "      <td>Night</td>\n",
       "      <td>Seed</td>\n",
       "      <td>The smart bottle that never forgets about you</td>\n",
       "      <td>image</td>\n",
       "      <td>pre_launch</td>\n",
       "      <td>6</td>\n",
       "      <td>...</td>\n",
       "      <td>False</td>\n",
       "      <td>False</td>\n",
       "      <td>False</td>\n",
       "      <td>False</td>\n",
       "      <td>False</td>\n",
       "      <td>False</td>\n",
       "      <td>True</td>\n",
       "      <td>False</td>\n",
       "      <td>False</td>\n",
       "      <td>False</td>\n",
       "    </tr>\n",
       "    <tr>\n",
       "      <th>6818</th>\n",
       "      <td>45210</td>\n",
       "      <td>2016-02-02</td>\n",
       "      <td>Tuesday</td>\n",
       "      <td>2016-02-02 01:04:15</td>\n",
       "      <td>Night</td>\n",
       "      <td>Hashnode</td>\n",
       "      <td>A network of software developers to learn and ...</td>\n",
       "      <td>image</td>\n",
       "      <td>default</td>\n",
       "      <td>37</td>\n",
       "      <td>...</td>\n",
       "      <td>True</td>\n",
       "      <td>False</td>\n",
       "      <td>False</td>\n",
       "      <td>False</td>\n",
       "      <td>False</td>\n",
       "      <td>False</td>\n",
       "      <td>True</td>\n",
       "      <td>False</td>\n",
       "      <td>False</td>\n",
       "      <td>False</td>\n",
       "    </tr>\n",
       "    <tr>\n",
       "      <th>6832</th>\n",
       "      <td>41643</td>\n",
       "      <td>2016-02-02</td>\n",
       "      <td>Tuesday</td>\n",
       "      <td>2016-02-02 05:00:00</td>\n",
       "      <td>Morning</td>\n",
       "      <td>Iconery</td>\n",
       "      <td>Designer-driven, 3D printed fine jewelry marke...</td>\n",
       "      <td>image</td>\n",
       "      <td>default</td>\n",
       "      <td>15</td>\n",
       "      <td>...</td>\n",
       "      <td>True</td>\n",
       "      <td>False</td>\n",
       "      <td>False</td>\n",
       "      <td>False</td>\n",
       "      <td>False</td>\n",
       "      <td>False</td>\n",
       "      <td>True</td>\n",
       "      <td>False</td>\n",
       "      <td>False</td>\n",
       "      <td>False</td>\n",
       "    </tr>\n",
       "    <tr>\n",
       "      <th>6884</th>\n",
       "      <td>40575</td>\n",
       "      <td>2016-01-31</td>\n",
       "      <td>Sunday</td>\n",
       "      <td>2016-01-31 00:09:00</td>\n",
       "      <td>Night</td>\n",
       "      <td>SoFlow</td>\n",
       "      <td>The all-in-one social media app</td>\n",
       "      <td>image</td>\n",
       "      <td>default</td>\n",
       "      <td>35</td>\n",
       "      <td>...</td>\n",
       "      <td>False</td>\n",
       "      <td>False</td>\n",
       "      <td>True</td>\n",
       "      <td>False</td>\n",
       "      <td>False</td>\n",
       "      <td>False</td>\n",
       "      <td>True</td>\n",
       "      <td>False</td>\n",
       "      <td>False</td>\n",
       "      <td>False</td>\n",
       "    </tr>\n",
       "    <tr>\n",
       "      <th>...</th>\n",
       "      <td>...</td>\n",
       "      <td>...</td>\n",
       "      <td>...</td>\n",
       "      <td>...</td>\n",
       "      <td>...</td>\n",
       "      <td>...</td>\n",
       "      <td>...</td>\n",
       "      <td>...</td>\n",
       "      <td>...</td>\n",
       "      <td>...</td>\n",
       "      <td>...</td>\n",
       "      <td>...</td>\n",
       "      <td>...</td>\n",
       "      <td>...</td>\n",
       "      <td>...</td>\n",
       "      <td>...</td>\n",
       "      <td>...</td>\n",
       "      <td>...</td>\n",
       "      <td>...</td>\n",
       "      <td>...</td>\n",
       "      <td>...</td>\n",
       "    </tr>\n",
       "    <tr>\n",
       "      <th>18076</th>\n",
       "      <td>11475</td>\n",
       "      <td>2014-11-25</td>\n",
       "      <td>Tuesday</td>\n",
       "      <td>2014-11-25 09:08:50</td>\n",
       "      <td>Morning</td>\n",
       "      <td>NBA Per Game Data Matrix</td>\n",
       "      <td>More NBA data than you can handle</td>\n",
       "      <td>image</td>\n",
       "      <td>default</td>\n",
       "      <td>2</td>\n",
       "      <td>...</td>\n",
       "      <td>True</td>\n",
       "      <td>False</td>\n",
       "      <td>False</td>\n",
       "      <td>False</td>\n",
       "      <td>False</td>\n",
       "      <td>False</td>\n",
       "      <td>True</td>\n",
       "      <td>False</td>\n",
       "      <td>False</td>\n",
       "      <td>False</td>\n",
       "    </tr>\n",
       "    <tr>\n",
       "      <th>18077</th>\n",
       "      <td>11484</td>\n",
       "      <td>2014-11-25</td>\n",
       "      <td>Tuesday</td>\n",
       "      <td>2014-11-25 13:47:22</td>\n",
       "      <td>Afternoon</td>\n",
       "      <td>Shinesty Ugly Xmas Suits</td>\n",
       "      <td>Win Christmas with outlandishly awesome suits</td>\n",
       "      <td>image</td>\n",
       "      <td>default</td>\n",
       "      <td>7</td>\n",
       "      <td>...</td>\n",
       "      <td>True</td>\n",
       "      <td>False</td>\n",
       "      <td>False</td>\n",
       "      <td>False</td>\n",
       "      <td>False</td>\n",
       "      <td>False</td>\n",
       "      <td>True</td>\n",
       "      <td>False</td>\n",
       "      <td>False</td>\n",
       "      <td>False</td>\n",
       "    </tr>\n",
       "    <tr>\n",
       "      <th>18078</th>\n",
       "      <td>11463</td>\n",
       "      <td>2014-11-25</td>\n",
       "      <td>Tuesday</td>\n",
       "      <td>2014-11-25 05:51:53</td>\n",
       "      <td>Morning</td>\n",
       "      <td>Emojifish</td>\n",
       "      <td>Create and print your own emoji shirts. ᕕ( ᐛ )ᕗ</td>\n",
       "      <td>image</td>\n",
       "      <td>default</td>\n",
       "      <td>2</td>\n",
       "      <td>...</td>\n",
       "      <td>True</td>\n",
       "      <td>False</td>\n",
       "      <td>False</td>\n",
       "      <td>False</td>\n",
       "      <td>False</td>\n",
       "      <td>False</td>\n",
       "      <td>True</td>\n",
       "      <td>False</td>\n",
       "      <td>False</td>\n",
       "      <td>False</td>\n",
       "    </tr>\n",
       "    <tr>\n",
       "      <th>18079</th>\n",
       "      <td>11462</td>\n",
       "      <td>2014-11-25</td>\n",
       "      <td>Tuesday</td>\n",
       "      <td>2014-11-25 05:47:41</td>\n",
       "      <td>Morning</td>\n",
       "      <td>Estate Map</td>\n",
       "      <td>Easy way to leave instructions for after you die</td>\n",
       "      <td>image</td>\n",
       "      <td>default</td>\n",
       "      <td>2</td>\n",
       "      <td>...</td>\n",
       "      <td>True</td>\n",
       "      <td>False</td>\n",
       "      <td>False</td>\n",
       "      <td>False</td>\n",
       "      <td>False</td>\n",
       "      <td>False</td>\n",
       "      <td>True</td>\n",
       "      <td>False</td>\n",
       "      <td>False</td>\n",
       "      <td>False</td>\n",
       "    </tr>\n",
       "    <tr>\n",
       "      <th>18080</th>\n",
       "      <td>11376</td>\n",
       "      <td>2014-11-25</td>\n",
       "      <td>Tuesday</td>\n",
       "      <td>2014-11-25 11:28:14</td>\n",
       "      <td>Morning</td>\n",
       "      <td>Craigslist Email Template</td>\n",
       "      <td>Miracle email template to find an apartment FAST</td>\n",
       "      <td>image</td>\n",
       "      <td>default</td>\n",
       "      <td>13</td>\n",
       "      <td>...</td>\n",
       "      <td>True</td>\n",
       "      <td>False</td>\n",
       "      <td>False</td>\n",
       "      <td>False</td>\n",
       "      <td>False</td>\n",
       "      <td>False</td>\n",
       "      <td>True</td>\n",
       "      <td>False</td>\n",
       "      <td>False</td>\n",
       "      <td>False</td>\n",
       "    </tr>\n",
       "    <tr>\n",
       "      <th>18081</th>\n",
       "      <td>11473</td>\n",
       "      <td>2014-11-25</td>\n",
       "      <td>Tuesday</td>\n",
       "      <td>2014-11-25 08:31:11</td>\n",
       "      <td>Morning</td>\n",
       "      <td>Feastly</td>\n",
       "      <td>Marketplace connecting hungry eaters with near...</td>\n",
       "      <td>image</td>\n",
       "      <td>default</td>\n",
       "      <td>2</td>\n",
       "      <td>...</td>\n",
       "      <td>True</td>\n",
       "      <td>False</td>\n",
       "      <td>False</td>\n",
       "      <td>False</td>\n",
       "      <td>False</td>\n",
       "      <td>False</td>\n",
       "      <td>True</td>\n",
       "      <td>False</td>\n",
       "      <td>False</td>\n",
       "      <td>False</td>\n",
       "    </tr>\n",
       "    <tr>\n",
       "      <th>18085</th>\n",
       "      <td>11452</td>\n",
       "      <td>2014-11-25</td>\n",
       "      <td>Tuesday</td>\n",
       "      <td>2014-11-25 00:02:50</td>\n",
       "      <td>Night</td>\n",
       "      <td>Voice Board</td>\n",
       "      <td>Control presentations with voice and gestures ...</td>\n",
       "      <td>image</td>\n",
       "      <td>default</td>\n",
       "      <td>3</td>\n",
       "      <td>...</td>\n",
       "      <td>True</td>\n",
       "      <td>False</td>\n",
       "      <td>False</td>\n",
       "      <td>False</td>\n",
       "      <td>False</td>\n",
       "      <td>False</td>\n",
       "      <td>True</td>\n",
       "      <td>False</td>\n",
       "      <td>False</td>\n",
       "      <td>False</td>\n",
       "    </tr>\n",
       "    <tr>\n",
       "      <th>18093</th>\n",
       "      <td>11421</td>\n",
       "      <td>2014-11-24</td>\n",
       "      <td>Monday</td>\n",
       "      <td>2014-11-24 07:00:57</td>\n",
       "      <td>Morning</td>\n",
       "      <td>Archively</td>\n",
       "      <td>The destination for your people research</td>\n",
       "      <td>image</td>\n",
       "      <td>default</td>\n",
       "      <td>29</td>\n",
       "      <td>...</td>\n",
       "      <td>False</td>\n",
       "      <td>True</td>\n",
       "      <td>False</td>\n",
       "      <td>False</td>\n",
       "      <td>False</td>\n",
       "      <td>False</td>\n",
       "      <td>True</td>\n",
       "      <td>False</td>\n",
       "      <td>False</td>\n",
       "      <td>False</td>\n",
       "    </tr>\n",
       "    <tr>\n",
       "      <th>18094</th>\n",
       "      <td>11410</td>\n",
       "      <td>2014-11-24</td>\n",
       "      <td>Monday</td>\n",
       "      <td>2014-11-24 00:14:54</td>\n",
       "      <td>Night</td>\n",
       "      <td>Moleskine Smart Notebook</td>\n",
       "      <td>Turn hand-drawn sketches into fully workable v...</td>\n",
       "      <td>image</td>\n",
       "      <td>default</td>\n",
       "      <td>17</td>\n",
       "      <td>...</td>\n",
       "      <td>False</td>\n",
       "      <td>True</td>\n",
       "      <td>False</td>\n",
       "      <td>False</td>\n",
       "      <td>False</td>\n",
       "      <td>False</td>\n",
       "      <td>True</td>\n",
       "      <td>False</td>\n",
       "      <td>False</td>\n",
       "      <td>False</td>\n",
       "    </tr>\n",
       "    <tr>\n",
       "      <th>18095</th>\n",
       "      <td>11438</td>\n",
       "      <td>2014-11-24</td>\n",
       "      <td>Monday</td>\n",
       "      <td>2014-11-24 10:08:09</td>\n",
       "      <td>Morning</td>\n",
       "      <td>Homescreen</td>\n",
       "      <td>A tool for sharing your home screen and discov...</td>\n",
       "      <td>image</td>\n",
       "      <td>default</td>\n",
       "      <td>29</td>\n",
       "      <td>...</td>\n",
       "      <td>False</td>\n",
       "      <td>True</td>\n",
       "      <td>False</td>\n",
       "      <td>False</td>\n",
       "      <td>False</td>\n",
       "      <td>False</td>\n",
       "      <td>True</td>\n",
       "      <td>False</td>\n",
       "      <td>False</td>\n",
       "      <td>False</td>\n",
       "    </tr>\n",
       "    <tr>\n",
       "      <th>18096</th>\n",
       "      <td>11422</td>\n",
       "      <td>2014-11-24</td>\n",
       "      <td>Monday</td>\n",
       "      <td>2014-11-24 07:13:18</td>\n",
       "      <td>Morning</td>\n",
       "      <td>Astral</td>\n",
       "      <td>Organize your GitHub stars with ease</td>\n",
       "      <td>image</td>\n",
       "      <td>default</td>\n",
       "      <td>15</td>\n",
       "      <td>...</td>\n",
       "      <td>False</td>\n",
       "      <td>True</td>\n",
       "      <td>False</td>\n",
       "      <td>False</td>\n",
       "      <td>False</td>\n",
       "      <td>False</td>\n",
       "      <td>True</td>\n",
       "      <td>False</td>\n",
       "      <td>False</td>\n",
       "      <td>False</td>\n",
       "    </tr>\n",
       "    <tr>\n",
       "      <th>18097</th>\n",
       "      <td>11441</td>\n",
       "      <td>2014-11-24</td>\n",
       "      <td>Monday</td>\n",
       "      <td>2014-11-24 10:24:58</td>\n",
       "      <td>Morning</td>\n",
       "      <td>Charted</td>\n",
       "      <td>Beautiful, automatic charts (from Medium)</td>\n",
       "      <td>image</td>\n",
       "      <td>default</td>\n",
       "      <td>3</td>\n",
       "      <td>...</td>\n",
       "      <td>False</td>\n",
       "      <td>True</td>\n",
       "      <td>False</td>\n",
       "      <td>False</td>\n",
       "      <td>False</td>\n",
       "      <td>False</td>\n",
       "      <td>True</td>\n",
       "      <td>False</td>\n",
       "      <td>False</td>\n",
       "      <td>False</td>\n",
       "    </tr>\n",
       "    <tr>\n",
       "      <th>18098</th>\n",
       "      <td>11426</td>\n",
       "      <td>2014-11-24</td>\n",
       "      <td>Monday</td>\n",
       "      <td>2014-11-24 08:55:54</td>\n",
       "      <td>Morning</td>\n",
       "      <td>CouponHunt</td>\n",
       "      <td>Product Hunt for coupons and deals</td>\n",
       "      <td>image</td>\n",
       "      <td>default</td>\n",
       "      <td>17</td>\n",
       "      <td>...</td>\n",
       "      <td>False</td>\n",
       "      <td>True</td>\n",
       "      <td>False</td>\n",
       "      <td>False</td>\n",
       "      <td>False</td>\n",
       "      <td>False</td>\n",
       "      <td>True</td>\n",
       "      <td>False</td>\n",
       "      <td>False</td>\n",
       "      <td>False</td>\n",
       "    </tr>\n",
       "    <tr>\n",
       "      <th>18099</th>\n",
       "      <td>11423</td>\n",
       "      <td>2014-11-24</td>\n",
       "      <td>Monday</td>\n",
       "      <td>2014-11-24 07:26:54</td>\n",
       "      <td>Morning</td>\n",
       "      <td>EmailBreaker</td>\n",
       "      <td>Find company email formats in seconds. Painles...</td>\n",
       "      <td>image</td>\n",
       "      <td>default</td>\n",
       "      <td>12</td>\n",
       "      <td>...</td>\n",
       "      <td>False</td>\n",
       "      <td>True</td>\n",
       "      <td>False</td>\n",
       "      <td>False</td>\n",
       "      <td>False</td>\n",
       "      <td>False</td>\n",
       "      <td>True</td>\n",
       "      <td>False</td>\n",
       "      <td>False</td>\n",
       "      <td>False</td>\n",
       "    </tr>\n",
       "    <tr>\n",
       "      <th>18100</th>\n",
       "      <td>11435</td>\n",
       "      <td>2014-11-24</td>\n",
       "      <td>Monday</td>\n",
       "      <td>2014-11-24 09:52:03</td>\n",
       "      <td>Morning</td>\n",
       "      <td>Flock</td>\n",
       "      <td>Daily standups for remote teams</td>\n",
       "      <td>image</td>\n",
       "      <td>default</td>\n",
       "      <td>17</td>\n",
       "      <td>...</td>\n",
       "      <td>False</td>\n",
       "      <td>True</td>\n",
       "      <td>False</td>\n",
       "      <td>False</td>\n",
       "      <td>False</td>\n",
       "      <td>False</td>\n",
       "      <td>True</td>\n",
       "      <td>False</td>\n",
       "      <td>False</td>\n",
       "      <td>False</td>\n",
       "    </tr>\n",
       "    <tr>\n",
       "      <th>18101</th>\n",
       "      <td>11415</td>\n",
       "      <td>2014-11-24</td>\n",
       "      <td>Monday</td>\n",
       "      <td>2014-11-24 02:53:07</td>\n",
       "      <td>Night</td>\n",
       "      <td>Pushh</td>\n",
       "      <td>Keep track of your fitness selfies</td>\n",
       "      <td>image</td>\n",
       "      <td>default</td>\n",
       "      <td>14</td>\n",
       "      <td>...</td>\n",
       "      <td>False</td>\n",
       "      <td>True</td>\n",
       "      <td>False</td>\n",
       "      <td>False</td>\n",
       "      <td>False</td>\n",
       "      <td>False</td>\n",
       "      <td>True</td>\n",
       "      <td>False</td>\n",
       "      <td>False</td>\n",
       "      <td>False</td>\n",
       "    </tr>\n",
       "    <tr>\n",
       "      <th>18102</th>\n",
       "      <td>11411</td>\n",
       "      <td>2014-11-24</td>\n",
       "      <td>Monday</td>\n",
       "      <td>2014-11-24 00:30:49</td>\n",
       "      <td>Night</td>\n",
       "      <td>Emojiary</td>\n",
       "      <td>Tap into your feelings - using emoji</td>\n",
       "      <td>image</td>\n",
       "      <td>no_longer_online</td>\n",
       "      <td>16</td>\n",
       "      <td>...</td>\n",
       "      <td>False</td>\n",
       "      <td>True</td>\n",
       "      <td>False</td>\n",
       "      <td>False</td>\n",
       "      <td>False</td>\n",
       "      <td>False</td>\n",
       "      <td>True</td>\n",
       "      <td>False</td>\n",
       "      <td>False</td>\n",
       "      <td>False</td>\n",
       "    </tr>\n",
       "    <tr>\n",
       "      <th>18103</th>\n",
       "      <td>11418</td>\n",
       "      <td>2014-11-24</td>\n",
       "      <td>Monday</td>\n",
       "      <td>2014-11-24 06:03:45</td>\n",
       "      <td>Morning</td>\n",
       "      <td>Crimson Keyboard</td>\n",
       "      <td>Blazing-fast predictive typing</td>\n",
       "      <td>image</td>\n",
       "      <td>default</td>\n",
       "      <td>8</td>\n",
       "      <td>...</td>\n",
       "      <td>False</td>\n",
       "      <td>True</td>\n",
       "      <td>False</td>\n",
       "      <td>False</td>\n",
       "      <td>False</td>\n",
       "      <td>False</td>\n",
       "      <td>True</td>\n",
       "      <td>False</td>\n",
       "      <td>False</td>\n",
       "      <td>False</td>\n",
       "    </tr>\n",
       "    <tr>\n",
       "      <th>18104</th>\n",
       "      <td>11437</td>\n",
       "      <td>2014-11-24</td>\n",
       "      <td>Monday</td>\n",
       "      <td>2014-11-24 09:57:34</td>\n",
       "      <td>Morning</td>\n",
       "      <td>Female Founder Stories</td>\n",
       "      <td>A collection of interviews with Y Combinator’s...</td>\n",
       "      <td>image</td>\n",
       "      <td>default</td>\n",
       "      <td>7</td>\n",
       "      <td>...</td>\n",
       "      <td>False</td>\n",
       "      <td>True</td>\n",
       "      <td>False</td>\n",
       "      <td>False</td>\n",
       "      <td>False</td>\n",
       "      <td>False</td>\n",
       "      <td>True</td>\n",
       "      <td>False</td>\n",
       "      <td>False</td>\n",
       "      <td>False</td>\n",
       "    </tr>\n",
       "    <tr>\n",
       "      <th>18105</th>\n",
       "      <td>11414</td>\n",
       "      <td>2014-11-24</td>\n",
       "      <td>Monday</td>\n",
       "      <td>2014-11-24 01:54:30</td>\n",
       "      <td>Night</td>\n",
       "      <td>Vim Awesome</td>\n",
       "      <td>Awesome Vim plugins from across the universe</td>\n",
       "      <td>image</td>\n",
       "      <td>default</td>\n",
       "      <td>2</td>\n",
       "      <td>...</td>\n",
       "      <td>False</td>\n",
       "      <td>True</td>\n",
       "      <td>False</td>\n",
       "      <td>False</td>\n",
       "      <td>False</td>\n",
       "      <td>False</td>\n",
       "      <td>True</td>\n",
       "      <td>False</td>\n",
       "      <td>False</td>\n",
       "      <td>False</td>\n",
       "    </tr>\n",
       "    <tr>\n",
       "      <th>18106</th>\n",
       "      <td>11428</td>\n",
       "      <td>2014-11-24</td>\n",
       "      <td>Monday</td>\n",
       "      <td>2014-11-24 09:05:57</td>\n",
       "      <td>Morning</td>\n",
       "      <td>Flow</td>\n",
       "      <td>Precise low cost wireless control dial (pre-la...</td>\n",
       "      <td>image</td>\n",
       "      <td>default</td>\n",
       "      <td>5</td>\n",
       "      <td>...</td>\n",
       "      <td>False</td>\n",
       "      <td>True</td>\n",
       "      <td>False</td>\n",
       "      <td>False</td>\n",
       "      <td>False</td>\n",
       "      <td>False</td>\n",
       "      <td>True</td>\n",
       "      <td>False</td>\n",
       "      <td>False</td>\n",
       "      <td>False</td>\n",
       "    </tr>\n",
       "    <tr>\n",
       "      <th>18107</th>\n",
       "      <td>11427</td>\n",
       "      <td>2014-11-24</td>\n",
       "      <td>Monday</td>\n",
       "      <td>2014-11-24 08:57:43</td>\n",
       "      <td>Morning</td>\n",
       "      <td>Krak</td>\n",
       "      <td>Share skateboard photos, videos &amp; spots with y...</td>\n",
       "      <td>image</td>\n",
       "      <td>default</td>\n",
       "      <td>9</td>\n",
       "      <td>...</td>\n",
       "      <td>False</td>\n",
       "      <td>True</td>\n",
       "      <td>False</td>\n",
       "      <td>False</td>\n",
       "      <td>False</td>\n",
       "      <td>False</td>\n",
       "      <td>True</td>\n",
       "      <td>False</td>\n",
       "      <td>False</td>\n",
       "      <td>False</td>\n",
       "    </tr>\n",
       "    <tr>\n",
       "      <th>18108</th>\n",
       "      <td>11420</td>\n",
       "      <td>2014-11-24</td>\n",
       "      <td>Monday</td>\n",
       "      <td>2014-11-24 06:51:23</td>\n",
       "      <td>Morning</td>\n",
       "      <td>Workshape.io</td>\n",
       "      <td>A talent matching service for developers in St...</td>\n",
       "      <td>video</td>\n",
       "      <td>default</td>\n",
       "      <td>10</td>\n",
       "      <td>...</td>\n",
       "      <td>False</td>\n",
       "      <td>True</td>\n",
       "      <td>False</td>\n",
       "      <td>False</td>\n",
       "      <td>False</td>\n",
       "      <td>False</td>\n",
       "      <td>False</td>\n",
       "      <td>False</td>\n",
       "      <td>True</td>\n",
       "      <td>False</td>\n",
       "    </tr>\n",
       "    <tr>\n",
       "      <th>18109</th>\n",
       "      <td>11429</td>\n",
       "      <td>2014-11-24</td>\n",
       "      <td>Monday</td>\n",
       "      <td>2014-11-24 09:05:58</td>\n",
       "      <td>Morning</td>\n",
       "      <td>Kitchenbowl</td>\n",
       "      <td>A social community for foodies to share &amp; disc...</td>\n",
       "      <td>image</td>\n",
       "      <td>default</td>\n",
       "      <td>14</td>\n",
       "      <td>...</td>\n",
       "      <td>False</td>\n",
       "      <td>True</td>\n",
       "      <td>False</td>\n",
       "      <td>False</td>\n",
       "      <td>False</td>\n",
       "      <td>False</td>\n",
       "      <td>True</td>\n",
       "      <td>False</td>\n",
       "      <td>False</td>\n",
       "      <td>False</td>\n",
       "    </tr>\n",
       "    <tr>\n",
       "      <th>18110</th>\n",
       "      <td>11431</td>\n",
       "      <td>2014-11-24</td>\n",
       "      <td>Monday</td>\n",
       "      <td>2014-11-24 09:11:02</td>\n",
       "      <td>Morning</td>\n",
       "      <td>Boost (Book)</td>\n",
       "      <td>Create good habits using Psychology and Techno...</td>\n",
       "      <td>image</td>\n",
       "      <td>default</td>\n",
       "      <td>9</td>\n",
       "      <td>...</td>\n",
       "      <td>False</td>\n",
       "      <td>True</td>\n",
       "      <td>False</td>\n",
       "      <td>False</td>\n",
       "      <td>False</td>\n",
       "      <td>False</td>\n",
       "      <td>True</td>\n",
       "      <td>False</td>\n",
       "      <td>False</td>\n",
       "      <td>False</td>\n",
       "    </tr>\n",
       "    <tr>\n",
       "      <th>18111</th>\n",
       "      <td>11436</td>\n",
       "      <td>2014-11-24</td>\n",
       "      <td>Monday</td>\n",
       "      <td>2014-11-24 09:53:40</td>\n",
       "      <td>Morning</td>\n",
       "      <td>Learn.Onevest</td>\n",
       "      <td>A new startup learning platform from the OneVe...</td>\n",
       "      <td>image</td>\n",
       "      <td>default</td>\n",
       "      <td>2</td>\n",
       "      <td>...</td>\n",
       "      <td>False</td>\n",
       "      <td>True</td>\n",
       "      <td>False</td>\n",
       "      <td>False</td>\n",
       "      <td>False</td>\n",
       "      <td>False</td>\n",
       "      <td>True</td>\n",
       "      <td>False</td>\n",
       "      <td>False</td>\n",
       "      <td>False</td>\n",
       "    </tr>\n",
       "    <tr>\n",
       "      <th>18112</th>\n",
       "      <td>11430</td>\n",
       "      <td>2014-11-24</td>\n",
       "      <td>Monday</td>\n",
       "      <td>2014-11-24 09:08:39</td>\n",
       "      <td>Morning</td>\n",
       "      <td>Code with Anna+Elsa</td>\n",
       "      <td>Hour of Code - draw fractals and snowflakes. A...</td>\n",
       "      <td>image</td>\n",
       "      <td>default</td>\n",
       "      <td>1</td>\n",
       "      <td>...</td>\n",
       "      <td>False</td>\n",
       "      <td>True</td>\n",
       "      <td>False</td>\n",
       "      <td>False</td>\n",
       "      <td>False</td>\n",
       "      <td>False</td>\n",
       "      <td>True</td>\n",
       "      <td>False</td>\n",
       "      <td>False</td>\n",
       "      <td>False</td>\n",
       "    </tr>\n",
       "    <tr>\n",
       "      <th>18113</th>\n",
       "      <td>11412</td>\n",
       "      <td>2014-11-24</td>\n",
       "      <td>Monday</td>\n",
       "      <td>2014-11-24 00:53:53</td>\n",
       "      <td>Night</td>\n",
       "      <td>Pinć VR</td>\n",
       "      <td>Pocket-sized iPhone case expands into VR glass...</td>\n",
       "      <td>image</td>\n",
       "      <td>default</td>\n",
       "      <td>3</td>\n",
       "      <td>...</td>\n",
       "      <td>False</td>\n",
       "      <td>True</td>\n",
       "      <td>False</td>\n",
       "      <td>False</td>\n",
       "      <td>False</td>\n",
       "      <td>False</td>\n",
       "      <td>True</td>\n",
       "      <td>False</td>\n",
       "      <td>False</td>\n",
       "      <td>False</td>\n",
       "    </tr>\n",
       "    <tr>\n",
       "      <th>18114</th>\n",
       "      <td>11433</td>\n",
       "      <td>2014-11-24</td>\n",
       "      <td>Monday</td>\n",
       "      <td>2014-11-24 09:32:43</td>\n",
       "      <td>Morning</td>\n",
       "      <td>Take My Cash</td>\n",
       "      <td>Handpicked products from Amazon UK</td>\n",
       "      <td>image</td>\n",
       "      <td>default</td>\n",
       "      <td>4</td>\n",
       "      <td>...</td>\n",
       "      <td>False</td>\n",
       "      <td>True</td>\n",
       "      <td>False</td>\n",
       "      <td>False</td>\n",
       "      <td>False</td>\n",
       "      <td>False</td>\n",
       "      <td>True</td>\n",
       "      <td>False</td>\n",
       "      <td>False</td>\n",
       "      <td>False</td>\n",
       "    </tr>\n",
       "    <tr>\n",
       "      <th>18115</th>\n",
       "      <td>11417</td>\n",
       "      <td>2014-11-24</td>\n",
       "      <td>Monday</td>\n",
       "      <td>2014-11-24 05:59:12</td>\n",
       "      <td>Morning</td>\n",
       "      <td>Declare Task</td>\n",
       "      <td>Text them your tasks and stay accountable</td>\n",
       "      <td>image</td>\n",
       "      <td>default</td>\n",
       "      <td>9</td>\n",
       "      <td>...</td>\n",
       "      <td>False</td>\n",
       "      <td>True</td>\n",
       "      <td>False</td>\n",
       "      <td>False</td>\n",
       "      <td>False</td>\n",
       "      <td>False</td>\n",
       "      <td>True</td>\n",
       "      <td>False</td>\n",
       "      <td>False</td>\n",
       "      <td>False</td>\n",
       "    </tr>\n",
       "  </tbody>\n",
       "</table>\n",
       "<p>8076 rows × 29 columns</p>\n",
       "</div>"
      ],
      "text/plain": [
       "          id        date        day           created_at time_of_day  \\\n",
       "169     7195  2016-11-09  Wednesday  2016-11-09 05:57:39     Morning   \n",
       "657    43459  2016-10-20   Thursday  2016-10-20 00:01:00       Night   \n",
       "1173   43446  2016-09-28  Wednesday  2016-09-28 01:47:00       Night   \n",
       "2014   36504  2016-08-23    Tuesday  2016-08-23 01:26:55       Night   \n",
       "2117   17077  2016-08-17  Wednesday  2016-08-17 00:05:00       Night   \n",
       "2459   42943  2016-08-03  Wednesday  2016-08-03 00:01:00       Night   \n",
       "2945   29819  2016-07-16   Saturday  2016-07-16 07:22:53     Morning   \n",
       "3259   37730  2016-07-04     Monday  2016-07-04 04:27:20       Night   \n",
       "3483   45060  2016-06-23   Thursday  2016-06-23 02:00:00       Night   \n",
       "3647   41051  2016-06-15  Wednesday  2016-06-15 07:30:00     Morning   \n",
       "3847   41374  2016-06-06     Monday  2016-06-06 13:08:18   Afternoon   \n",
       "5494   36974  2016-03-24   Thursday  2016-03-24 05:00:00     Morning   \n",
       "5627   35553  2016-03-18     Friday  2016-03-18 00:31:47       Night   \n",
       "5752   25554  2016-03-14     Monday  2016-03-14 05:00:00     Morning   \n",
       "5911   34925  2016-03-08    Tuesday  2016-03-08 04:14:11       Night   \n",
       "5928   45105  2016-03-08    Tuesday  2016-03-08 07:03:26     Morning   \n",
       "6034   11588  2016-03-03   Thursday  2016-03-03 01:06:46       Night   \n",
       "6041   23989  2016-03-03   Thursday  2016-03-03 00:08:00       Night   \n",
       "6238   32407  2016-02-25   Thursday  2016-02-25 00:01:00       Night   \n",
       "6303   33594  2016-02-23    Tuesday  2016-02-23 02:00:00       Night   \n",
       "6429   23203  2016-02-17  Wednesday  2016-02-17 05:47:06     Morning   \n",
       "6559   41014  2016-02-12     Friday  2016-02-12 00:10:00       Night   \n",
       "6624   24095  2016-02-10  Wednesday  2016-02-10 03:24:33       Night   \n",
       "6672   26383  2016-02-08     Monday  2016-02-08 07:45:46     Morning   \n",
       "6707   42656  2016-02-07     Sunday  2016-02-07 03:51:54       Night   \n",
       "6742   22029  2016-02-05     Friday  2016-02-05 08:29:03     Morning   \n",
       "6804   42888  2016-02-03  Wednesday  2016-02-03 02:00:00       Night   \n",
       "6818   45210  2016-02-02    Tuesday  2016-02-02 01:04:15       Night   \n",
       "6832   41643  2016-02-02    Tuesday  2016-02-02 05:00:00     Morning   \n",
       "6884   40575  2016-01-31     Sunday  2016-01-31 00:09:00       Night   \n",
       "...      ...         ...        ...                  ...         ...   \n",
       "18076  11475  2014-11-25    Tuesday  2014-11-25 09:08:50     Morning   \n",
       "18077  11484  2014-11-25    Tuesday  2014-11-25 13:47:22   Afternoon   \n",
       "18078  11463  2014-11-25    Tuesday  2014-11-25 05:51:53     Morning   \n",
       "18079  11462  2014-11-25    Tuesday  2014-11-25 05:47:41     Morning   \n",
       "18080  11376  2014-11-25    Tuesday  2014-11-25 11:28:14     Morning   \n",
       "18081  11473  2014-11-25    Tuesday  2014-11-25 08:31:11     Morning   \n",
       "18085  11452  2014-11-25    Tuesday  2014-11-25 00:02:50       Night   \n",
       "18093  11421  2014-11-24     Monday  2014-11-24 07:00:57     Morning   \n",
       "18094  11410  2014-11-24     Monday  2014-11-24 00:14:54       Night   \n",
       "18095  11438  2014-11-24     Monday  2014-11-24 10:08:09     Morning   \n",
       "18096  11422  2014-11-24     Monday  2014-11-24 07:13:18     Morning   \n",
       "18097  11441  2014-11-24     Monday  2014-11-24 10:24:58     Morning   \n",
       "18098  11426  2014-11-24     Monday  2014-11-24 08:55:54     Morning   \n",
       "18099  11423  2014-11-24     Monday  2014-11-24 07:26:54     Morning   \n",
       "18100  11435  2014-11-24     Monday  2014-11-24 09:52:03     Morning   \n",
       "18101  11415  2014-11-24     Monday  2014-11-24 02:53:07       Night   \n",
       "18102  11411  2014-11-24     Monday  2014-11-24 00:30:49       Night   \n",
       "18103  11418  2014-11-24     Monday  2014-11-24 06:03:45     Morning   \n",
       "18104  11437  2014-11-24     Monday  2014-11-24 09:57:34     Morning   \n",
       "18105  11414  2014-11-24     Monday  2014-11-24 01:54:30       Night   \n",
       "18106  11428  2014-11-24     Monday  2014-11-24 09:05:57     Morning   \n",
       "18107  11427  2014-11-24     Monday  2014-11-24 08:57:43     Morning   \n",
       "18108  11420  2014-11-24     Monday  2014-11-24 06:51:23     Morning   \n",
       "18109  11429  2014-11-24     Monday  2014-11-24 09:05:58     Morning   \n",
       "18110  11431  2014-11-24     Monday  2014-11-24 09:11:02     Morning   \n",
       "18111  11436  2014-11-24     Monday  2014-11-24 09:53:40     Morning   \n",
       "18112  11430  2014-11-24     Monday  2014-11-24 09:08:39     Morning   \n",
       "18113  11412  2014-11-24     Monday  2014-11-24 00:53:53       Night   \n",
       "18114  11433  2014-11-24     Monday  2014-11-24 09:32:43     Morning   \n",
       "18115  11417  2014-11-24     Monday  2014-11-24 05:59:12     Morning   \n",
       "\n",
       "                                     name  \\\n",
       "169                               Pics.io   \n",
       "657                                Notion   \n",
       "1173   OLIO - The Food Sharing Revolution   \n",
       "2014                             Pepipost   \n",
       "2117                                Zwift   \n",
       "2459                Sharingbuttons.io 2.0   \n",
       "2945                             OverType   \n",
       "3259                                ORA-X   \n",
       "3483              Doozyrama - Walking app   \n",
       "3647                                Braid   \n",
       "3847                    FoxType Thesaurus   \n",
       "5494                     Music For Makers   \n",
       "5627                          Bartender 2   \n",
       "5752                               Magpie   \n",
       "5911                            Rebrandly   \n",
       "5928                               Pair3d   \n",
       "6034                 Tilt Brush by Google   \n",
       "6041                              ZeroNet   \n",
       "6238                          Wub Machine   \n",
       "6303                       Homer Keyboard   \n",
       "6429                      Netatmo Welcome   \n",
       "6559                               Ameego   \n",
       "6624                        Deepstream.io   \n",
       "6672               musicForProgramming();   \n",
       "6707                           Foodswiper   \n",
       "6742                             Onlypult   \n",
       "6804                                 Seed   \n",
       "6818                             Hashnode   \n",
       "6832                              Iconery   \n",
       "6884                               SoFlow   \n",
       "...                                   ...   \n",
       "18076            NBA Per Game Data Matrix   \n",
       "18077            Shinesty Ugly Xmas Suits   \n",
       "18078                           Emojifish   \n",
       "18079                          Estate Map   \n",
       "18080           Craigslist Email Template   \n",
       "18081                             Feastly   \n",
       "18085                         Voice Board   \n",
       "18093                           Archively   \n",
       "18094            Moleskine Smart Notebook   \n",
       "18095                          Homescreen   \n",
       "18096                              Astral   \n",
       "18097                             Charted   \n",
       "18098                          CouponHunt   \n",
       "18099                        EmailBreaker   \n",
       "18100                               Flock   \n",
       "18101                               Pushh   \n",
       "18102                            Emojiary   \n",
       "18103                    Crimson Keyboard   \n",
       "18104              Female Founder Stories   \n",
       "18105                         Vim Awesome   \n",
       "18106                                Flow   \n",
       "18107                                Krak   \n",
       "18108                        Workshape.io   \n",
       "18109                         Kitchenbowl   \n",
       "18110                        Boost (Book)   \n",
       "18111                       Learn.Onevest   \n",
       "18112                 Code with Anna+Elsa   \n",
       "18113                             Pinć VR   \n",
       "18114                        Take My Cash   \n",
       "18115                        Declare Task   \n",
       "\n",
       "                                                 tagline thumbnail_type  \\\n",
       "169       Turning Google Drive into a tool for creatives          image   \n",
       "657               Artificial intelligence-powered email.          image   \n",
       "1173                           Peer-to-peer food sharing          image   \n",
       "2014   Email delivery platform. Pay for unopened emai...          image   \n",
       "2117   Turn indoor cycling workouts into fun, social ...          image   \n",
       "2459   Super fast and easy social media sharing buttons.          image   \n",
       "2945   A (frustrating) typewriter simulator in your b...          image   \n",
       "3259          World's first augmented reality headphones          image   \n",
       "3483                                     Walk & Discover          image   \n",
       "3647   Free, simple project management inside Gmail a...          image   \n",
       "3847                   Visualize similar words for _____          image   \n",
       "5494                    Royalty-free songs to your inbox          image   \n",
       "5627        Organize and hide menu bar items on your Mac          image   \n",
       "5752   Female travelers club - meet women like you wh...          image   \n",
       "5911   Create and share links with your custom domain...          image   \n",
       "5928              Bring the showroom to your living room          image   \n",
       "6034     Paint in spaces around you with Virtual Reality          image   \n",
       "6041   Decentralized websites using Bitcoin cryptography          image   \n",
       "6238                  Turn any song into dubstep version          image   \n",
       "6303                            Share more, Switch less.          image   \n",
       "6429        Home security camera with facial recognition          image   \n",
       "6559        Airbnb for people. Rent friends by the hour.          image   \n",
       "6624             A scalable server for realtime web apps          image   \n",
       "6672      Mixes intended for listening while programming          image   \n",
       "6707   Browse real pictures of food and get it delive...          image   \n",
       "6742                           Instagram post scheduling          image   \n",
       "6804       The smart bottle that never forgets about you          image   \n",
       "6818   A network of software developers to learn and ...          image   \n",
       "6832   Designer-driven, 3D printed fine jewelry marke...          image   \n",
       "6884                     The all-in-one social media app          image   \n",
       "...                                                  ...            ...   \n",
       "18076                  More NBA data than you can handle          image   \n",
       "18077      Win Christmas with outlandishly awesome suits          image   \n",
       "18078    Create and print your own emoji shirts. ᕕ( ᐛ )ᕗ          image   \n",
       "18079   Easy way to leave instructions for after you die          image   \n",
       "18080   Miracle email template to find an apartment FAST          image   \n",
       "18081  Marketplace connecting hungry eaters with near...          image   \n",
       "18085  Control presentations with voice and gestures ...          image   \n",
       "18093           The destination for your people research          image   \n",
       "18094  Turn hand-drawn sketches into fully workable v...          image   \n",
       "18095  A tool for sharing your home screen and discov...          image   \n",
       "18096               Organize your GitHub stars with ease          image   \n",
       "18097          Beautiful, automatic charts (from Medium)          image   \n",
       "18098                 Product Hunt for coupons and deals          image   \n",
       "18099  Find company email formats in seconds. Painles...          image   \n",
       "18100                    Daily standups for remote teams          image   \n",
       "18101                 Keep track of your fitness selfies          image   \n",
       "18102               Tap into your feelings - using emoji          image   \n",
       "18103                     Blazing-fast predictive typing          image   \n",
       "18104  A collection of interviews with Y Combinator’s...          image   \n",
       "18105       Awesome Vim plugins from across the universe          image   \n",
       "18106  Precise low cost wireless control dial (pre-la...          image   \n",
       "18107  Share skateboard photos, videos & spots with y...          image   \n",
       "18108  A talent matching service for developers in St...          video   \n",
       "18109  A social community for foodies to share & disc...          image   \n",
       "18110  Create good habits using Psychology and Techno...          image   \n",
       "18111  A new startup learning platform from the OneVe...          image   \n",
       "18112  Hour of Code - draw fractals and snowflakes. A...          image   \n",
       "18113  Pocket-sized iPhone case expands into VR glass...          image   \n",
       "18114                 Handpicked products from Amazon UK          image   \n",
       "18115          Text them your tasks and stay accountable          image   \n",
       "\n",
       "          product_state  comments_count     ...       Tuesday  Monday  Sunday  \\\n",
       "169             default               5     ...         False   False   False   \n",
       "657             default             122     ...         False   False   False   \n",
       "1173            default              16     ...         False   False   False   \n",
       "2014            default              10     ...          True   False   False   \n",
       "2117            default              14     ...         False   False   False   \n",
       "2459            default              47     ...         False   False   False   \n",
       "2945            default               5     ...         False   False   False   \n",
       "3259         pre_launch               3     ...         False    True   False   \n",
       "3483            default               4     ...         False   False   False   \n",
       "3647            default               9     ...         False   False   False   \n",
       "3847            default               3     ...         False    True   False   \n",
       "5494            default              30     ...         False   False   False   \n",
       "5627            default              23     ...         False   False   False   \n",
       "5752            default              63     ...         False    True   False   \n",
       "5911            default              67     ...          True   False   False   \n",
       "5928            default               7     ...          True   False   False   \n",
       "6034         pre_launch              13     ...         False   False   False   \n",
       "6041            default               4     ...         False   False   False   \n",
       "6238            default               5     ...         False   False   False   \n",
       "6303            default              10     ...          True   False   False   \n",
       "6429            default               5     ...         False   False   False   \n",
       "6559            default              25     ...         False   False   False   \n",
       "6624            default               8     ...         False   False   False   \n",
       "6672            default              32     ...         False    True   False   \n",
       "6707            default               8     ...         False   False    True   \n",
       "6742            default              12     ...         False   False   False   \n",
       "6804         pre_launch               6     ...         False   False   False   \n",
       "6818            default              37     ...          True   False   False   \n",
       "6832            default              15     ...          True   False   False   \n",
       "6884            default              35     ...         False   False    True   \n",
       "...                 ...             ...     ...           ...     ...     ...   \n",
       "18076           default               2     ...          True   False   False   \n",
       "18077           default               7     ...          True   False   False   \n",
       "18078           default               2     ...          True   False   False   \n",
       "18079           default               2     ...          True   False   False   \n",
       "18080           default              13     ...          True   False   False   \n",
       "18081           default               2     ...          True   False   False   \n",
       "18085           default               3     ...          True   False   False   \n",
       "18093           default              29     ...         False    True   False   \n",
       "18094           default              17     ...         False    True   False   \n",
       "18095           default              29     ...         False    True   False   \n",
       "18096           default              15     ...         False    True   False   \n",
       "18097           default               3     ...         False    True   False   \n",
       "18098           default              17     ...         False    True   False   \n",
       "18099           default              12     ...         False    True   False   \n",
       "18100           default              17     ...         False    True   False   \n",
       "18101           default              14     ...         False    True   False   \n",
       "18102  no_longer_online              16     ...         False    True   False   \n",
       "18103           default               8     ...         False    True   False   \n",
       "18104           default               7     ...         False    True   False   \n",
       "18105           default               2     ...         False    True   False   \n",
       "18106           default               5     ...         False    True   False   \n",
       "18107           default               9     ...         False    True   False   \n",
       "18108           default              10     ...         False    True   False   \n",
       "18109           default              14     ...         False    True   False   \n",
       "18110           default               9     ...         False    True   False   \n",
       "18111           default               2     ...         False    True   False   \n",
       "18112           default               1     ...         False    True   False   \n",
       "18113           default               3     ...         False    True   False   \n",
       "18114           default               4     ...         False    True   False   \n",
       "18115           default               9     ...         False    True   False   \n",
       "\n",
       "       Saturday Friday Thursday  image  audio  video book_preview  \n",
       "169       False  False    False   True  False  False        False  \n",
       "657       False  False     True   True  False  False        False  \n",
       "1173      False  False    False   True  False  False        False  \n",
       "2014      False  False    False   True  False  False        False  \n",
       "2117      False  False    False   True  False  False        False  \n",
       "2459      False  False    False   True  False  False        False  \n",
       "2945       True  False    False   True  False  False        False  \n",
       "3259      False  False    False   True  False  False        False  \n",
       "3483      False  False     True   True  False  False        False  \n",
       "3647      False  False    False   True  False  False        False  \n",
       "3847      False  False    False   True  False  False        False  \n",
       "5494      False  False     True   True  False  False        False  \n",
       "5627      False   True    False   True  False  False        False  \n",
       "5752      False  False    False   True  False  False        False  \n",
       "5911      False  False    False   True  False  False        False  \n",
       "5928      False  False    False   True  False  False        False  \n",
       "6034      False  False     True   True  False  False        False  \n",
       "6041      False  False     True   True  False  False        False  \n",
       "6238      False  False     True   True  False  False        False  \n",
       "6303      False  False    False   True  False  False        False  \n",
       "6429      False  False    False   True  False  False        False  \n",
       "6559      False   True    False   True  False  False        False  \n",
       "6624      False  False    False   True  False  False        False  \n",
       "6672      False  False    False   True  False  False        False  \n",
       "6707      False  False    False   True  False  False        False  \n",
       "6742      False   True    False   True  False  False        False  \n",
       "6804      False  False    False   True  False  False        False  \n",
       "6818      False  False    False   True  False  False        False  \n",
       "6832      False  False    False   True  False  False        False  \n",
       "6884      False  False    False   True  False  False        False  \n",
       "...         ...    ...      ...    ...    ...    ...          ...  \n",
       "18076     False  False    False   True  False  False        False  \n",
       "18077     False  False    False   True  False  False        False  \n",
       "18078     False  False    False   True  False  False        False  \n",
       "18079     False  False    False   True  False  False        False  \n",
       "18080     False  False    False   True  False  False        False  \n",
       "18081     False  False    False   True  False  False        False  \n",
       "18085     False  False    False   True  False  False        False  \n",
       "18093     False  False    False   True  False  False        False  \n",
       "18094     False  False    False   True  False  False        False  \n",
       "18095     False  False    False   True  False  False        False  \n",
       "18096     False  False    False   True  False  False        False  \n",
       "18097     False  False    False   True  False  False        False  \n",
       "18098     False  False    False   True  False  False        False  \n",
       "18099     False  False    False   True  False  False        False  \n",
       "18100     False  False    False   True  False  False        False  \n",
       "18101     False  False    False   True  False  False        False  \n",
       "18102     False  False    False   True  False  False        False  \n",
       "18103     False  False    False   True  False  False        False  \n",
       "18104     False  False    False   True  False  False        False  \n",
       "18105     False  False    False   True  False  False        False  \n",
       "18106     False  False    False   True  False  False        False  \n",
       "18107     False  False    False   True  False  False        False  \n",
       "18108     False  False    False  False  False   True        False  \n",
       "18109     False  False    False   True  False  False        False  \n",
       "18110     False  False    False   True  False  False        False  \n",
       "18111     False  False    False   True  False  False        False  \n",
       "18112     False  False    False   True  False  False        False  \n",
       "18113     False  False    False   True  False  False        False  \n",
       "18114     False  False    False   True  False  False        False  \n",
       "18115     False  False    False   True  False  False        False  \n",
       "\n",
       "[8076 rows x 29 columns]"
      ]
     },
     "execution_count": 164,
     "metadata": {},
     "output_type": "execute_result"
    }
   ],
   "source": [
    "X_item"
   ]
  },
  {
   "cell_type": "code",
   "execution_count": 161,
   "metadata": {
    "collapsed": true
   },
   "outputs": [],
   "source": [
    "percent = 8076.0/18129"
   ]
  },
  {
   "cell_type": "code",
   "execution_count": 162,
   "metadata": {
    "collapsed": false
   },
   "outputs": [
    {
     "data": {
      "text/plain": [
       "0.4454741022670859"
      ]
     },
     "execution_count": 162,
     "metadata": {},
     "output_type": "execute_result"
    }
   ],
   "source": [
    "percent"
   ]
  },
  {
   "cell_type": "code",
   "execution_count": 169,
   "metadata": {
    "collapsed": false
   },
   "outputs": [],
   "source": [
    "from textblob import TextBlob\n",
    "import re\n",
    "import string"
   ]
  },
  {
   "cell_type": "code",
   "execution_count": 170,
   "metadata": {
    "collapsed": true
   },
   "outputs": [],
   "source": [
    "def detect_sentiment(text):\n",
    "    text = re.sub(r'/\\u\\d+', '', text)\n",
    "    text = ''.join([char for char in text if char not in string.punctuation])\n",
    "    return TextBlob(text.encode('ascii', 'ignore') ).sentiment.polarity"
   ]
  },
  {
   "cell_type": "code",
   "execution_count": 173,
   "metadata": {
    "collapsed": false
   },
   "outputs": [
    {
     "name": "stdout",
     "output_type": "stream",
     "text": [
      "AllTopics.csv                                    Untitled.ipynb\r\n",
      "Join_Users_and_Posts_data_to_plot_Top_Hunters.R  UsersForAnalysis.txt\r\n",
      "\u001b[0m\u001b[01;35mPlot.PostsByUser.png\u001b[0m                             UsersForExploration.csv\r\n",
      "PostsForAnalysis.txt                             comments_subset.json\r\n",
      "PostsForExploration.csv                          sample_user.json\r\n",
      "ProductHunt Analysis (part 1).ipynb\r\n"
     ]
    }
   ],
   "source": [
    "ls"
   ]
  },
  {
   "cell_type": "code",
   "execution_count": 174,
   "metadata": {
    "collapsed": true
   },
   "outputs": [],
   "source": [
    "topics = pd.read_csv('AllTopics.csv')"
   ]
  },
  {
   "cell_type": "code",
   "execution_count": 175,
   "metadata": {
    "collapsed": false
   },
   "outputs": [
    {
     "name": "stdout",
     "output_type": "stream",
     "text": [
      "<class 'pandas.core.frame.DataFrame'>\n",
      "RangeIndex: 318 entries, 0 to 317\n",
      "Data columns (total 5 columns):\n",
      "id               318 non-null int64\n",
      "name             318 non-null object\n",
      "description      307 non-null object\n",
      "num_followers    318 non-null int64\n",
      "num_posts        318 non-null int64\n",
      "dtypes: int64(3), object(2)\n",
      "memory usage: 12.5+ KB\n"
     ]
    }
   ],
   "source": [
    "topics.info()"
   ]
  },
  {
   "cell_type": "code",
   "execution_count": 176,
   "metadata": {
    "collapsed": false
   },
   "outputs": [
    {
     "data": {
      "text/html": [
       "<div>\n",
       "<table border=\"1\" class=\"dataframe\">\n",
       "  <thead>\n",
       "    <tr style=\"text-align: right;\">\n",
       "      <th></th>\n",
       "      <th>id</th>\n",
       "      <th>name</th>\n",
       "      <th>description</th>\n",
       "      <th>num_followers</th>\n",
       "      <th>num_posts</th>\n",
       "    </tr>\n",
       "  </thead>\n",
       "  <tbody>\n",
       "    <tr>\n",
       "      <th>0</th>\n",
       "      <td>356</td>\n",
       "      <td>touch-bar-apps</td>\n",
       "      <td>Apps built for Apple's new Touch Bar 👇</td>\n",
       "      <td>1753</td>\n",
       "      <td>14</td>\n",
       "    </tr>\n",
       "    <tr>\n",
       "      <th>1</th>\n",
       "      <td>355</td>\n",
       "      <td>airbnb</td>\n",
       "      <td>Travel the world and experience a place like y...</td>\n",
       "      <td>127</td>\n",
       "      <td>44</td>\n",
       "    </tr>\n",
       "    <tr>\n",
       "      <th>2</th>\n",
       "      <td>354</td>\n",
       "      <td>books</td>\n",
       "      <td>There’s just nothing like a good book. Expand ...</td>\n",
       "      <td>215</td>\n",
       "      <td>5379</td>\n",
       "    </tr>\n",
       "    <tr>\n",
       "      <th>3</th>\n",
       "      <td>353</td>\n",
       "      <td>games</td>\n",
       "      <td>Find something new and exciting to play at hom...</td>\n",
       "      <td>135</td>\n",
       "      <td>5389</td>\n",
       "    </tr>\n",
       "    <tr>\n",
       "      <th>4</th>\n",
       "      <td>352</td>\n",
       "      <td>tech</td>\n",
       "      <td>Hardware or software. Invention or innovation....</td>\n",
       "      <td>643</td>\n",
       "      <td>63552</td>\n",
       "    </tr>\n",
       "  </tbody>\n",
       "</table>\n",
       "</div>"
      ],
      "text/plain": [
       "    id            name                                        description  \\\n",
       "0  356  touch-bar-apps             Apps built for Apple's new Touch Bar 👇   \n",
       "1  355          airbnb  Travel the world and experience a place like y...   \n",
       "2  354           books  There’s just nothing like a good book. Expand ...   \n",
       "3  353           games  Find something new and exciting to play at hom...   \n",
       "4  352            tech  Hardware or software. Invention or innovation....   \n",
       "\n",
       "   num_followers  num_posts  \n",
       "0           1753         14  \n",
       "1            127         44  \n",
       "2            215       5379  \n",
       "3            135       5389  \n",
       "4            643      63552  "
      ]
     },
     "execution_count": 176,
     "metadata": {},
     "output_type": "execute_result"
    }
   ],
   "source": [
    "\n",
    "topics.head()"
   ]
  },
  {
   "cell_type": "code",
   "execution_count": 194,
   "metadata": {
    "collapsed": false
   },
   "outputs": [
    {
     "name": "stderr",
     "output_type": "stream",
     "text": [
      "/home/joanna/anaconda2/lib/python2.7/site-packages/ipykernel/__main__.py:1: FutureWarning: sort(columns=....) is deprecated, use sort_values(by=.....)\n",
      "  if __name__ == '__main__':\n"
     ]
    },
    {
     "data": {
      "text/html": [
       "<div>\n",
       "<table border=\"1\" class=\"dataframe\">\n",
       "  <thead>\n",
       "    <tr style=\"text-align: right;\">\n",
       "      <th></th>\n",
       "      <th>id</th>\n",
       "      <th>name</th>\n",
       "      <th>description</th>\n",
       "      <th>num_followers</th>\n",
       "      <th>num_posts</th>\n",
       "    </tr>\n",
       "  </thead>\n",
       "  <tbody>\n",
       "    <tr>\n",
       "      <th>56</th>\n",
       "      <td>267</td>\n",
       "      <td>developer-tools</td>\n",
       "      <td>Writing code is hard. So we make software to h...</td>\n",
       "      <td>57897</td>\n",
       "      <td>3234</td>\n",
       "    </tr>\n",
       "    <tr>\n",
       "      <th>275</th>\n",
       "      <td>46</td>\n",
       "      <td>productivity</td>\n",
       "      <td>If time is most precious, this collection of l...</td>\n",
       "      <td>57504</td>\n",
       "      <td>3696</td>\n",
       "    </tr>\n",
       "    <tr>\n",
       "      <th>151</th>\n",
       "      <td>171</td>\n",
       "      <td>lifehacks</td>\n",
       "      <td>Save time, money, and headaches. There are all...</td>\n",
       "      <td>49466</td>\n",
       "      <td>1872</td>\n",
       "    </tr>\n",
       "    <tr>\n",
       "      <th>228</th>\n",
       "      <td>93</td>\n",
       "      <td>user-experience</td>\n",
       "      <td>NaN</td>\n",
       "      <td>47680</td>\n",
       "      <td>1381</td>\n",
       "    </tr>\n",
       "    <tr>\n",
       "      <th>158</th>\n",
       "      <td>164</td>\n",
       "      <td>marketing</td>\n",
       "      <td>Having a killer product is essential, but it's...</td>\n",
       "      <td>40663</td>\n",
       "      <td>2527</td>\n",
       "    </tr>\n",
       "    <tr>\n",
       "      <th>277</th>\n",
       "      <td>44</td>\n",
       "      <td>design-tools</td>\n",
       "      <td>Design is more than just pretty pixels (no off...</td>\n",
       "      <td>39119</td>\n",
       "      <td>2158</td>\n",
       "    </tr>\n",
       "    <tr>\n",
       "      <th>91</th>\n",
       "      <td>232</td>\n",
       "      <td>internet-of-things</td>\n",
       "      <td>Connect everything to the internet, from your ...</td>\n",
       "      <td>37294</td>\n",
       "      <td>903</td>\n",
       "    </tr>\n",
       "    <tr>\n",
       "      <th>274</th>\n",
       "      <td>47</td>\n",
       "      <td>get-shit-done</td>\n",
       "      <td>Quit procastinating and just do it already. Se...</td>\n",
       "      <td>35832</td>\n",
       "      <td>1338</td>\n",
       "    </tr>\n",
       "    <tr>\n",
       "      <th>213</th>\n",
       "      <td>108</td>\n",
       "      <td>analytics</td>\n",
       "      <td>You can't (accurately) improve things you can'...</td>\n",
       "      <td>30140</td>\n",
       "      <td>1145</td>\n",
       "    </tr>\n",
       "    <tr>\n",
       "      <th>62</th>\n",
       "      <td>261</td>\n",
       "      <td>wearables</td>\n",
       "      <td>From dog collars to wrist watches, there's wea...</td>\n",
       "      <td>28566</td>\n",
       "      <td>609</td>\n",
       "    </tr>\n",
       "    <tr>\n",
       "      <th>300</th>\n",
       "      <td>19</td>\n",
       "      <td>mac</td>\n",
       "      <td>The legendary foundations of Apple Computers. ...</td>\n",
       "      <td>28354</td>\n",
       "      <td>2860</td>\n",
       "    </tr>\n",
       "    <tr>\n",
       "      <th>117</th>\n",
       "      <td>206</td>\n",
       "      <td>growth-hacking</td>\n",
       "      <td>We're all looking for the hockey stick. Here a...</td>\n",
       "      <td>26512</td>\n",
       "      <td>949</td>\n",
       "    </tr>\n",
       "    <tr>\n",
       "      <th>55</th>\n",
       "      <td>268</td>\n",
       "      <td>artificial-intelligence</td>\n",
       "      <td>A.I. helps save us time and scale personalized...</td>\n",
       "      <td>25732</td>\n",
       "      <td>824</td>\n",
       "    </tr>\n",
       "    <tr>\n",
       "      <th>13</th>\n",
       "      <td>342</td>\n",
       "      <td>bots</td>\n",
       "      <td>There’s a bot for just about everything, from ...</td>\n",
       "      <td>25483</td>\n",
       "      <td>1006</td>\n",
       "    </tr>\n",
       "    <tr>\n",
       "      <th>297</th>\n",
       "      <td>22</td>\n",
       "      <td>slack</td>\n",
       "      <td>Real-time chat with everyone. Use it with your...</td>\n",
       "      <td>25344</td>\n",
       "      <td>696</td>\n",
       "    </tr>\n",
       "    <tr>\n",
       "      <th>233</th>\n",
       "      <td>88</td>\n",
       "      <td>apis</td>\n",
       "      <td>There's an API (Application Program Interface)...</td>\n",
       "      <td>23876</td>\n",
       "      <td>857</td>\n",
       "    </tr>\n",
       "    <tr>\n",
       "      <th>310</th>\n",
       "      <td>8</td>\n",
       "      <td>iphone</td>\n",
       "      <td>The beloved \"phone\" that changed the way we co...</td>\n",
       "      <td>22523</td>\n",
       "      <td>11276</td>\n",
       "    </tr>\n",
       "    <tr>\n",
       "      <th>298</th>\n",
       "      <td>21</td>\n",
       "      <td>web</td>\n",
       "      <td>You know that place with all those cat pics an...</td>\n",
       "      <td>20957</td>\n",
       "      <td>12724</td>\n",
       "    </tr>\n",
       "    <tr>\n",
       "      <th>238</th>\n",
       "      <td>83</td>\n",
       "      <td>photography-tools</td>\n",
       "      <td>Put your best face forward with this collectio...</td>\n",
       "      <td>19186</td>\n",
       "      <td>571</td>\n",
       "    </tr>\n",
       "    <tr>\n",
       "      <th>215</th>\n",
       "      <td>106</td>\n",
       "      <td>smart-home</td>\n",
       "      <td>Live in the future (literally). Connect everyt...</td>\n",
       "      <td>18290</td>\n",
       "      <td>517</td>\n",
       "    </tr>\n",
       "  </tbody>\n",
       "</table>\n",
       "</div>"
      ],
      "text/plain": [
       "      id                     name  \\\n",
       "56   267          developer-tools   \n",
       "275   46             productivity   \n",
       "151  171                lifehacks   \n",
       "228   93          user-experience   \n",
       "158  164                marketing   \n",
       "277   44             design-tools   \n",
       "91   232       internet-of-things   \n",
       "274   47            get-shit-done   \n",
       "213  108                analytics   \n",
       "62   261                wearables   \n",
       "300   19                      mac   \n",
       "117  206           growth-hacking   \n",
       "55   268  artificial-intelligence   \n",
       "13   342                     bots   \n",
       "297   22                    slack   \n",
       "233   88                     apis   \n",
       "310    8                   iphone   \n",
       "298   21                      web   \n",
       "238   83        photography-tools   \n",
       "215  106               smart-home   \n",
       "\n",
       "                                           description  num_followers  \\\n",
       "56   Writing code is hard. So we make software to h...          57897   \n",
       "275  If time is most precious, this collection of l...          57504   \n",
       "151  Save time, money, and headaches. There are all...          49466   \n",
       "228                                                NaN          47680   \n",
       "158  Having a killer product is essential, but it's...          40663   \n",
       "277  Design is more than just pretty pixels (no off...          39119   \n",
       "91   Connect everything to the internet, from your ...          37294   \n",
       "274  Quit procastinating and just do it already. Se...          35832   \n",
       "213  You can't (accurately) improve things you can'...          30140   \n",
       "62   From dog collars to wrist watches, there's wea...          28566   \n",
       "300  The legendary foundations of Apple Computers. ...          28354   \n",
       "117  We're all looking for the hockey stick. Here a...          26512   \n",
       "55   A.I. helps save us time and scale personalized...          25732   \n",
       "13   There’s a bot for just about everything, from ...          25483   \n",
       "297  Real-time chat with everyone. Use it with your...          25344   \n",
       "233  There's an API (Application Program Interface)...          23876   \n",
       "310  The beloved \"phone\" that changed the way we co...          22523   \n",
       "298  You know that place with all those cat pics an...          20957   \n",
       "238  Put your best face forward with this collectio...          19186   \n",
       "215  Live in the future (literally). Connect everyt...          18290   \n",
       "\n",
       "     num_posts  \n",
       "56        3234  \n",
       "275       3696  \n",
       "151       1872  \n",
       "228       1381  \n",
       "158       2527  \n",
       "277       2158  \n",
       "91         903  \n",
       "274       1338  \n",
       "213       1145  \n",
       "62         609  \n",
       "300       2860  \n",
       "117        949  \n",
       "55         824  \n",
       "13        1006  \n",
       "297        696  \n",
       "233        857  \n",
       "310      11276  \n",
       "298      12724  \n",
       "238        571  \n",
       "215        517  "
      ]
     },
     "execution_count": 194,
     "metadata": {},
     "output_type": "execute_result"
    }
   ],
   "source": [
    "topics.sort('num_followers')[::-1][0:20]['description']"
   ]
  },
  {
   "cell_type": "code",
   "execution_count": 247,
   "metadata": {
    "collapsed": false
   },
   "outputs": [
    {
     "name": "stderr",
     "output_type": "stream",
     "text": [
      "/home/joanna/anaconda2/lib/python2.7/site-packages/ipykernel/__main__.py:1: FutureWarning: sort(columns=....) is deprecated, use sort_values(by=.....)\n",
      "  if __name__ == '__main__':\n"
     ]
    },
    {
     "data": {
      "text/plain": [
       "['developer-tools',\n",
       " 'productivity',\n",
       " 'lifehacks',\n",
       " 'user-experience',\n",
       " 'marketing',\n",
       " 'design-tools',\n",
       " 'internet-of-things',\n",
       " 'get-shit-done',\n",
       " 'analytics',\n",
       " 'wearables',\n",
       " 'mac',\n",
       " 'growth-hacking',\n",
       " 'artificial-intelligence',\n",
       " 'bots',\n",
       " 'slack',\n",
       " 'apis',\n",
       " 'iphone',\n",
       " 'web',\n",
       " 'photography-tools',\n",
       " 'smart-home']"
      ]
     },
     "execution_count": 247,
     "metadata": {},
     "output_type": "execute_result"
    }
   ],
   "source": [
    "top20_topics = list(topics.sort('num_followers')[::-1][0:20]['name'])\n",
    "top20_topics"
   ]
  },
  {
   "cell_type": "code",
   "execution_count": 203,
   "metadata": {
    "collapsed": false
   },
   "outputs": [
    {
     "name": "stderr",
     "output_type": "stream",
     "text": [
      "/home/joanna/anaconda2/lib/python2.7/site-packages/ipykernel/__main__.py:1: FutureWarning: sort(columns=....) is deprecated, use sort_values(by=.....)\n",
      "  if __name__ == '__main__':\n"
     ]
    }
   ],
   "source": [
    "x = list(topics.sort('num_followers')[::-1][0:20].name)"
   ]
  },
  {
   "cell_type": "code",
   "execution_count": 227,
   "metadata": {
    "collapsed": false
   },
   "outputs": [
    {
     "name": "stderr",
     "output_type": "stream",
     "text": [
      "/home/joanna/anaconda2/lib/python2.7/site-packages/ipykernel/__main__.py:1: FutureWarning: sort(columns=....) is deprecated, use sort_values(by=.....)\n",
      "  if __name__ == '__main__':\n"
     ]
    }
   ],
   "source": [
    "y = list(topics.sort('num_followers')[::-1][0:20].num_followers/(topics.num_followers.sum()*1.0))"
   ]
  },
  {
   "cell_type": "code",
   "execution_count": 232,
   "metadata": {
    "collapsed": false
   },
   "outputs": [
    {
     "data": {
      "text/plain": [
       "1145812"
      ]
     },
     "execution_count": 232,
     "metadata": {},
     "output_type": "execute_result"
    }
   ],
   "source": [
    "topics.num_followers.sum()"
   ]
  },
  {
   "cell_type": "code",
   "execution_count": 237,
   "metadata": {
    "collapsed": false
   },
   "outputs": [
    {
     "data": {
      "text/plain": [
       "<matplotlib.text.Text at 0x7ff9501e2110>"
      ]
     },
     "execution_count": 237,
     "metadata": {},
     "output_type": "execute_result"
    },
    {
     "data": {
      "image/png": "[encoded data removed]",
      "text/plain": [
       "<matplotlib.figure.Figure at 0x7ff9503a2e50>"
      ]
     },
     "metadata": {},
     "output_type": "display_data"
    }
   ],
   "source": [
    "plt.bar(range(len(y)), y, color='pink')\n",
    "plt.xticks(range(len(y)), x, rotation=45 );\n",
    "plt.xlabel('top 20 topics')\n",
    "plt.ylabel('number of followers per topic')\n",
    "plt.title('top 20 topics vs total 1145812 followers')"
   ]
  },
  {
   "cell_type": "code",
   "execution_count": 239,
   "metadata": {
    "collapsed": false
   },
   "outputs": [
    {
     "data": {
      "text/plain": [
       "194338"
      ]
     },
     "execution_count": 239,
     "metadata": {},
     "output_type": "execute_result"
    }
   ],
   "source": [
    "topics.num_posts.sum()"
   ]
  },
  {
   "cell_type": "code",
   "execution_count": 229,
   "metadata": {
    "collapsed": false
   },
   "outputs": [
    {
     "name": "stderr",
     "output_type": "stream",
     "text": [
      "/home/joanna/anaconda2/lib/python2.7/site-packages/ipykernel/__main__.py:1: FutureWarning: sort(columns=....) is deprecated, use sort_values(by=.....)\n",
      "  if __name__ == '__main__':\n"
     ]
    }
   ],
   "source": [
    "z = list(topics.sort('num_followers')[::-1][0:20].num_posts/(topics.num_posts.sum()*1.0))"
   ]
  },
  {
   "cell_type": "code",
   "execution_count": 240,
   "metadata": {
    "collapsed": false
   },
   "outputs": [
    {
     "data": {
      "text/plain": [
       "<matplotlib.text.Text at 0x7ff950377310>"
      ]
     },
     "execution_count": 240,
     "metadata": {},
     "output_type": "execute_result"
    },
    {
     "data": {
      "image/png": "[encoded data removed]",
      "text/plain": [
       "<matplotlib.figure.Figure at 0x7ff95031fc90>"
      ]
     },
     "metadata": {},
     "output_type": "display_data"
    }
   ],
   "source": [
    "plt.bar(range(len(z)), z, color='pink')\n",
    "plt.xticks(range(len(z)), x, rotation=45 );\n",
    "plt.xlabel('top 20 topics')\n",
    "plt.ylabel('number of products per topic')\n",
    "plt.title('top 20 topics vs 194338 products')"
   ]
  },
  {
   "cell_type": "code",
   "execution_count": 219,
   "metadata": {
    "collapsed": true
   },
   "outputs": [],
   "source": [
   
   ]
  },
  {
   "cell_type": "code",
   "execution_count": null,
   "metadata": {
    "collapsed": true
   },
   "outputs": [],
   "source": []
  }
 ],
 "metadata": {
  "anaconda-cloud": {},
  "kernelspec": {
   "display_name": "Python [conda root]",
   "language": "python",
   "name": "conda-root-py"
  },
  "language_info": {
   "codemirror_mode": {
    "name": "ipython",
    "version": 2
   },
   "file_extension": ".py",
   "mimetype": "text/x-python",
   "name": "python",
   "nbconvert_exporter": "python",
   "pygments_lexer": "ipython2",
   "version": "2.7.13"
  }
 },
 "nbformat": 4,
 "nbformat_minor": 2
}
